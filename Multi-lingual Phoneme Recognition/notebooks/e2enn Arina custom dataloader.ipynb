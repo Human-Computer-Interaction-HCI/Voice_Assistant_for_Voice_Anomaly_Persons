{
 "cells": [
  {
   "cell_type": "code",
   "execution_count": 1,
   "metadata": {
    "id": "t8hxdLWb_Rpd"
   },
   "outputs": [],
   "source": [
    "data = '/home/boris/projects/VoiceSpeaker/Multi-lingual Phoneme Recognition/data/raw_kaggle/Speeches.xlsx'"
   ]
  },
  {
   "cell_type": "code",
   "execution_count": 2,
   "metadata": {
    "id": "Ry4Dpt7o_Rpg"
   },
   "outputs": [],
   "source": [
    "import math\n",
    "import os\n",
    "\n",
    "import jiwer\n",
    "from matplotlib import pyplot as plt\n",
    "import pandas as pd\n",
    "import torch\n",
    "from torch import nn\n",
    "from torch.utils.data import DataLoader\n",
    "import librosa\n",
    "\n",
    "import torchaudio"
   ]
  },
  {
   "cell_type": "markdown",
   "metadata": {
    "id": "eqDkG6V2_Rph"
   },
   "source": [
    "# Data loading"
   ]
  },
  {
   "cell_type": "code",
   "execution_count": 3,
   "metadata": {
    "id": "kthEq-rH_Rpj"
   },
   "outputs": [],
   "source": [
    "BATCH_SIZE = 4"
   ]
  },
  {
   "cell_type": "code",
   "execution_count": 4,
   "metadata": {
    "id": "7ET-LsWA_Rpj"
   },
   "outputs": [
    {
     "data": {
      "text/html": [
       "<div>\n",
       "<style scoped>\n",
       "    .dataframe tbody tr th:only-of-type {\n",
       "        vertical-align: middle;\n",
       "    }\n",
       "\n",
       "    .dataframe tbody tr th {\n",
       "        vertical-align: top;\n",
       "    }\n",
       "\n",
       "    .dataframe thead th {\n",
       "        text-align: right;\n",
       "    }\n",
       "</style>\n",
       "<table border=\"1\" class=\"dataframe\">\n",
       "  <thead>\n",
       "    <tr style=\"text-align: right;\">\n",
       "      <th></th>\n",
       "      <th>Число</th>\n",
       "      <th>Русская речь</th>\n",
       "    </tr>\n",
       "  </thead>\n",
       "  <tbody>\n",
       "    <tr>\n",
       "      <th>0</th>\n",
       "      <td>1</td>\n",
       "      <td>Как пройти до корпуса?</td>\n",
       "    </tr>\n",
       "    <tr>\n",
       "      <th>1</th>\n",
       "      <td>2</td>\n",
       "      <td>Где взять направление?</td>\n",
       "    </tr>\n",
       "    <tr>\n",
       "      <th>2</th>\n",
       "      <td>3</td>\n",
       "      <td>Бумага есть</td>\n",
       "    </tr>\n",
       "    <tr>\n",
       "      <th>3</th>\n",
       "      <td>4</td>\n",
       "      <td>анальгин</td>\n",
       "    </tr>\n",
       "    <tr>\n",
       "      <th>4</th>\n",
       "      <td>5</td>\n",
       "      <td>вата</td>\n",
       "    </tr>\n",
       "  </tbody>\n",
       "</table>\n",
       "</div>"
      ],
      "text/plain": [
       "   Число            Русская речь\n",
       "0      1  Как пройти до корпуса?\n",
       "1      2  Где взять направление?\n",
       "2      3             Бумага есть\n",
       "3      4                анальгин\n",
       "4      5                    вата"
      ]
     },
     "execution_count": 4,
     "metadata": {},
     "output_type": "execute_result"
    }
   ],
   "source": [
    "df = pd.read_excel(data)\n",
    "df.head()"
   ]
  },
  {
   "cell_type": "code",
   "execution_count": 5,
   "metadata": {},
   "outputs": [],
   "source": [
    "import subprocess\n",
    "def get_audio_path(i: int) -> str | bool:\n",
    "    candidates = [\n",
    "        '/home/boris/projects/VoiceSpeaker/Multi-lingual Phoneme Recognition/data/Борис. Фразы(0-100)/{}.m4a'.format(i),\n",
    "        '/home/boris/projects/VoiceSpeaker/Multi-lingual Phoneme Recognition/data/Борис. Фразы(101-238/{}.m4a'.format(i),\n",
    "        '/home/boris/projects/VoiceSpeaker/Multi-lingual Phoneme Recognition/data/Борис. Фразы(239-399)/{}.m4a'.format(i),\n",
    "    ]\n",
    "    for path in candidates:\n",
    "        if os.path.exists(path):\n",
    "            if not os.path.exists(path+'.wav'):\n",
    "                subprocess.run(['ffmpeg', '-i', path, path+'.wav'])\n",
    "            return path+'.wav'\n",
    "    return False\n",
    "def get_audio(path: str):\n",
    "    return torch.Tensor(librosa.load(path, sr=16000)[0]).view(1,-1)"
   ]
  },
  {
   "cell_type": "code",
   "execution_count": 6,
   "metadata": {},
   "outputs": [
    {
     "data": {
      "text/plain": [
       "False"
      ]
     },
     "execution_count": 6,
     "metadata": {},
     "output_type": "execute_result"
    }
   ],
   "source": [
    "get_audio_path(4)"
   ]
  },
  {
   "cell_type": "code",
   "execution_count": 7,
   "metadata": {},
   "outputs": [],
   "source": [
    "missed_files = []\n",
    "for i in df.iterrows():\n",
    "    num = i[0]\n",
    "    if not get_audio_path(num):\n",
    "        missed_files.append(num)\n",
    "# missed_files"
   ]
  },
  {
   "cell_type": "code",
   "execution_count": 8,
   "metadata": {},
   "outputs": [
    {
     "data": {
      "text/plain": [
       "0.8025"
      ]
     },
     "execution_count": 8,
     "metadata": {},
     "output_type": "execute_result"
    }
   ],
   "source": [
    "len(missed_files)/len(df)"
   ]
  },
  {
   "cell_type": "code",
   "execution_count": 9,
   "metadata": {},
   "outputs": [
    {
     "data": {
      "text/plain": [
       "0"
      ]
     },
     "execution_count": 9,
     "metadata": {},
     "output_type": "execute_result"
    }
   ],
   "source": [
    "missed_files[0]"
   ]
  },
  {
   "cell_type": "code",
   "execution_count": 10,
   "metadata": {},
   "outputs": [],
   "source": [
    "batch_to_loss = {}"
   ]
  },
  {
   "cell_type": "code",
   "execution_count": 11,
   "metadata": {},
   "outputs": [],
   "source": [
    "\n",
    "for i in missed_files:\n",
    "    df = df[df['Число']!=i]\n"
   ]
  },
  {
   "cell_type": "code",
   "execution_count": 12,
   "metadata": {},
   "outputs": [],
   "source": [
    "df.reset_index(inplace=True, drop=True)"
   ]
  },
  {
   "cell_type": "code",
   "execution_count": 13,
   "metadata": {},
   "outputs": [
    {
     "data": {
      "text/html": [
       "<div>\n",
       "<style scoped>\n",
       "    .dataframe tbody tr th:only-of-type {\n",
       "        vertical-align: middle;\n",
       "    }\n",
       "\n",
       "    .dataframe tbody tr th {\n",
       "        vertical-align: top;\n",
       "    }\n",
       "\n",
       "    .dataframe thead th {\n",
       "        text-align: right;\n",
       "    }\n",
       "</style>\n",
       "<table border=\"1\" class=\"dataframe\">\n",
       "  <thead>\n",
       "    <tr style=\"text-align: right;\">\n",
       "      <th></th>\n",
       "      <th>Число</th>\n",
       "      <th>Русская речь</th>\n",
       "    </tr>\n",
       "  </thead>\n",
       "  <tbody>\n",
       "    <tr>\n",
       "      <th>0</th>\n",
       "      <td>5</td>\n",
       "      <td>вата</td>\n",
       "    </tr>\n",
       "    <tr>\n",
       "      <th>1</th>\n",
       "      <td>7</td>\n",
       "      <td>Где преподаватель?</td>\n",
       "    </tr>\n",
       "    <tr>\n",
       "      <th>2</th>\n",
       "      <td>19</td>\n",
       "      <td>Столовая прямо по коридору</td>\n",
       "    </tr>\n",
       "    <tr>\n",
       "      <th>3</th>\n",
       "      <td>23</td>\n",
       "      <td>Лабиринт</td>\n",
       "    </tr>\n",
       "    <tr>\n",
       "      <th>4</th>\n",
       "      <td>29</td>\n",
       "      <td>Ограничения</td>\n",
       "    </tr>\n",
       "  </tbody>\n",
       "</table>\n",
       "</div>"
      ],
      "text/plain": [
       "   Число                Русская речь\n",
       "0      5                        вата\n",
       "1      7          Где преподаватель?\n",
       "2     19  Столовая прямо по коридору\n",
       "3     23                    Лабиринт\n",
       "4     29                 Ограничения"
      ]
     },
     "execution_count": 13,
     "metadata": {},
     "output_type": "execute_result"
    }
   ],
   "source": [
    "df.head()"
   ]
  },
  {
   "cell_type": "code",
   "execution_count": 14,
   "metadata": {},
   "outputs": [
    {
     "data": {
      "text/plain": [
       "(array([-8.8853506e-07,  1.1100863e-06, -1.5497349e-06, ...,\n",
       "         6.3932021e-05,  6.5215681e-07, -2.0521853e-05], dtype=float32),\n",
       " 22050)"
      ]
     },
     "execution_count": 14,
     "metadata": {},
     "output_type": "execute_result"
    }
   ],
   "source": [
    "librosa.load(get_audio_path(23))"
   ]
  },
  {
   "cell_type": "code",
   "execution_count": 25,
   "metadata": {},
   "outputs": [],
   "source": [
    "class SpeechDataset(torch.utils.data.Dataset):\n",
    "    def __init__(self, df: pd.DataFrame, start=0, end=2000):\n",
    "        self.df = df\n",
    "        self.start=start\n",
    "        self.end=end\n",
    "    def __len__(self):\n",
    "        return self.end - self.start\n",
    "    def __getitem__(self, idx: int):\n",
    "        new_idx = idx+self.start\n",
    "        return idx, get_audio(get_audio_path(self.df[\"Число\"][new_idx])), self.df[\"Русская речь\"][new_idx]\n",
    "abc = '?абвгдеёжзийклмнопрстуфхшщчцьыъэюя'\n",
    "def collate_spl(batch):\n",
    "    wfs, lbls, idxs = [], [], []\n",
    "    for k, i,j in batch:\n",
    "        wfs.append(i)\n",
    "        lbls.append(j)\n",
    "        idxs.append(k)\n",
    "    \n",
    "    return  idxs, wfs, lbls\n",
    "def clear_str(s): return ''.join(i for i in s.lower() if i in abc)"
   ]
  },
  {
   "cell_type": "code",
   "execution_count": 26,
   "metadata": {},
   "outputs": [],
   "source": [
    "def str_to_tensor(strs: list[str])->tuple[torch.Tensor, torch.Tensor]:\n",
    "    lengths = torch.zeros((len(strs),), dtype=int)\n",
    "    result = []\n",
    "    for idx, i in enumerate(strs):\n",
    "        result.append([abc.index(j) for j in i.lower() if j in abc[1:]])\n",
    "        lengths[idx] = len(result[-1])\n",
    "    res_tensor = torch.zeros((len(strs), lengths.max().item()))\n",
    "    for idx0, i in enumerate(result):\n",
    "        for idx1, c in enumerate(i):\n",
    "            res_tensor[idx0, idx1] = c\n",
    "    return res_tensor, lengths"
   ]
  },
  {
   "cell_type": "code",
   "execution_count": 27,
   "metadata": {},
   "outputs": [
    {
     "name": "stderr",
     "output_type": "stream",
     "text": [
      "/home/boris/projects/VoiceSpeaker/Multi-lingual Phoneme Recognition/venv/lib/python3.11/site-packages/torchaudio/functional/functional.py:584: UserWarning: At least one mel filterbank has all zero values. The value for `n_mels` (128) may be set too high. Or, the value for `n_freqs` (201) may be set too low.\n",
      "  warnings.warn(\n"
     ]
    }
   ],
   "source": [
    "train_transforms = torchaudio.transforms.MelSpectrogram(\n",
    "    n_mels=128\n",
    "    )"
   ]
  },
  {
   "cell_type": "code",
   "execution_count": 28,
   "metadata": {},
   "outputs": [
    {
     "data": {
      "image/png": "[encoded data removed]",
      "text/plain": [
       "<Figure size 640x480 with 16 Axes>"
      ]
     },
     "metadata": {},
     "output_type": "display_data"
    }
   ],
   "source": [
    "fig, axs = plt.subplots(4,4, layout='compressed')\n",
    "k = 0\n",
    "for i in range(4):\n",
    "    for j in range(4):\n",
    "        while True:\n",
    "            p = get_audio_path(k)\n",
    "            k += 1\n",
    "            if   p:\n",
    "                break\n",
    "        wf = get_audio(p)\n",
    "        axs[i,j].set_axis_off()\n",
    "        axs[j,i].imshow(train_transforms(wf)[0])"
   ]
  },
  {
   "cell_type": "code",
   "execution_count": 29,
   "metadata": {},
   "outputs": [
    {
     "data": {
      "text/plain": [
       "396"
      ]
     },
     "execution_count": 29,
     "metadata": {},
     "output_type": "execute_result"
    }
   ],
   "source": [
    "len(df)"
   ]
  },
  {
   "cell_type": "code",
   "execution_count": 30,
   "metadata": {},
   "outputs": [],
   "source": [
    "device = torch.device('cuda:0' if torch.cuda.is_available() else 'cpu')"
   ]
  },
  {
   "cell_type": "code",
   "execution_count": 31,
   "metadata": {},
   "outputs": [],
   "source": [
    "train_df = SpeechDataset(df, 0, 300)\n",
    "val_df = SpeechDataset(df, 300, 395)"
   ]
  },
  {
   "cell_type": "code",
   "execution_count": 32,
   "metadata": {},
   "outputs": [],
   "source": [
    "def padded_stack(list_of_tensors, maxlen=16):\n",
    "    maxlen = max(x.shape[1] for x in list_of_tensors)\n",
    "    output = torch.zeros((len(list_of_tensors), maxlen, list_of_tensors[0].shape[-1]))\n",
    "    for i, t in enumerate(list_of_tensors):\n",
    "        output[i, :min(maxlen, t.shape[1]), :] = t[0,:maxlen, :]\n",
    "    return output"
   ]
  },
  {
   "cell_type": "code",
   "execution_count": 96,
   "metadata": {},
   "outputs": [],
   "source": [
    "class WorstFirstSampler:\n",
    "    def __init__(self, ds_len: int, batch_size: int):\n",
    "        self.ds_len = ds_len\n",
    "        self.batch_size = batch_size\n",
    "        self.losses = [float('inf') for i in range(ds_len)]\n",
    "    \n",
    "    def __len__(self):\n",
    "        return self.ds_len//self.batch_size\n",
    "\n",
    "    def __iter__(self):\n",
    "        for _ in range(self.ds_len//self.batch_size):\n",
    "            r=[]\n",
    "            for i in range(self.batch_size):\n",
    "                r.append(self.losses.index(max(self.losses)))\n",
    "                self.losses[r[-1]] = float('-inf')\n",
    "            yield r\n",
    "    def update(self, ixs, new_loss):\n",
    "        for i in ixs:\n",
    "            self.losses[i] = new_loss"
   ]
  },
  {
   "cell_type": "code",
   "execution_count": 97,
   "metadata": {},
   "outputs": [],
   "source": [
    "train_sampler = WorstFirstSampler(len(train_df), BATCH_SIZE)\n",
    "train_dataloader = DataLoader(train_df, collate_fn=collate_spl,batch_sampler=train_sampler)\n",
    "val_dataloader = DataLoader(val_df, batch_size=BATCH_SIZE, collate_fn=collate_spl, shuffle=True)"
   ]
  },
  {
   "cell_type": "code",
   "execution_count": 98,
   "metadata": {},
   "outputs": [],
   "source": [
    "# import random\n",
    "# for i in train_dataloader:\n",
    "#     print(i[0])\n",
    "#     train_sampler.update(i[0], random.random())"
   ]
  },
  {
   "cell_type": "code",
   "execution_count": 99,
   "metadata": {},
   "outputs": [],
   "source": [
    "class ResidualBlock(nn.Module):\n",
    "    def __init__(self, in_channels, hidden_channels, kernel_size, stride, padding):\n",
    "        super().__init__()\n",
    "        self.conv1 = nn.Conv1d(in_channels, hidden_channels, kernel_size, stride, padding)\n",
    "        self.conv2 = nn.Conv1d(hidden_channels, in_channels, kernel_size, stride, padding)\n",
    "        self.relu = nn.ReLU()\n",
    "        self.batchnorm1 = nn.BatchNorm1d(hidden_channels)\n",
    "        self.batchnorm2 = nn.BatchNorm1d(in_channels)\n",
    "        self.dropout = nn.Dropout(0.2)\n",
    "    def forward(self, x):\n",
    "        out = self.conv1(x)\n",
    "        out = self.batchnorm1(out)\n",
    "        out = self.relu(out)\n",
    "        out = self.dropout(out)\n",
    "        out = self.conv2(out)\n",
    "        out = self.batchnorm2(out)\n",
    "        out = self.relu(out)\n",
    "        out = self.dropout(out)\n",
    "        return out + x\n",
    "                \n",
    "\n",
    "\n",
    "class Model(nn.Module):\n",
    "    def __init__(self):\n",
    "        super().__init__()\n",
    "        \n",
    "        self.cnn = nn.Sequential(\n",
    "            nn.Conv1d(in_channels=128, out_channels=64, kernel_size=3, padding=1),\n",
    "            nn.BatchNorm1d(64),\n",
    "            nn.Dropout1d(0.1),\n",
    "            nn.MaxPool1d(2),\n",
    "            ResidualBlock(64, 128, 3, 1, 1),\n",
    "            nn.Conv1d(in_channels=64, out_channels=32, kernel_size=3, padding=1),\n",
    "            nn.BatchNorm1d(32),\n",
    "            nn.Dropout1d(0.1),\n",
    "            nn.MaxPool1d(2),\n",
    "        )\n",
    "        self.rnn = nn.GRU(input_size=32, \n",
    "                    hidden_size=32, \n",
    "                    num_layers=1, \n",
    "                    batch_first=True, \n",
    "                    bidirectional=True)\n",
    "        \n",
    "        self.fc = nn.Linear(64, 34)\n",
    "        self.act = nn.LogSoftmax(-1)\n",
    "    \n",
    "    def forward(self, X):\n",
    "        # X: batch x 128 x len\n",
    "        # X = X[:,:,::4] \n",
    "        X = self.cnn(X)\n",
    "        X = X.permute(0,2,1)\n",
    "        X, _ = self.rnn(X)\n",
    "        X = self.fc(X)\n",
    "        X = self.act(X)\n",
    "        return X\n",
    "\n",
    "model=Model().to(device)"
   ]
  },
  {
   "cell_type": "code",
   "execution_count": 100,
   "metadata": {},
   "outputs": [
    {
     "name": "stdout",
     "output_type": "stream",
     "text": [
      "params:  95618\n"
     ]
    }
   ],
   "source": [
    "print('params: ', sum(i.nelement() for i in model.parameters()))"
   ]
  },
  {
   "cell_type": "code",
   "execution_count": 101,
   "metadata": {},
   "outputs": [],
   "source": [
    "loss = nn.CTCLoss(zero_infinity=True)\n",
    "optimizer = torch.optim.Adam(model.parameters())"
   ]
  },
  {
   "cell_type": "code",
   "execution_count": 102,
   "metadata": {},
   "outputs": [],
   "source": [
    "def get_y_lengths(y):\n",
    "    return torch.ones(y.shape[0], dtype=int)*y.shape[-2]"
   ]
  },
  {
   "cell_type": "code",
   "execution_count": 103,
   "metadata": {},
   "outputs": [],
   "source": [
    "import tqdm"
   ]
  },
  {
   "cell_type": "code",
   "execution_count": 104,
   "metadata": {},
   "outputs": [],
   "source": [
    "def train_step():\n",
    "    history = [0]\n",
    "    model.train()\n",
    "    i=0\n",
    "    r=[]\n",
    "    target = []\n",
    "    optimizer.zero_grad()\n",
    "    for batch in tqdm.tqdm(train_dataloader):\n",
    "        i+=1\n",
    "        spectrograms = [train_transforms(i).permute(0,2,1) for i in batch[1]]\n",
    "        spectrograms = padded_stack(spectrograms).permute(0,2,1) # baatch x features x len\n",
    "        target_t, target_len = str_to_tensor(batch[2])\n",
    "        target.append([clear_str(i) for i in batch[2]])\n",
    "        output = model(spectrograms.to(device))\n",
    "        lv = loss(output.permute(1,0,2), target_t.to(device), get_y_lengths(output), target_len)\n",
    "        lve= torch.exp(lv).item()\n",
    "        train_sampler.update(batch[0], lve)\n",
    "        history.append(lve)\n",
    "        r.append(output.argmax(-1))\n",
    "        \n",
    "        lv.backward()\n",
    "        if i%1==0:\n",
    "            optimizer.step()\n",
    "            optimizer.zero_grad()\n",
    "    return history, r, target\n",
    "# hist, r, target = train_step()"
   ]
  },
  {
   "cell_type": "code",
   "execution_count": 105,
   "metadata": {},
   "outputs": [
    {
     "name": "stderr",
     "output_type": "stream",
     "text": [
      "100%|██████████| 75/75 [00:02<00:00, 27.90it/s]\n"
     ]
    }
   ],
   "source": [
    "hist, r, target = train_step()"
   ]
  },
  {
   "cell_type": "code",
   "execution_count": 106,
   "metadata": {},
   "outputs": [],
   "source": [
    "def val_step():\n",
    "    history = [0]\n",
    "    model.eval()\n",
    "    i=0\n",
    "    r=[]\n",
    "    target = []\n",
    "    for batch in tqdm.tqdm(val_dataloader):\n",
    "        i+=1\n",
    "        spectrograms = [train_transforms(i).permute(0,2,1) for i in batch[1]]\n",
    "        spectrograms = padded_stack(spectrograms).permute(0,2,1) # baatch x features x len\n",
    "        target.append([clear_str(i) for i in batch[2]])\n",
    "        target_t, target_len = str_to_tensor(batch[2])\n",
    "        output = model(spectrograms.to(device))\n",
    "        lv = loss(output.permute(1,0,2), target_t.to(device), get_y_lengths(output), target_len)\n",
    "        lve= torch.exp(lv).item()\n",
    "        history.append(lve)\n",
    "        r.append(output.argmax(-1))\n",
    "        \n",
    "    return history, r, target\n",
    "# hist, r, arget = val_step()"
   ]
  },
  {
   "cell_type": "code",
   "execution_count": 119,
   "metadata": {},
   "outputs": [
    {
     "name": "stderr",
     "output_type": "stream",
     "text": [
      "100%|██████████| 24/24 [00:01<00:00, 20.17it/s]\n"
     ]
    }
   ],
   "source": [
    "history, r, target=val_step()"
   ]
  },
  {
   "cell_type": "code",
   "execution_count": 108,
   "metadata": {},
   "outputs": [],
   "source": [
    "def show_batch(r, target):\n",
    "    am = r\n",
    "    for i in range(min(am.shape[0], len(target))):\n",
    "        p=0\n",
    "        s=''\n",
    "        for j in range(am.shape[1]):\n",
    "            if (c:=am[i,j]) not in [0, p]:\n",
    "                s+=abc[c]\n",
    "                p=c\n",
    "        \n",
    "        print(s, '/', target[i], 'cer: ', jiwer.cer(s, target[i]) if len(s)>0 else -1)"
   ]
  },
  {
   "cell_type": "code",
   "execution_count": 109,
   "metadata": {},
   "outputs": [
    {
     "data": {
      "text/plain": [
       "torch.Size([3, 243])"
      ]
     },
     "execution_count": 109,
     "metadata": {},
     "output_type": "execute_result"
    }
   ],
   "source": [
    "r[-1].shape"
   ]
  },
  {
   "cell_type": "code",
   "execution_count": 120,
   "metadata": {},
   "outputs": [
    {
     "name": "stdout",
     "output_type": "stream",
     "text": [
      "пойиаойнякыйтезао / эффективностьвработезависитотконцентрации cer:  2.0\n",
      "сицве / таинственнаямгла cer:  2.6\n",
      "паыеом / работаюповыходнымдням cer:  2.8333333333333335\n"
     ]
    }
   ],
   "source": [
    "show_batch(r[-1], target[-1])"
   ]
  },
  {
   "cell_type": "code",
   "execution_count": 111,
   "metadata": {},
   "outputs": [],
   "source": [
    "def to_str(r):\n",
    "    res=[]\n",
    "    for i in r:\n",
    "        res.append([])\n",
    "        for bn in i:\n",
    "            res[-1].append(''.join(abc[j] for j in bn))\n",
    "    return res\n",
    "def avg_cer(r, target):\n",
    "    s=0\n",
    "    c=0\n",
    "    for i, j in zip(to_str(r), target):\n",
    "        try:\n",
    "            s+=jiwer.cer(i, j)\n",
    "            c +=1\n",
    "        except:\n",
    "            continue\n",
    "    return s/c if c>0 else 1\n",
    "# [clear_str(i) for i in batch[1]]"
   ]
  },
  {
   "cell_type": "code",
   "execution_count": 112,
   "metadata": {},
   "outputs": [],
   "source": [
    "train_loss=[]\n",
    "train_cer=[]\n",
    "val_loss=[]\n",
    "val_cer=[]\n"
   ]
  },
  {
   "cell_type": "code",
   "execution_count": 121,
   "metadata": {},
   "outputs": [
    {
     "name": "stdout",
     "output_type": "stream",
     "text": [
      "epoch 0\n"
     ]
    },
    {
     "name": "stderr",
     "output_type": "stream",
     "text": [
      "100%|██████████| 75/75 [00:02<00:00, 25.52it/s]\n"
     ]
    },
    {
     "name": "stdout",
     "output_type": "stream",
     "text": [
      "train loss:  24.663781051573\n",
      "екиволиапобере / звукморскихволннапобережье cer:  1.0\n",
      "велнщяокрньстльратка / цветущийсаднаполняетароматом cer:  1.0\n",
      "ранцетныепвеауло / разноцветныецветыналугу cer:  0.625\n",
      "ретноетасомапмх / ребенокиграетсмячомнапляже cer:  1.0666666666666667\n",
      "екиволиапобере / звукморскихволннапобережье cer:  1.0\n",
      "велнщяокрньстльратка / цветущийсаднаполняетароматом cer:  1.0\n",
      "ранцетныепвеауло / разноцветныецветыналугу cer:  0.625\n",
      "ретноетасомапмх / ребенокиграетсмячомнапляже cer:  1.0666666666666667\n",
      "train cer: 0.9317429860838297\n"
     ]
    },
    {
     "name": "stderr",
     "output_type": "stream",
     "text": [
      "100%|██████████| 24/24 [00:01<00:00, 22.48it/s]\n"
     ]
    },
    {
     "name": "stdout",
     "output_type": "stream",
     "text": [
      "val loss:  1479.533116455078\n",
      "иемкыйоби / белыйсвет cer:  0.7777777777777778\n",
      "мнемжнвовроштра / жизньэтоточтослучаетсястобойпокатызанятдругимипланами cer:  3.066666666666667\n",
      "вейквганшвнмеи / будешьнаработедопоздна? cer:  1.5\n",
      "всвонсваеднойвноей / незабываемоепутешествиенаморе cer:  1.2777777777777777\n",
      "ыйктьймчл / какойфильмсмотримсегодня? cer:  2.4444444444444446\n",
      "аскаенаойеае / рассветнавершинегоры cer:  1.1666666666666667\n",
      "кгадаерветелу / отстаньтеонзайметсясвязьюкогдаприедет cer:  2.4615384615384617\n",
      "val cer: 0.9776154728759083\n",
      "epoch 1\n"
     ]
    },
    {
     "name": "stderr",
     "output_type": "stream",
     "text": [
      "100%|██████████| 75/75 [00:03<00:00, 23.91it/s]\n"
     ]
    },
    {
     "name": "stdout",
     "output_type": "stream",
     "text": [
      "train loss:  26.824638718052913\n",
      "екиволиапобере / звукморскихволннапобережье cer:  1.0\n",
      "велнщяокрньстльратка / цветущийсаднаполняетароматом cer:  1.0\n",
      "ранцетныепвеауло / разноцветныецветыналугу cer:  0.625\n",
      "ретноетасомапмх / ребенокиграетсмячомнапляже cer:  1.0666666666666667\n",
      "екиволиапобере / звукморскихволннапобережье cer:  1.0\n",
      "велнщяокрньстльратка / цветущийсаднаполняетароматом cer:  1.0\n",
      "ранцетныепвеауло / разноцветныецветыналугу cer:  0.625\n",
      "ретноетасомапмх / ребенокиграетсмячомнапляже cer:  1.0666666666666667\n",
      "train cer: 0.932926829268292\n"
     ]
    },
    {
     "name": "stderr",
     "output_type": "stream",
     "text": [
      "100%|██████████| 24/24 [00:01<00:00, 21.98it/s]\n"
     ]
    },
    {
     "name": "stdout",
     "output_type": "stream",
     "text": [
      "val loss:  1629.896944580078\n",
      "маьвоисиеы / естьлиновостиизшколы? cer:  1.6\n",
      "изаео / привезешьмнеизмагазинапарубутылокводыпожалуйста? cer:  8.8\n",
      "кыйореуб / написатьписьмодругу cer:  2.125\n",
      "пвовлвлосроеоеоевенонаспнс / извиниянеуслышалтебяможешьповторить? cer:  1.1538461538461537\n",
      "теветереле / мненужендополнительныйлистбумаги cer:  2.7\n",
      "чдвыйяосрчеидо / купитьлекарстваотнасморка cer:  1.6428571428571428\n",
      "иезаутнчныйетей / садисьуокнавидотличный cer:  1.2\n",
      "val cer: 0.9779995453752001\n",
      "epoch 2\n"
     ]
    },
    {
     "name": "stderr",
     "output_type": "stream",
     "text": [
      "100%|██████████| 75/75 [00:02<00:00, 26.19it/s]\n"
     ]
    },
    {
     "name": "stdout",
     "output_type": "stream",
     "text": [
      "train loss:  26.824638718052913\n",
      "екиволиапобере / звукморскихволннапобережье cer:  1.0\n",
      "велнщяокрньстльратка / цветущийсаднаполняетароматом cer:  1.0\n",
      "ранцетныепвеауло / разноцветныецветыналугу cer:  0.625\n",
      "ретноетасомапмх / ребенокиграетсмячомнапляже cer:  1.0666666666666667\n",
      "екиволиапобере / звукморскихволннапобережье cer:  1.0\n",
      "велнщяокрньстльратка / цветущийсаднаполняетароматом cer:  1.0\n",
      "ранцетныепвеауло / разноцветныецветыналугу cer:  0.625\n",
      "ретноетасомапмх / ребенокиграетсмячомнапляже cer:  1.0666666666666667\n",
      "train cer: 0.932926829268292\n"
     ]
    },
    {
     "name": "stderr",
     "output_type": "stream",
     "text": [
      "100%|██████████| 24/24 [00:00<00:00, 24.90it/s]\n"
     ]
    },
    {
     "name": "stdout",
     "output_type": "stream",
     "text": [
      "val loss:  1692.345234375\n",
      "кгадаервел / отстаньтеонзайметсясвязьюкогдаприедет cer:  3.2\n",
      "ыйкуйдб / золотаясередина cer:  2.0\n",
      "хродывтргу / горькийшоколад cer:  1.3\n",
      "малвыдуио / этобылонеожиданноепереживаниеидляменя cer:  3.7777777777777777\n",
      "лне / будьтесегоднялучшечемвчера cer:  8.0\n",
      "мнемжнвевовщроштра / жизньэтоточтослучаетсястобойпокатызанятдругимипланами cer:  2.5555555555555554\n",
      "изстниа / большенехочуестьмясо cer:  2.5714285714285716\n",
      "val cer: 0.9786151194831839\n",
      "epoch 3\n"
     ]
    },
    {
     "name": "stderr",
     "output_type": "stream",
     "text": [
      "100%|██████████| 75/75 [00:02<00:00, 25.90it/s]\n"
     ]
    },
    {
     "name": "stdout",
     "output_type": "stream",
     "text": [
      "train loss:  26.824638718052913\n",
      "екиволиапобере / звукморскихволннапобережье cer:  1.0\n",
      "велнщяокрньстльратка / цветущийсаднаполняетароматом cer:  1.0\n",
      "ранцетныепвеауло / разноцветныецветыналугу cer:  0.625\n",
      "ретноетасомапмх / ребенокиграетсмячомнапляже cer:  1.0666666666666667\n",
      "екиволиапобере / звукморскихволннапобережье cer:  1.0\n",
      "велнщяокрньстльратка / цветущийсаднаполняетароматом cer:  1.0\n",
      "ранцетныепвеауло / разноцветныецветыналугу cer:  0.625\n",
      "ретноетасомапмх / ребенокиграетсмячомнапляже cer:  1.0666666666666667\n",
      "train cer: 0.932926829268292\n"
     ]
    },
    {
     "name": "stderr",
     "output_type": "stream",
     "text": [
      "100%|██████████| 24/24 [00:00<00:00, 24.94it/s]\n"
     ]
    },
    {
     "name": "stdout",
     "output_type": "stream",
     "text": [
      "val loss:  1660.1343615722656\n",
      "сар / зеленыйлуг cer:  3.3333333333333335\n",
      "теветереле / мненужендополнительныйлистбумаги cer:  2.7\n",
      "кыдаы / кротоваянастойка cer:  2.8\n",
      "ысюйж / такоечувствобудтожизньпроходитмимо cer:  6.4\n",
      "момкиаионойосев / принимайизменениякакшанснановыевозможности cer:  2.2666666666666666\n",
      "книйтмд / крепкийзамок cer:  1.1428571428571428\n",
      "дакйтсзве / наслаждайтесьмоментом cer:  1.7777777777777777\n",
      "val cer: 0.9786328580350464\n",
      "epoch 4\n"
     ]
    },
    {
     "name": "stderr",
     "output_type": "stream",
     "text": [
      "100%|██████████| 75/75 [00:02<00:00, 26.52it/s]\n"
     ]
    },
    {
     "name": "stdout",
     "output_type": "stream",
     "text": [
      "train loss:  26.824638718052913\n",
      "екиволиапобере / звукморскихволннапобережье cer:  1.0\n",
      "велнщяокрньстльратка / цветущийсаднаполняетароматом cer:  1.0\n",
      "ранцетныепвеауло / разноцветныецветыналугу cer:  0.625\n",
      "ретноетасомапмх / ребенокиграетсмячомнапляже cer:  1.0666666666666667\n",
      "екиволиапобере / звукморскихволннапобережье cer:  1.0\n",
      "велнщяокрньстльратка / цветущийсаднаполняетароматом cer:  1.0\n",
      "ранцетныепвеауло / разноцветныецветыналугу cer:  0.625\n",
      "ретноетасомапмх / ребенокиграетсмячомнапляже cer:  1.0666666666666667\n",
      "train cer: 0.932926829268292\n"
     ]
    },
    {
     "name": "stderr",
     "output_type": "stream",
     "text": [
      "100%|██████████| 24/24 [00:00<00:00, 25.02it/s]\n"
     ]
    },
    {
     "name": "stdout",
     "output_type": "stream",
     "text": [
      "val loss:  2438.8271875\n",
      "грескарвманесие / всегдастарайтесьвыделятьсяизтолпы cer:  1.7333333333333334\n",
      "негондиак / хлебсовкуснейшимджемом cer:  2.0\n",
      "скыийцвт / таинственнаямгла cer:  1.875\n",
      "чвыйяосрчеидо / купитьлекарстваотнасморка cer:  1.7692307692307692\n",
      "ланаоксксксон / онизаплатятзаэтиуслугидоконцанедели cer:  2.230769230769231\n",
      "кродганазаяик / тонкийлед cer:  0.8461538461538461\n",
      "иотовроакре / нужнозаказатьбилеты cer:  1.4545454545454546\n",
      "val cer: 0.9782548010406015\n",
      "epoch 5\n"
     ]
    },
    {
     "name": "stderr",
     "output_type": "stream",
     "text": [
      "100%|██████████| 75/75 [00:02<00:00, 26.52it/s]\n"
     ]
    },
    {
     "name": "stdout",
     "output_type": "stream",
     "text": [
      "train loss:  26.824638718052913\n",
      "екиволиапобере / звукморскихволннапобережье cer:  1.0\n",
      "велнщяокрньстльратка / цветущийсаднаполняетароматом cer:  1.0\n",
      "ранцетныепвеауло / разноцветныецветыналугу cer:  0.625\n",
      "ретноетасомапмх / ребенокиграетсмячомнапляже cer:  1.0666666666666667\n",
      "екиволиапобере / звукморскихволннапобережье cer:  1.0\n",
      "велнщяокрньстльратка / цветущийсаднаполняетароматом cer:  1.0\n",
      "ранцетныепвеауло / разноцветныецветыналугу cer:  0.625\n",
      "ретноетасомапмх / ребенокиграетсмячомнапляже cer:  1.0666666666666667\n",
      "train cer: 0.932926829268292\n"
     ]
    },
    {
     "name": "stderr",
     "output_type": "stream",
     "text": [
      "100%|██████████| 24/24 [00:00<00:00, 25.09it/s]\n"
     ]
    },
    {
     "name": "stdout",
     "output_type": "stream",
     "text": [
      "val loss:  1735.6452380371093\n",
      "серщуиоскиля / какделавкочалке? cer:  1.1666666666666667\n",
      "кзнвткри / приятныйзапахцветоввсаду cer:  2.625\n",
      "кгадаерветелу / отстаньтеонзайметсясвязьюкогдаприедет cer:  2.4615384615384617\n",
      "пчуоиоемоеу / уменясегоднямногоработы cer:  1.8181818181818181\n",
      "кеповорбги / выготовысделатьзаказ? cer:  1.9\n",
      "ысюйж / такоечувствобудтожизньпроходитмимо cer:  6.4\n",
      "стыстросисаит / начнисначалаэтонеработает cer:  1.5384615384615385\n",
      "val cer: 0.9774035811273049\n",
      "epoch 6\n"
     ]
    },
    {
     "name": "stderr",
     "output_type": "stream",
     "text": [
      "100%|██████████| 75/75 [00:02<00:00, 25.52it/s]\n"
     ]
    },
    {
     "name": "stdout",
     "output_type": "stream",
     "text": [
      "train loss:  26.824638718052913\n",
      "екиволиапобере / звукморскихволннапобережье cer:  1.0\n",
      "велнщяокрньстльратка / цветущийсаднаполняетароматом cer:  1.0\n",
      "ранцетныепвеауло / разноцветныецветыналугу cer:  0.625\n",
      "ретноетасомапмх / ребенокиграетсмячомнапляже cer:  1.0666666666666667\n",
      "екиволиапобере / звукморскихволннапобережье cer:  1.0\n",
      "велнщяокрньстльратка / цветущийсаднаполняетароматом cer:  1.0\n",
      "ранцетныепвеауло / разноцветныецветыналугу cer:  0.625\n",
      "ретноетасомапмх / ребенокиграетсмячомнапляже cer:  1.0666666666666667\n",
      "train cer: 0.932926829268292\n"
     ]
    },
    {
     "name": "stderr",
     "output_type": "stream",
     "text": [
      "100%|██████████| 24/24 [00:00<00:00, 25.13it/s]\n"
     ]
    },
    {
     "name": "stdout",
     "output_type": "stream",
     "text": [
      "val loss:  1737.841495361328\n",
      "сизгорводтрыйиемб / забудемобэтоминачнемвсезаново? cer:  1.5294117647058822\n",
      "кеаоствийбеьтьиывкоыйцт / тебеточнобольшенечегоделать? cer:  1.0\n",
      "ивисийвкаийнзи / следуйсвоиммечтамионистанутреальностью cer:  2.357142857142857\n",
      "иемкыйобжти / белыйсвет cer:  0.6363636363636364\n",
      "пкмйобовтио / яобещалприйтикопределённомувремени cer:  2.6363636363636362\n",
      "нобреьйидобм / тонкийслой cer:  0.75\n",
      "иеаутнчныйетей / садисьуокнавидотличный cer:  1.2142857142857142\n",
      "val cer: 0.978201442473054\n",
      "epoch 7\n"
     ]
    },
    {
     "name": "stderr",
     "output_type": "stream",
     "text": [
      "100%|██████████| 75/75 [00:03<00:00, 24.92it/s]\n"
     ]
    },
    {
     "name": "stdout",
     "output_type": "stream",
     "text": [
      "train loss:  26.824638718052913\n",
      "екиволиапобере / звукморскихволннапобережье cer:  1.0\n",
      "велнщяокрньстльратка / цветущийсаднаполняетароматом cer:  1.0\n",
      "ранцетныепвеауло / разноцветныецветыналугу cer:  0.625\n",
      "ретноетасомапмх / ребенокиграетсмячомнапляже cer:  1.0666666666666667\n",
      "екиволиапобере / звукморскихволннапобережье cer:  1.0\n",
      "велнщяокрньстльратка / цветущийсаднаполняетароматом cer:  1.0\n",
      "ранцетныепвеауло / разноцветныецветыналугу cer:  0.625\n",
      "ретноетасомапмх / ребенокиграетсмячомнапляже cer:  1.0666666666666667\n",
      "train cer: 0.932926829268292\n"
     ]
    },
    {
     "name": "stderr",
     "output_type": "stream",
     "text": [
      "100%|██████████| 24/24 [00:00<00:00, 25.27it/s]\n"
     ]
    },
    {
     "name": "stdout",
     "output_type": "stream",
     "text": [
      "val loss:  1494.4153125\n",
      "лайегоси / горячийшоколадвхолоднуюпогоду cer:  3.125\n",
      "еоеруса / фирменноеприложение cer:  2.142857142857143\n",
      "шнобзядрододсвансороязлт / сделатьточтоскажешьлучшийспособуважаться cer:  1.375\n",
      "пар / зеленыйлуг cer:  3.3333333333333335\n",
      "хоаспкройняткныстезао / эффективностьвработезависитотконцентрации cer:  1.619047619047619\n",
      "ланкаоксксксожнеый / онизаплатятзаэтиуслугидоконцанедели cer:  1.5555555555555556\n",
      "етеыеоераяв / яснетерпениемждузавтрашнегодня cer:  2.090909090909091\n",
      "val cer: 0.9784687731036934\n",
      "epoch 8\n"
     ]
    },
    {
     "name": "stderr",
     "output_type": "stream",
     "text": [
      "100%|██████████| 75/75 [00:02<00:00, 26.81it/s]\n"
     ]
    },
    {
     "name": "stdout",
     "output_type": "stream",
     "text": [
      "train loss:  26.824638718052913\n",
      "екиволиапобере / звукморскихволннапобережье cer:  1.0\n",
      "велнщяокрньстльратка / цветущийсаднаполняетароматом cer:  1.0\n",
      "ранцетныепвеауло / разноцветныецветыналугу cer:  0.625\n",
      "ретноетасомапмх / ребенокиграетсмячомнапляже cer:  1.0666666666666667\n",
      "екиволиапобере / звукморскихволннапобережье cer:  1.0\n",
      "велнщяокрньстльратка / цветущийсаднаполняетароматом cer:  1.0\n",
      "ранцетныепвеауло / разноцветныецветыналугу cer:  0.625\n",
      "ретноетасомапмх / ребенокиграетсмячомнапляже cer:  1.0666666666666667\n",
      "train cer: 0.932926829268292\n"
     ]
    },
    {
     "name": "stderr",
     "output_type": "stream",
     "text": [
      "100%|██████████| 24/24 [00:00<00:00, 25.29it/s]\n"
     ]
    },
    {
     "name": "stdout",
     "output_type": "stream",
     "text": [
      "val loss:  1671.1497827148437\n",
      "веунистьийеленыйоеро / чайиликофе? cer:  0.85\n",
      "кеповоби / выготовысделатьзаказ? cer:  2.375\n",
      "систотрий / яркокрасныйцветок cer:  1.6666666666666667\n",
      "зресвапристайамнопориозацнтнасго / сложностиэтовозможностьдляроста cer:  0.84375\n",
      "иезаутнчныйетей / садисьуокнавидотличный cer:  1.2\n",
      "негаоаноиумак / хлебсовкуснейшимджемом cer:  1.3076923076923077\n",
      "кгадаерветелуя / отстаньтеонзайметсясвязьюкогдаприедет cer:  2.2857142857142856\n",
      "val cer: 0.9781346324968133\n",
      "epoch 9\n"
     ]
    },
    {
     "name": "stderr",
     "output_type": "stream",
     "text": [
      "100%|██████████| 75/75 [00:02<00:00, 25.99it/s]\n"
     ]
    },
    {
     "name": "stdout",
     "output_type": "stream",
     "text": [
      "train loss:  26.824638718052913\n",
      "екиволиапобере / звукморскихволннапобережье cer:  1.0\n",
      "велнщяокрньстльратка / цветущийсаднаполняетароматом cer:  1.0\n",
      "ранцетныепвеауло / разноцветныецветыналугу cer:  0.625\n",
      "ретноетасомапмх / ребенокиграетсмячомнапляже cer:  1.0666666666666667\n",
      "екиволиапобере / звукморскихволннапобережье cer:  1.0\n",
      "велнщяокрньстльратка / цветущийсаднаполняетароматом cer:  1.0\n",
      "ранцетныепвеауло / разноцветныецветыналугу cer:  0.625\n",
      "ретноетасомапмх / ребенокиграетсмячомнапляже cer:  1.0666666666666667\n",
      "train cer: 0.932926829268292\n"
     ]
    },
    {
     "name": "stderr",
     "output_type": "stream",
     "text": [
      "100%|██████████| 24/24 [00:00<00:00, 24.71it/s]\n"
     ]
    },
    {
     "name": "stdout",
     "output_type": "stream",
     "text": [
      "val loss:  1602.8070495605468\n",
      "састыьеятройик / оставьменявпокое cer:  0.7857142857142857\n",
      "сымыйст / белыйпесок cer:  1.0\n",
      "книатмд / крепкийзамок cer:  1.2857142857142858\n",
      "пнействутевзпеняеркнигкревуоко / жизньпроходитбыстронаслаждайтесьейкаждыйдень cer:  1.3\n",
      "лайегос / горячийшоколадвхолоднуюпогоду cer:  3.5714285714285716\n",
      "скыийцт / таинственнаямгла cer:  2.142857142857143\n",
      "вокевететрз / безопасностьнадорогах cer:  1.6363636363636365\n",
      "val cer: 0.9785549959375074\n",
      "epoch 10\n"
     ]
    },
    {
     "name": "stderr",
     "output_type": "stream",
     "text": [
      "100%|██████████| 75/75 [00:02<00:00, 26.69it/s]\n"
     ]
    },
    {
     "name": "stdout",
     "output_type": "stream",
     "text": [
      "train loss:  26.824638718052913\n",
      "екиволиапобере / звукморскихволннапобережье cer:  1.0\n",
      "велнщяокрньстльратка / цветущийсаднаполняетароматом cer:  1.0\n",
      "ранцетныепвеауло / разноцветныецветыналугу cer:  0.625\n",
      "ретноетасомапмх / ребенокиграетсмячомнапляже cer:  1.0666666666666667\n",
      "екиволиапобере / звукморскихволннапобережье cer:  1.0\n",
      "велнщяокрньстльратка / цветущийсаднаполняетароматом cer:  1.0\n",
      "ранцетныепвеауло / разноцветныецветыналугу cer:  0.625\n",
      "ретноетасомапмх / ребенокиграетсмячомнапляже cer:  1.0666666666666667\n",
      "train cer: 0.932926829268292\n"
     ]
    },
    {
     "name": "stderr",
     "output_type": "stream",
     "text": [
      "100%|██████████| 24/24 [00:00<00:00, 25.07it/s]\n"
     ]
    },
    {
     "name": "stdout",
     "output_type": "stream",
     "text": [
      "val loss:  1570.934274291992\n",
      "пчусоемоеу / уменясегоднямногоработы cer:  1.9\n",
      "нобреьйидобм / тонкийслой cer:  0.75\n",
      "ишквокнкоилв / черныйкофеназавтрак cer:  1.4166666666666667\n",
      "ещиреиы / серебристыймесяц cer:  1.8571428571428572\n",
      "пар / зеленыйлуг cer:  3.3333333333333335\n",
      "зсосзчобтр / испечьпирог cer:  0.9\n",
      "вокевебтеьойбрз / безопасностьнадорогах cer:  1.2\n",
      "val cer: 0.9782839646915135\n",
      "epoch 11\n"
     ]
    },
    {
     "name": "stderr",
     "output_type": "stream",
     "text": [
      "100%|██████████| 75/75 [00:02<00:00, 25.58it/s]\n"
     ]
    },
    {
     "name": "stdout",
     "output_type": "stream",
     "text": [
      "train loss:  26.824638718052913\n",
      "екиволиапобере / звукморскихволннапобережье cer:  1.0\n",
      "велнщяокрньстльратка / цветущийсаднаполняетароматом cer:  1.0\n",
      "ранцетныепвеауло / разноцветныецветыналугу cer:  0.625\n",
      "ретноетасомапмх / ребенокиграетсмячомнапляже cer:  1.0666666666666667\n",
      "екиволиапобере / звукморскихволннапобережье cer:  1.0\n",
      "велнщяокрньстльратка / цветущийсаднаполняетароматом cer:  1.0\n",
      "ранцетныепвеауло / разноцветныецветыналугу cer:  0.625\n",
      "ретноетасомапмх / ребенокиграетсмячомнапляже cer:  1.0666666666666667\n",
      "train cer: 0.932926829268292\n"
     ]
    },
    {
     "name": "stderr",
     "output_type": "stream",
     "text": [
      "100%|██████████| 24/24 [00:00<00:00, 24.97it/s]\n"
     ]
    },
    {
     "name": "stdout",
     "output_type": "stream",
     "text": [
      "val loss:  1594.7750708007814\n",
      "книатмд / крепкийзамок cer:  1.2857142857142858\n",
      "иотровронамкреь / нужнозаказатьбилеты cer:  1.0666666666666667\n",
      "номвбтюыйновци / темныйпереулок cer:  0.9285714285714286\n",
      "кыйореуб / написатьписьмодругу cer:  2.125\n",
      "сыйеотзн / ржавыйзамок cer:  1.125\n",
      "поаыбетоеи / работаюповыходнымдням cer:  1.8\n",
      "кекве / солнечныйлучпробилсясквозьоблака cer:  5.8\n",
      "val cer: 0.9774465047299729\n",
      "epoch 12\n"
     ]
    },
    {
     "name": "stderr",
     "output_type": "stream",
     "text": [
      "100%|██████████| 75/75 [00:02<00:00, 26.68it/s]\n"
     ]
    },
    {
     "name": "stdout",
     "output_type": "stream",
     "text": [
      "train loss:  26.824638718052913\n",
      "екиволиапобере / звукморскихволннапобережье cer:  1.0\n",
      "велнщяокрньстльратка / цветущийсаднаполняетароматом cer:  1.0\n",
      "ранцетныепвеауло / разноцветныецветыналугу cer:  0.625\n",
      "ретноетасомапмх / ребенокиграетсмячомнапляже cer:  1.0666666666666667\n",
      "екиволиапобере / звукморскихволннапобережье cer:  1.0\n",
      "велнщяокрньстльратка / цветущийсаднаполняетароматом cer:  1.0\n",
      "ранцетныепвеауло / разноцветныецветыналугу cer:  0.625\n",
      "ретноетасомапмх / ребенокиграетсмячомнапляже cer:  1.0666666666666667\n",
      "train cer: 0.932926829268292\n"
     ]
    },
    {
     "name": "stderr",
     "output_type": "stream",
     "text": [
      "100%|██████████| 24/24 [00:00<00:00, 25.30it/s]\n"
     ]
    },
    {
     "name": "stdout",
     "output_type": "stream",
     "text": [
      "val loss:  1494.8832104492187\n",
      "ыаелтмвожожгт / чтозаоблом? cer:  0.9230769230769231\n",
      "пвовлвлосроеоеоевенонаспнс / извиниянеуслышалтебяможешьповторить? cer:  1.1538461538461537\n",
      "мамойци / зарядитьсвойтелефон cer:  2.2857142857142856\n",
      "чдвыйяойсрчеидо / купитьлекарстваотнасморка cer:  1.5333333333333334\n",
      "иемкыйобжт / белыйсвет cer:  0.6\n",
      "ховономоустиросоро / ойяпочтиопаздалнасвидание cer:  1.2222222222222223\n",
      "сзгорвоводтыйиемб / забудемобэтоминачнемвсезаново? cer:  1.4705882352941178\n",
      "val cer: 0.9772577078565584\n",
      "epoch 13\n"
     ]
    },
    {
     "name": "stderr",
     "output_type": "stream",
     "text": [
      "100%|██████████| 75/75 [00:02<00:00, 26.42it/s]\n"
     ]
    },
    {
     "name": "stdout",
     "output_type": "stream",
     "text": [
      "train loss:  26.824638718052913\n",
      "екиволиапобере / звукморскихволннапобережье cer:  1.0\n",
      "велнщяокрньстльратка / цветущийсаднаполняетароматом cer:  1.0\n",
      "ранцетныепвеауло / разноцветныецветыналугу cer:  0.625\n",
      "ретноетасомапмх / ребенокиграетсмячомнапляже cer:  1.0666666666666667\n",
      "екиволиапобере / звукморскихволннапобережье cer:  1.0\n",
      "велнщяокрньстльратка / цветущийсаднаполняетароматом cer:  1.0\n",
      "ранцетныепвеауло / разноцветныецветыналугу cer:  0.625\n",
      "ретноетасомапмх / ребенокиграетсмячомнапляже cer:  1.0666666666666667\n",
      "train cer: 0.932926829268292\n"
     ]
    },
    {
     "name": "stderr",
     "output_type": "stream",
     "text": [
      "100%|██████████| 24/24 [00:00<00:00, 24.81it/s]\n"
     ]
    },
    {
     "name": "stdout",
     "output_type": "stream",
     "text": [
      "val loss:  1481.7389147949218\n",
      "негоаноипиак / хлебсовкуснейшимджемом cer:  1.5\n",
      "мамойци / зарядитьсвойтелефон cer:  2.2857142857142856\n",
      "всвонсваеднойвноей / незабываемоепутешествиенаморе cer:  1.2777777777777777\n",
      "киучнойкиокнарустимн / путешествияобогащаютопытирасширяюткругозор cer:  1.8\n",
      "кидиоарок / разнообразиекухонныхблюд cer:  2.3333333333333335\n",
      "зсосзчобтр / испечьпирог cer:  0.9\n",
      "изстиа / большенехочуестьмясо cer:  3.0\n",
      "val cer: 0.97812831309809\n",
      "epoch 14\n"
     ]
    },
    {
     "name": "stderr",
     "output_type": "stream",
     "text": [
      "100%|██████████| 75/75 [00:02<00:00, 25.89it/s]\n"
     ]
    },
    {
     "name": "stdout",
     "output_type": "stream",
     "text": [
      "train loss:  26.824638718052913\n",
      "екиволиапобере / звукморскихволннапобережье cer:  1.0\n",
      "велнщяокрньстльратка / цветущийсаднаполняетароматом cer:  1.0\n",
      "ранцетныепвеауло / разноцветныецветыналугу cer:  0.625\n",
      "ретноетасомапмх / ребенокиграетсмячомнапляже cer:  1.0666666666666667\n",
      "екиволиапобере / звукморскихволннапобережье cer:  1.0\n",
      "велнщяокрньстльратка / цветущийсаднаполняетароматом cer:  1.0\n",
      "ранцетныепвеауло / разноцветныецветыналугу cer:  0.625\n",
      "ретноетасомапмх / ребенокиграетсмячомнапляже cer:  1.0666666666666667\n",
      "train cer: 0.932926829268292\n"
     ]
    },
    {
     "name": "stderr",
     "output_type": "stream",
     "text": [
      "100%|██████████| 24/24 [00:00<00:00, 25.10it/s]\n"
     ]
    },
    {
     "name": "stdout",
     "output_type": "stream",
     "text": [
      "val loss:  1604.6132983398438\n",
      "пвовлвкосроеоеоевенаспда / извиниянеуслышалтебяможешьповторить? cer:  1.25\n",
      "момкиаионойосев / принимайизменениякакшанснановыевозможности cer:  2.2666666666666666\n",
      "иемкыйобжт / белыйсвет cer:  0.6\n",
      "доит / наблюдатьзазакатом cer:  4.0\n",
      "кыдатх / кротоваянастойка cer:  2.1666666666666665\n",
      "невситийтереоизеорт / этакнигабылавеликолепна cer:  1.0\n",
      "иезаутнчныйетей / садисьуокнавидотличный cer:  1.2\n",
      "val cer: 0.9773480529009779\n",
      "epoch 15\n"
     ]
    },
    {
     "name": "stderr",
     "output_type": "stream",
     "text": [
      "100%|██████████| 75/75 [00:03<00:00, 24.97it/s]\n"
     ]
    },
    {
     "name": "stdout",
     "output_type": "stream",
     "text": [
      "train loss:  26.824638718052913\n",
      "екиволиапобере / звукморскихволннапобережье cer:  1.0\n",
      "велнщяокрньстльратка / цветущийсаднаполняетароматом cer:  1.0\n",
      "ранцетныепвеауло / разноцветныецветыналугу cer:  0.625\n",
      "ретноетасомапмх / ребенокиграетсмячомнапляже cer:  1.0666666666666667\n",
      "екиволиапобере / звукморскихволннапобережье cer:  1.0\n",
      "велнщяокрньстльратка / цветущийсаднаполняетароматом cer:  1.0\n",
      "ранцетныепвеауло / разноцветныецветыналугу cer:  0.625\n",
      "ретноетасомапмх / ребенокиграетсмячомнапляже cer:  1.0666666666666667\n",
      "train cer: 0.932926829268292\n"
     ]
    },
    {
     "name": "stderr",
     "output_type": "stream",
     "text": [
      "100%|██████████| 24/24 [00:00<00:00, 25.04it/s]\n"
     ]
    },
    {
     "name": "stdout",
     "output_type": "stream",
     "text": [
      "val loss:  1741.8342065429688\n",
      "дке / любовьнетребуетслов cer:  6.0\n",
      "кродганазаяи / тонкийлед cer:  0.9166666666666666\n",
      "иотовронамкре / нужнозаказатьбилеты cer:  1.2307692307692308\n",
      "ныйтевойжордм / бытьможетстоитвызватьтакси? cer:  1.8461538461538463\n",
      "мамойци / зарядитьсвойтелефон cer:  2.2857142857142856\n",
      "доаонситисмийнадвавртовркроидт / этособытиепроизойдетужезавтра cer:  0.8666666666666667\n",
      "еишквокоилвх / черныйкофеназавтрак cer:  1.3333333333333333\n",
      "val cer: 0.9778453082640874\n",
      "epoch 16\n"
     ]
    },
    {
     "name": "stderr",
     "output_type": "stream",
     "text": [
      "100%|██████████| 75/75 [00:03<00:00, 24.05it/s]\n"
     ]
    },
    {
     "name": "stdout",
     "output_type": "stream",
     "text": [
      "train loss:  26.824638718052913\n",
      "екиволиапобере / звукморскихволннапобережье cer:  1.0\n",
      "велнщяокрньстльратка / цветущийсаднаполняетароматом cer:  1.0\n",
      "ранцетныепвеауло / разноцветныецветыналугу cer:  0.625\n",
      "ретноетасомапмх / ребенокиграетсмячомнапляже cer:  1.0666666666666667\n",
      "екиволиапобере / звукморскихволннапобережье cer:  1.0\n",
      "велнщяокрньстльратка / цветущийсаднаполняетароматом cer:  1.0\n",
      "ранцетныепвеауло / разноцветныецветыналугу cer:  0.625\n",
      "ретноетасомапмх / ребенокиграетсмячомнапляже cer:  1.0666666666666667\n",
      "train cer: 0.932926829268292\n"
     ]
    },
    {
     "name": "stderr",
     "output_type": "stream",
     "text": [
      "100%|██████████| 24/24 [00:00<00:00, 25.10it/s]\n"
     ]
    },
    {
     "name": "stdout",
     "output_type": "stream",
     "text": [
      "val loss:  1512.0851794433593\n",
      "книатмд / крепкийзамок cer:  1.2857142857142858\n",
      "сымныйст / белыйпесок cer:  1.0\n",
      "манейстивертестиеб / уменязапланированыделадообеда cer:  1.2777777777777777\n",
      "киучнойкиокнайкаустущу / путешествияобогащаютопытирасширяюткругозор cer:  1.6363636363636365\n",
      "бзтьесерероеотетое / незабудьзакрытьзасобойдверь cer:  1.2222222222222223\n",
      "дкене / любовьнетребуетслов cer:  3.4\n",
      "пнействутевзпеняеркнигкреуоко / жизньпроходитбыстронаслаждайтесьейкаждыйдень cer:  1.3448275862068966\n",
      "val cer: 0.9782624130945273\n",
      "epoch 17\n"
     ]
    },
    {
     "name": "stderr",
     "output_type": "stream",
     "text": [
      "100%|██████████| 75/75 [00:02<00:00, 26.27it/s]\n"
     ]
    },
    {
     "name": "stdout",
     "output_type": "stream",
     "text": [
      "train loss:  26.824638718052913\n",
      "екиволиапобере / звукморскихволннапобережье cer:  1.0\n",
      "велнщяокрньстльратка / цветущийсаднаполняетароматом cer:  1.0\n",
      "ранцетныепвеауло / разноцветныецветыналугу cer:  0.625\n",
      "ретноетасомапмх / ребенокиграетсмячомнапляже cer:  1.0666666666666667\n",
      "екиволиапобере / звукморскихволннапобережье cer:  1.0\n",
      "велнщяокрньстльратка / цветущийсаднаполняетароматом cer:  1.0\n",
      "ранцетныепвеауло / разноцветныецветыналугу cer:  0.625\n",
      "ретноетасомапмх / ребенокиграетсмячомнапляже cer:  1.0666666666666667\n",
      "train cer: 0.932926829268292\n"
     ]
    },
    {
     "name": "stderr",
     "output_type": "stream",
     "text": [
      "100%|██████████| 24/24 [00:00<00:00, 25.04it/s]\n"
     ]
    },
    {
     "name": "stdout",
     "output_type": "stream",
     "text": [
      "val loss:  1475.5575537109376\n",
      "озавист / черныйкошмар cer:  1.7142857142857142\n",
      "састыьеьятройик / оставьменявпокое cer:  0.7333333333333333\n",
      "етеыеоераяв / яснетерпениемждузавтрашнегодня cer:  2.090909090909091\n",
      "ценитйсьйоеды / медленныйрост cer:  0.8461538461538461\n",
      "бзтьесерероеотетое / незабудьзакрытьзасобойдверь cer:  1.2222222222222223\n",
      "дкене / любовьнетребуетслов cer:  3.4\n",
      "вокеветыйетрз / безопасностьнадорогах cer:  1.3846153846153846\n",
      "val cer: 0.9782828537708763\n",
      "epoch 18\n"
     ]
    },
    {
     "name": "stderr",
     "output_type": "stream",
     "text": [
      "100%|██████████| 75/75 [00:03<00:00, 23.96it/s]\n"
     ]
    },
    {
     "name": "stdout",
     "output_type": "stream",
     "text": [
      "train loss:  26.824638718052913\n",
      "екиволиапобере / звукморскихволннапобережье cer:  1.0\n",
      "велнщяокрньстльратка / цветущийсаднаполняетароматом cer:  1.0\n",
      "ранцетныепвеауло / разноцветныецветыналугу cer:  0.625\n",
      "ретноетасомапмх / ребенокиграетсмячомнапляже cer:  1.0666666666666667\n",
      "екиволиапобере / звукморскихволннапобережье cer:  1.0\n",
      "велнщяокрньстльратка / цветущийсаднаполняетароматом cer:  1.0\n",
      "ранцетныепвеауло / разноцветныецветыналугу cer:  0.625\n",
      "ретноетасомапмх / ребенокиграетсмячомнапляже cer:  1.0666666666666667\n",
      "train cer: 0.932926829268292\n"
     ]
    },
    {
     "name": "stderr",
     "output_type": "stream",
     "text": [
      "100%|██████████| 24/24 [00:00<00:00, 24.94it/s]\n"
     ]
    },
    {
     "name": "stdout",
     "output_type": "stream",
     "text": [
      "val loss:  1471.6172863769532\n",
      "знвткри / приятныйзапахцветоввсаду cer:  3.0\n",
      "пкыйчотолзсюодово / ошибкидолжныделатьсядляполученияопыта cer:  1.8235294117647058\n",
      "ныйтеиевойжордму / бытьможетстоитвызватьтакси? cer:  1.4375\n",
      "свамнапчежтро / живитетакчтобынебыложальпотраченноговремени cer:  2.6923076923076925\n",
      "пар / зеленыйлуг cer:  3.3333333333333335\n",
      "пкмйобовтьо / яобещалприйтикопределённомувремени cer:  2.6363636363636362\n",
      "ысюйж / такоечувствобудтожизньпроходитмимо cer:  6.4\n",
      "val cer: 0.9787313932600977\n",
      "epoch 19\n"
     ]
    },
    {
     "name": "stderr",
     "output_type": "stream",
     "text": [
      "100%|██████████| 75/75 [00:02<00:00, 26.79it/s]\n"
     ]
    },
    {
     "name": "stdout",
     "output_type": "stream",
     "text": [
      "train loss:  26.824638718052913\n",
      "екиволиапобере / звукморскихволннапобережье cer:  1.0\n",
      "велнщяокрньстльратка / цветущийсаднаполняетароматом cer:  1.0\n",
      "ранцетныепвеауло / разноцветныецветыналугу cer:  0.625\n",
      "ретноетасомапмх / ребенокиграетсмячомнапляже cer:  1.0666666666666667\n",
      "екиволиапобере / звукморскихволннапобережье cer:  1.0\n",
      "велнщяокрньстльратка / цветущийсаднаполняетароматом cer:  1.0\n",
      "ранцетныепвеауло / разноцветныецветыналугу cer:  0.625\n",
      "ретноетасомапмх / ребенокиграетсмячомнапляже cer:  1.0666666666666667\n",
      "train cer: 0.932926829268292\n"
     ]
    },
    {
     "name": "stderr",
     "output_type": "stream",
     "text": [
      "100%|██████████| 24/24 [00:00<00:00, 24.88it/s]\n"
     ]
    },
    {
     "name": "stdout",
     "output_type": "stream",
     "text": [
      "val loss:  1535.0598352050781\n",
      "книйтмд / крепкийзамок cer:  1.1428571428571428\n",
      "зресвапристайамнопориозацнтнасго / сложностиэтовозможностьдляроста cer:  0.84375\n",
      "доит / наблюдатьзазакатом cer:  4.0\n",
      "всвонсваеднойвноей / незабываемоепутешествиенаморе cer:  1.2777777777777777\n",
      "кидиоарок / разнообразиекухонныхблюд cer:  2.3333333333333335\n",
      "доаонситисмийнадвавртовркроидт / этособытиепроизойдетужезавтра cer:  0.8666666666666667\n",
      "ыаелтмвожожги / чтозаоблом? cer:  0.9230769230769231\n",
      "val cer: 0.9785202889647219\n",
      "epoch 20\n"
     ]
    },
    {
     "name": "stderr",
     "output_type": "stream",
     "text": [
      "100%|██████████| 75/75 [00:02<00:00, 25.44it/s]\n"
     ]
    },
    {
     "name": "stdout",
     "output_type": "stream",
     "text": [
      "train loss:  26.824638718052913\n",
      "екиволиапобере / звукморскихволннапобережье cer:  1.0\n",
      "велнщяокрньстльратка / цветущийсаднаполняетароматом cer:  1.0\n",
      "ранцетныепвеауло / разноцветныецветыналугу cer:  0.625\n",
      "ретноетасомапмх / ребенокиграетсмячомнапляже cer:  1.0666666666666667\n",
      "екиволиапобере / звукморскихволннапобережье cer:  1.0\n",
      "велнщяокрньстльратка / цветущийсаднаполняетароматом cer:  1.0\n",
      "ранцетныепвеауло / разноцветныецветыналугу cer:  0.625\n",
      "ретноетасомапмх / ребенокиграетсмячомнапляже cer:  1.0666666666666667\n",
      "train cer: 0.932926829268292\n"
     ]
    },
    {
     "name": "stderr",
     "output_type": "stream",
     "text": [
      "100%|██████████| 24/24 [00:00<00:00, 25.17it/s]\n"
     ]
    },
    {
     "name": "stdout",
     "output_type": "stream",
     "text": [
      "val loss:  1612.4684338378906\n",
      "невситийтетреозеортра / этакнигабылавеликолепна cer:  0.9047619047619048\n",
      "сымыйст / белыйпесок cer:  1.0\n",
      "лне / будьтесегоднялучшечемвчера cer:  8.0\n",
      "дкене / любовьнетребуетслов cer:  3.4\n",
      "местстрсивисаит / начнисначалаэтонеработает cer:  1.4\n",
      "дазаеаца / яркийцветпривлекаетвнимание cer:  3.0\n",
      "зресвапристайамнопориозацнтнасго / сложностиэтовозможностьдляроста cer:  0.84375\n",
      "val cer: 0.9776377681235865\n",
      "epoch 21\n"
     ]
    },
    {
     "name": "stderr",
     "output_type": "stream",
     "text": [
      "100%|██████████| 75/75 [00:02<00:00, 26.76it/s]\n"
     ]
    },
    {
     "name": "stdout",
     "output_type": "stream",
     "text": [
      "train loss:  26.824638718052913\n",
      "екиволиапобере / звукморскихволннапобережье cer:  1.0\n",
      "велнщяокрньстльратка / цветущийсаднаполняетароматом cer:  1.0\n",
      "ранцетныепвеауло / разноцветныецветыналугу cer:  0.625\n",
      "ретноетасомапмх / ребенокиграетсмячомнапляже cer:  1.0666666666666667\n",
      "екиволиапобере / звукморскихволннапобережье cer:  1.0\n",
      "велнщяокрньстльратка / цветущийсаднаполняетароматом cer:  1.0\n",
      "ранцетныепвеауло / разноцветныецветыналугу cer:  0.625\n",
      "ретноетасомапмх / ребенокиграетсмячомнапляже cer:  1.0666666666666667\n",
      "train cer: 0.932926829268292\n"
     ]
    },
    {
     "name": "stderr",
     "output_type": "stream",
     "text": [
      "100%|██████████| 24/24 [00:00<00:00, 25.16it/s]\n"
     ]
    },
    {
     "name": "stdout",
     "output_type": "stream",
     "text": [
      "val loss:  1556.18310546875\n",
      "кзнвткри / приятныйзапахцветоввсаду cer:  2.625\n",
      "хоаспкройняткныстезао / эффективностьвработезависитотконцентрации cer:  1.619047619047619\n",
      "вейнвгазншвнмеи / будешьнаработедопоздна? cer:  1.3333333333333333\n",
      "зрасапристйамнопорийозацнасаго / сложностиэтовозможностьдляроста cer:  0.9333333333333333\n",
      "ценитйсьйобеды / медленныйрост cer:  0.8571428571428571\n",
      "хгчоркванопяепохокийктубя / глубокийвзглядможетраскрытьмноготайн cer:  1.24\n",
      "доит / наблюдатьзазакатом cer:  4.0\n",
      "val cer: 0.9781486138598577\n",
      "epoch 22\n"
     ]
    },
    {
     "name": "stderr",
     "output_type": "stream",
     "text": [
      "100%|██████████| 75/75 [00:02<00:00, 26.47it/s]\n"
     ]
    },
    {
     "name": "stdout",
     "output_type": "stream",
     "text": [
      "train loss:  26.824638718052913\n",
      "екиволиапобере / звукморскихволннапобережье cer:  1.0\n",
      "велнщяокрньстльратка / цветущийсаднаполняетароматом cer:  1.0\n",
      "ранцетныепвеауло / разноцветныецветыналугу cer:  0.625\n",
      "ретноетасомапмх / ребенокиграетсмячомнапляже cer:  1.0666666666666667\n",
      "екиволиапобере / звукморскихволннапобережье cer:  1.0\n",
      "велнщяокрньстльратка / цветущийсаднаполняетароматом cer:  1.0\n",
      "ранцетныепвеауло / разноцветныецветыналугу cer:  0.625\n",
      "ретноетасомапмх / ребенокиграетсмячомнапляже cer:  1.0666666666666667\n",
      "train cer: 0.932926829268292\n"
     ]
    },
    {
     "name": "stderr",
     "output_type": "stream",
     "text": [
      "100%|██████████| 24/24 [00:00<00:00, 25.12it/s]\n"
     ]
    },
    {
     "name": "stdout",
     "output_type": "stream",
     "text": [
      "val loss:  1547.744208984375\n",
      "кемкве / солнечныйлучпробилсясквозьоблака cer:  4.833333333333333\n",
      "негаоаноиумак / хлебсовкуснейшимджемом cer:  1.3076923076923077\n",
      "хгчоркванопяепохокийктубя / глубокийвзглядможетраскрытьмноготайн cer:  1.24\n",
      "малвыдуио / этобылонеожиданноепереживаниеидляменя cer:  3.7777777777777777\n",
      "пчусоемоеу / уменясегоднямногоработы cer:  1.9\n",
      "гемойедоа / былоудивительновстретитьсястобой cer:  3.111111111111111\n",
      "ыаелтмвожожги / чтозаоблом? cer:  0.9230769230769231\n",
      "val cer: 0.9782279455709175\n",
      "epoch 23\n"
     ]
    },
    {
     "name": "stderr",
     "output_type": "stream",
     "text": [
      "100%|██████████| 75/75 [00:02<00:00, 26.10it/s]\n"
     ]
    },
    {
     "name": "stdout",
     "output_type": "stream",
     "text": [
      "train loss:  26.824638718052913\n",
      "екиволиапобере / звукморскихволннапобережье cer:  1.0\n",
      "велнщяокрньстльратка / цветущийсаднаполняетароматом cer:  1.0\n",
      "ранцетныепвеауло / разноцветныецветыналугу cer:  0.625\n",
      "ретноетасомапмх / ребенокиграетсмячомнапляже cer:  1.0666666666666667\n",
      "екиволиапобере / звукморскихволннапобережье cer:  1.0\n",
      "велнщяокрньстльратка / цветущийсаднаполняетароматом cer:  1.0\n",
      "ранцетныепвеауло / разноцветныецветыналугу cer:  0.625\n",
      "ретноетасомапмх / ребенокиграетсмячомнапляже cer:  1.0666666666666667\n",
      "train cer: 0.932926829268292\n"
     ]
    },
    {
     "name": "stderr",
     "output_type": "stream",
     "text": [
      "100%|██████████| 24/24 [00:00<00:00, 24.94it/s]\n"
     ]
    },
    {
     "name": "stdout",
     "output_type": "stream",
     "text": [
      "val loss:  1534.7225561523437\n",
      "ивипийкаийстнзи / следуйсвоиммечтамионистанутреальностью cer:  2.066666666666667\n",
      "пар / зеленыйлуг cer:  3.3333333333333335\n",
      "иотоврокреыу / нужнозаказатьбилеты cer:  1.4166666666666667\n",
      "мнемжнвовщроштра / жизньэтоточтослучаетсястобойпокатызанятдругимипланами cer:  2.875\n",
      "маезаотшлапве / здоровыйобразжизниважендлядолголетия cer:  2.3846153846153846\n",
      "дке / любовьнетребуетслов cer:  6.0\n",
      "чвыйяосрчеидо / купитьлекарстваотнасморка cer:  1.7692307692307692\n",
      "val cer: 0.9784277079497548\n",
      "epoch 24\n"
     ]
    },
    {
     "name": "stderr",
     "output_type": "stream",
     "text": [
      "100%|██████████| 75/75 [00:02<00:00, 26.55it/s]\n"
     ]
    },
    {
     "name": "stdout",
     "output_type": "stream",
     "text": [
      "train loss:  26.824638718052913\n",
      "екиволиапобере / звукморскихволннапобережье cer:  1.0\n",
      "велнщяокрньстльратка / цветущийсаднаполняетароматом cer:  1.0\n",
      "ранцетныепвеауло / разноцветныецветыналугу cer:  0.625\n",
      "ретноетасомапмх / ребенокиграетсмячомнапляже cer:  1.0666666666666667\n",
      "екиволиапобере / звукморскихволннапобережье cer:  1.0\n",
      "велнщяокрньстльратка / цветущийсаднаполняетароматом cer:  1.0\n",
      "ранцетныепвеауло / разноцветныецветыналугу cer:  0.625\n",
      "ретноетасомапмх / ребенокиграетсмячомнапляже cer:  1.0666666666666667\n",
      "train cer: 0.932926829268292\n"
     ]
    },
    {
     "name": "stderr",
     "output_type": "stream",
     "text": [
      "100%|██████████| 24/24 [00:00<00:00, 25.28it/s]\n"
     ]
    },
    {
     "name": "stdout",
     "output_type": "stream",
     "text": [
      "val loss:  1687.823212890625\n",
      "шнобзядрододсвансороязлт / сделатьточтоскажешьлучшийспособуважаться cer:  1.375\n",
      "иотоврокреы / нужнозаказатьбилеты cer:  1.4545454545454546\n",
      "ыйкуйдбе / золотаясередина cer:  1.75\n",
      "бзтьесерероеотетое / незабудьзакрытьзасобойдверь cer:  1.2222222222222223\n",
      "озавист / черныйкошмар cer:  1.7142857142857142\n",
      "хродывтргу / горькийшоколад cer:  1.3\n",
      "скыийцвт / таинственнаямгла cer:  1.875\n",
      "val cer: 0.9780929496756459\n",
      "epoch 25\n"
     ]
    },
    {
     "name": "stderr",
     "output_type": "stream",
     "text": [
      "100%|██████████| 75/75 [00:03<00:00, 24.68it/s]\n"
     ]
    },
    {
     "name": "stdout",
     "output_type": "stream",
     "text": [
      "train loss:  26.824638718052913\n",
      "екиволиапобере / звукморскихволннапобережье cer:  1.0\n",
      "велнщяокрньстльратка / цветущийсаднаполняетароматом cer:  1.0\n",
      "ранцетныепвеауло / разноцветныецветыналугу cer:  0.625\n",
      "ретноетасомапмх / ребенокиграетсмячомнапляже cer:  1.0666666666666667\n",
      "екиволиапобере / звукморскихволннапобережье cer:  1.0\n",
      "велнщяокрньстльратка / цветущийсаднаполняетароматом cer:  1.0\n",
      "ранцетныепвеауло / разноцветныецветыналугу cer:  0.625\n",
      "ретноетасомапмх / ребенокиграетсмячомнапляже cer:  1.0666666666666667\n",
      "train cer: 0.932926829268292\n"
     ]
    },
    {
     "name": "stderr",
     "output_type": "stream",
     "text": [
      "100%|██████████| 24/24 [00:01<00:00, 23.67it/s]\n"
     ]
    },
    {
     "name": "stdout",
     "output_type": "stream",
     "text": [
      "val loss:  1514.583497314453\n",
      "шнобзядрододсвалансотроязлт / сделатьточтоскажешьлучшийспособуважаться cer:  1.2222222222222223\n",
      "птнивеоболосрйросрыйе / плохиедниучатнасценитьхорошие cer:  1.1428571428571428\n",
      "мамойци / зарядитьсвойтелефон cer:  2.2857142857142856\n",
      "манейстивертестиеб / уменязапланированыделадообеда cer:  1.2777777777777777\n",
      "гыйореуб / написатьписьмодругу cer:  2.125\n",
      "нобреьйдобм / тонкийслой cer:  0.8181818181818182\n",
      "паб / читатьстихи cer:  3.3333333333333335\n",
      "val cer: 0.977788546555281\n",
      "epoch 26\n"
     ]
    },
    {
     "name": "stderr",
     "output_type": "stream",
     "text": [
      "100%|██████████| 75/75 [00:03<00:00, 23.98it/s]\n"
     ]
    },
    {
     "name": "stdout",
     "output_type": "stream",
     "text": [
      "train loss:  26.824638718052913\n",
      "екиволиапобере / звукморскихволннапобережье cer:  1.0\n",
      "велнщяокрньстльратка / цветущийсаднаполняетароматом cer:  1.0\n",
      "ранцетныепвеауло / разноцветныецветыналугу cer:  0.625\n",
      "ретноетасомапмх / ребенокиграетсмячомнапляже cer:  1.0666666666666667\n",
      "екиволиапобере / звукморскихволннапобережье cer:  1.0\n",
      "велнщяокрньстльратка / цветущийсаднаполняетароматом cer:  1.0\n",
      "ранцетныепвеауло / разноцветныецветыналугу cer:  0.625\n",
      "ретноетасомапмх / ребенокиграетсмячомнапляже cer:  1.0666666666666667\n",
      "train cer: 0.932926829268292\n"
     ]
    },
    {
     "name": "stderr",
     "output_type": "stream",
     "text": [
      "100%|██████████| 24/24 [00:00<00:00, 25.06it/s]\n"
     ]
    },
    {
     "name": "stdout",
     "output_type": "stream",
     "text": [
      "val loss:  2273.3715759277343\n",
      "ысюйж / такоечувствобудтожизньпроходитмимо cer:  6.4\n",
      "систотрий / яркокрасныйцветок cer:  1.6666666666666667\n",
      "лне / будьтесегоднялучшечемвчера cer:  8.0\n",
      "ванейстиестиеб / уменязапланированыделадообеда cer:  1.7857142857142858\n",
      "местстрсосисат / начнисначалаэтонеработает cer:  1.5\n",
      "птнивеоболосрйросрыйе / плохиедниучатнасценитьхорошие cer:  1.1428571428571428\n",
      "сизгорводтрыйиемб / забудемобэтоминачнемвсезаново? cer:  1.5294117647058822\n",
      "val cer: 0.9779338297190433\n",
      "epoch 27\n"
     ]
    },
    {
     "name": "stderr",
     "output_type": "stream",
     "text": [
      "100%|██████████| 75/75 [00:03<00:00, 23.39it/s]\n"
     ]
    },
    {
     "name": "stdout",
     "output_type": "stream",
     "text": [
      "train loss:  26.824638718052913\n",
      "екиволиапобере / звукморскихволннапобережье cer:  1.0\n",
      "велнщяокрньстльратка / цветущийсаднаполняетароматом cer:  1.0\n",
      "ранцетныепвеауло / разноцветныецветыналугу cer:  0.625\n",
      "ретноетасомапмх / ребенокиграетсмячомнапляже cer:  1.0666666666666667\n",
      "екиволиапобере / звукморскихволннапобережье cer:  1.0\n",
      "велнщяокрньстльратка / цветущийсаднаполняетароматом cer:  1.0\n",
      "ранцетныепвеауло / разноцветныецветыналугу cer:  0.625\n",
      "ретноетасомапмх / ребенокиграетсмячомнапляже cer:  1.0666666666666667\n",
      "train cer: 0.932926829268292\n"
     ]
    },
    {
     "name": "stderr",
     "output_type": "stream",
     "text": [
      " 83%|████████▎ | 20/24 [00:00<00:00, 23.88it/s]\n"
     ]
    },
    {
     "ename": "KeyboardInterrupt",
     "evalue": "",
     "output_type": "error",
     "traceback": [
      "\u001b[0;31m---------------------------------------------------------------------------\u001b[0m",
      "\u001b[0;31mKeyboardInterrupt\u001b[0m                         Traceback (most recent call last)",
      "Cell \u001b[0;32mIn[121], line 12\u001b[0m\n\u001b[1;32m     10\u001b[0m train_cer\u001b[38;5;241m.\u001b[39mappend(tc)\n\u001b[1;32m     11\u001b[0m \u001b[38;5;28mprint\u001b[39m(\u001b[38;5;124m\"\u001b[39m\u001b[38;5;124mtrain cer:\u001b[39m\u001b[38;5;124m\"\u001b[39m, tc)\n\u001b[0;32m---> 12\u001b[0m hist, r, target \u001b[38;5;241m=\u001b[39m \u001b[43mval_step\u001b[49m\u001b[43m(\u001b[49m\u001b[43m)\u001b[49m\n\u001b[1;32m     13\u001b[0m vl \u001b[38;5;241m=\u001b[39m \u001b[38;5;28msum\u001b[39m(hist)\u001b[38;5;241m/\u001b[39m\u001b[38;5;28mlen\u001b[39m(hist)\n\u001b[1;32m     14\u001b[0m \u001b[38;5;28mprint\u001b[39m(\u001b[38;5;124m\"\u001b[39m\u001b[38;5;124mval loss: \u001b[39m\u001b[38;5;124m\"\u001b[39m, vl)\n",
      "Cell \u001b[0;32mIn[106], line 7\u001b[0m, in \u001b[0;36mval_step\u001b[0;34m()\u001b[0m\n\u001b[1;32m      5\u001b[0m r\u001b[38;5;241m=\u001b[39m[]\n\u001b[1;32m      6\u001b[0m target \u001b[38;5;241m=\u001b[39m []\n\u001b[0;32m----> 7\u001b[0m \u001b[43m\u001b[49m\u001b[38;5;28;43;01mfor\u001b[39;49;00m\u001b[43m \u001b[49m\u001b[43mbatch\u001b[49m\u001b[43m \u001b[49m\u001b[38;5;129;43;01min\u001b[39;49;00m\u001b[43m \u001b[49m\u001b[43mtqdm\u001b[49m\u001b[38;5;241;43m.\u001b[39;49m\u001b[43mtqdm\u001b[49m\u001b[43m(\u001b[49m\u001b[43mval_dataloader\u001b[49m\u001b[43m)\u001b[49m\u001b[43m:\u001b[49m\n\u001b[1;32m      8\u001b[0m \u001b[43m    \u001b[49m\u001b[43mi\u001b[49m\u001b[38;5;241;43m+\u001b[39;49m\u001b[38;5;241;43m=\u001b[39;49m\u001b[38;5;241;43m1\u001b[39;49m\n\u001b[1;32m      9\u001b[0m \u001b[43m    \u001b[49m\u001b[43mspectrograms\u001b[49m\u001b[43m \u001b[49m\u001b[38;5;241;43m=\u001b[39;49m\u001b[43m \u001b[49m\u001b[43m[\u001b[49m\u001b[43mtrain_transforms\u001b[49m\u001b[43m(\u001b[49m\u001b[43mi\u001b[49m\u001b[43m)\u001b[49m\u001b[38;5;241;43m.\u001b[39;49m\u001b[43mpermute\u001b[49m\u001b[43m(\u001b[49m\u001b[38;5;241;43m0\u001b[39;49m\u001b[43m,\u001b[49m\u001b[38;5;241;43m2\u001b[39;49m\u001b[43m,\u001b[49m\u001b[38;5;241;43m1\u001b[39;49m\u001b[43m)\u001b[49m\u001b[43m \u001b[49m\u001b[38;5;28;43;01mfor\u001b[39;49;00m\u001b[43m \u001b[49m\u001b[43mi\u001b[49m\u001b[43m \u001b[49m\u001b[38;5;129;43;01min\u001b[39;49;00m\u001b[43m \u001b[49m\u001b[43mbatch\u001b[49m\u001b[43m[\u001b[49m\u001b[38;5;241;43m1\u001b[39;49m\u001b[43m]\u001b[49m\u001b[43m]\u001b[49m\n",
      "File \u001b[0;32m~/projects/VoiceSpeaker/Multi-lingual Phoneme Recognition/venv/lib/python3.11/site-packages/tqdm/std.py:1181\u001b[0m, in \u001b[0;36mtqdm.__iter__\u001b[0;34m(self)\u001b[0m\n\u001b[1;32m   1178\u001b[0m time \u001b[38;5;241m=\u001b[39m \u001b[38;5;28mself\u001b[39m\u001b[38;5;241m.\u001b[39m_time\n\u001b[1;32m   1180\u001b[0m \u001b[38;5;28;01mtry\u001b[39;00m:\n\u001b[0;32m-> 1181\u001b[0m \u001b[43m    \u001b[49m\u001b[38;5;28;43;01mfor\u001b[39;49;00m\u001b[43m \u001b[49m\u001b[43mobj\u001b[49m\u001b[43m \u001b[49m\u001b[38;5;129;43;01min\u001b[39;49;00m\u001b[43m \u001b[49m\u001b[43miterable\u001b[49m\u001b[43m:\u001b[49m\n\u001b[1;32m   1182\u001b[0m \u001b[43m        \u001b[49m\u001b[38;5;28;43;01myield\u001b[39;49;00m\u001b[43m \u001b[49m\u001b[43mobj\u001b[49m\n\u001b[1;32m   1183\u001b[0m \u001b[43m        \u001b[49m\u001b[38;5;66;43;03m# Update and possibly print the progressbar.\u001b[39;49;00m\n\u001b[1;32m   1184\u001b[0m \u001b[43m        \u001b[49m\u001b[38;5;66;43;03m# Note: does not call self.update(1) for speed optimisation.\u001b[39;49;00m\n",
      "File \u001b[0;32m~/projects/VoiceSpeaker/Multi-lingual Phoneme Recognition/venv/lib/python3.11/site-packages/torch/utils/data/dataloader.py:631\u001b[0m, in \u001b[0;36m_BaseDataLoaderIter.__next__\u001b[0;34m(self)\u001b[0m\n\u001b[1;32m    628\u001b[0m \u001b[38;5;28;01mif\u001b[39;00m \u001b[38;5;28mself\u001b[39m\u001b[38;5;241m.\u001b[39m_sampler_iter \u001b[38;5;129;01mis\u001b[39;00m \u001b[38;5;28;01mNone\u001b[39;00m:\n\u001b[1;32m    629\u001b[0m     \u001b[38;5;66;03m# TODO(https://github.com/pytorch/pytorch/issues/76750)\u001b[39;00m\n\u001b[1;32m    630\u001b[0m     \u001b[38;5;28mself\u001b[39m\u001b[38;5;241m.\u001b[39m_reset()  \u001b[38;5;66;03m# type: ignore[call-arg]\u001b[39;00m\n\u001b[0;32m--> 631\u001b[0m data \u001b[38;5;241m=\u001b[39m \u001b[38;5;28;43mself\u001b[39;49m\u001b[38;5;241;43m.\u001b[39;49m\u001b[43m_next_data\u001b[49m\u001b[43m(\u001b[49m\u001b[43m)\u001b[49m\n\u001b[1;32m    632\u001b[0m \u001b[38;5;28mself\u001b[39m\u001b[38;5;241m.\u001b[39m_num_yielded \u001b[38;5;241m+\u001b[39m\u001b[38;5;241m=\u001b[39m \u001b[38;5;241m1\u001b[39m\n\u001b[1;32m    633\u001b[0m \u001b[38;5;28;01mif\u001b[39;00m \u001b[38;5;28mself\u001b[39m\u001b[38;5;241m.\u001b[39m_dataset_kind \u001b[38;5;241m==\u001b[39m _DatasetKind\u001b[38;5;241m.\u001b[39mIterable \u001b[38;5;129;01mand\u001b[39;00m \\\n\u001b[1;32m    634\u001b[0m         \u001b[38;5;28mself\u001b[39m\u001b[38;5;241m.\u001b[39m_IterableDataset_len_called \u001b[38;5;129;01mis\u001b[39;00m \u001b[38;5;129;01mnot\u001b[39;00m \u001b[38;5;28;01mNone\u001b[39;00m \u001b[38;5;129;01mand\u001b[39;00m \\\n\u001b[1;32m    635\u001b[0m         \u001b[38;5;28mself\u001b[39m\u001b[38;5;241m.\u001b[39m_num_yielded \u001b[38;5;241m>\u001b[39m \u001b[38;5;28mself\u001b[39m\u001b[38;5;241m.\u001b[39m_IterableDataset_len_called:\n",
      "File \u001b[0;32m~/projects/VoiceSpeaker/Multi-lingual Phoneme Recognition/venv/lib/python3.11/site-packages/torch/utils/data/dataloader.py:675\u001b[0m, in \u001b[0;36m_SingleProcessDataLoaderIter._next_data\u001b[0;34m(self)\u001b[0m\n\u001b[1;32m    673\u001b[0m \u001b[38;5;28;01mdef\u001b[39;00m \u001b[38;5;21m_next_data\u001b[39m(\u001b[38;5;28mself\u001b[39m):\n\u001b[1;32m    674\u001b[0m     index \u001b[38;5;241m=\u001b[39m \u001b[38;5;28mself\u001b[39m\u001b[38;5;241m.\u001b[39m_next_index()  \u001b[38;5;66;03m# may raise StopIteration\u001b[39;00m\n\u001b[0;32m--> 675\u001b[0m     data \u001b[38;5;241m=\u001b[39m \u001b[38;5;28;43mself\u001b[39;49m\u001b[38;5;241;43m.\u001b[39;49m\u001b[43m_dataset_fetcher\u001b[49m\u001b[38;5;241;43m.\u001b[39;49m\u001b[43mfetch\u001b[49m\u001b[43m(\u001b[49m\u001b[43mindex\u001b[49m\u001b[43m)\u001b[49m  \u001b[38;5;66;03m# may raise StopIteration\u001b[39;00m\n\u001b[1;32m    676\u001b[0m     \u001b[38;5;28;01mif\u001b[39;00m \u001b[38;5;28mself\u001b[39m\u001b[38;5;241m.\u001b[39m_pin_memory:\n\u001b[1;32m    677\u001b[0m         data \u001b[38;5;241m=\u001b[39m _utils\u001b[38;5;241m.\u001b[39mpin_memory\u001b[38;5;241m.\u001b[39mpin_memory(data, \u001b[38;5;28mself\u001b[39m\u001b[38;5;241m.\u001b[39m_pin_memory_device)\n",
      "File \u001b[0;32m~/projects/VoiceSpeaker/Multi-lingual Phoneme Recognition/venv/lib/python3.11/site-packages/torch/utils/data/_utils/fetch.py:51\u001b[0m, in \u001b[0;36m_MapDatasetFetcher.fetch\u001b[0;34m(self, possibly_batched_index)\u001b[0m\n\u001b[1;32m     49\u001b[0m         data \u001b[38;5;241m=\u001b[39m \u001b[38;5;28mself\u001b[39m\u001b[38;5;241m.\u001b[39mdataset\u001b[38;5;241m.\u001b[39m__getitems__(possibly_batched_index)\n\u001b[1;32m     50\u001b[0m     \u001b[38;5;28;01melse\u001b[39;00m:\n\u001b[0;32m---> 51\u001b[0m         data \u001b[38;5;241m=\u001b[39m \u001b[43m[\u001b[49m\u001b[38;5;28;43mself\u001b[39;49m\u001b[38;5;241;43m.\u001b[39;49m\u001b[43mdataset\u001b[49m\u001b[43m[\u001b[49m\u001b[43midx\u001b[49m\u001b[43m]\u001b[49m\u001b[43m \u001b[49m\u001b[38;5;28;43;01mfor\u001b[39;49;00m\u001b[43m \u001b[49m\u001b[43midx\u001b[49m\u001b[43m \u001b[49m\u001b[38;5;129;43;01min\u001b[39;49;00m\u001b[43m \u001b[49m\u001b[43mpossibly_batched_index\u001b[49m\u001b[43m]\u001b[49m\n\u001b[1;32m     52\u001b[0m \u001b[38;5;28;01melse\u001b[39;00m:\n\u001b[1;32m     53\u001b[0m     data \u001b[38;5;241m=\u001b[39m \u001b[38;5;28mself\u001b[39m\u001b[38;5;241m.\u001b[39mdataset[possibly_batched_index]\n",
      "File \u001b[0;32m~/projects/VoiceSpeaker/Multi-lingual Phoneme Recognition/venv/lib/python3.11/site-packages/torch/utils/data/_utils/fetch.py:51\u001b[0m, in \u001b[0;36m<listcomp>\u001b[0;34m(.0)\u001b[0m\n\u001b[1;32m     49\u001b[0m         data \u001b[38;5;241m=\u001b[39m \u001b[38;5;28mself\u001b[39m\u001b[38;5;241m.\u001b[39mdataset\u001b[38;5;241m.\u001b[39m__getitems__(possibly_batched_index)\n\u001b[1;32m     50\u001b[0m     \u001b[38;5;28;01melse\u001b[39;00m:\n\u001b[0;32m---> 51\u001b[0m         data \u001b[38;5;241m=\u001b[39m [\u001b[38;5;28;43mself\u001b[39;49m\u001b[38;5;241;43m.\u001b[39;49m\u001b[43mdataset\u001b[49m\u001b[43m[\u001b[49m\u001b[43midx\u001b[49m\u001b[43m]\u001b[49m \u001b[38;5;28;01mfor\u001b[39;00m idx \u001b[38;5;129;01min\u001b[39;00m possibly_batched_index]\n\u001b[1;32m     52\u001b[0m \u001b[38;5;28;01melse\u001b[39;00m:\n\u001b[1;32m     53\u001b[0m     data \u001b[38;5;241m=\u001b[39m \u001b[38;5;28mself\u001b[39m\u001b[38;5;241m.\u001b[39mdataset[possibly_batched_index]\n",
      "Cell \u001b[0;32mIn[25], line 10\u001b[0m, in \u001b[0;36mSpeechDataset.__getitem__\u001b[0;34m(self, idx)\u001b[0m\n\u001b[1;32m      8\u001b[0m \u001b[38;5;28;01mdef\u001b[39;00m \u001b[38;5;21m__getitem__\u001b[39m(\u001b[38;5;28mself\u001b[39m, idx: \u001b[38;5;28mint\u001b[39m):\n\u001b[1;32m      9\u001b[0m     new_idx \u001b[38;5;241m=\u001b[39m idx\u001b[38;5;241m+\u001b[39m\u001b[38;5;28mself\u001b[39m\u001b[38;5;241m.\u001b[39mstart\n\u001b[0;32m---> 10\u001b[0m     \u001b[38;5;28;01mreturn\u001b[39;00m idx, \u001b[43mget_audio\u001b[49m\u001b[43m(\u001b[49m\u001b[43mget_audio_path\u001b[49m\u001b[43m(\u001b[49m\u001b[38;5;28;43mself\u001b[39;49m\u001b[38;5;241;43m.\u001b[39;49m\u001b[43mdf\u001b[49m\u001b[43m[\u001b[49m\u001b[38;5;124;43m\"\u001b[39;49m\u001b[38;5;124;43mЧисло\u001b[39;49m\u001b[38;5;124;43m\"\u001b[39;49m\u001b[43m]\u001b[49m\u001b[43m[\u001b[49m\u001b[43mnew_idx\u001b[49m\u001b[43m]\u001b[49m\u001b[43m)\u001b[49m\u001b[43m)\u001b[49m, \u001b[38;5;28mself\u001b[39m\u001b[38;5;241m.\u001b[39mdf[\u001b[38;5;124m\"\u001b[39m\u001b[38;5;124mРусская речь\u001b[39m\u001b[38;5;124m\"\u001b[39m][new_idx]\n",
      "Cell \u001b[0;32mIn[5], line 15\u001b[0m, in \u001b[0;36mget_audio\u001b[0;34m(path)\u001b[0m\n\u001b[1;32m     14\u001b[0m \u001b[38;5;28;01mdef\u001b[39;00m \u001b[38;5;21mget_audio\u001b[39m(path: \u001b[38;5;28mstr\u001b[39m):\n\u001b[0;32m---> 15\u001b[0m     \u001b[38;5;28;01mreturn\u001b[39;00m torch\u001b[38;5;241m.\u001b[39mTensor(\u001b[43mlibrosa\u001b[49m\u001b[38;5;241;43m.\u001b[39;49m\u001b[43mload\u001b[49m\u001b[43m(\u001b[49m\u001b[43mpath\u001b[49m\u001b[43m,\u001b[49m\u001b[43m \u001b[49m\u001b[43msr\u001b[49m\u001b[38;5;241;43m=\u001b[39;49m\u001b[38;5;241;43m16000\u001b[39;49m\u001b[43m)\u001b[49m[\u001b[38;5;241m0\u001b[39m])\u001b[38;5;241m.\u001b[39mview(\u001b[38;5;241m1\u001b[39m,\u001b[38;5;241m-\u001b[39m\u001b[38;5;241m1\u001b[39m)\n",
      "File \u001b[0;32m~/projects/VoiceSpeaker/Multi-lingual Phoneme Recognition/venv/lib/python3.11/site-packages/librosa/core/audio.py:192\u001b[0m, in \u001b[0;36mload\u001b[0;34m(path, sr, mono, offset, duration, dtype, res_type)\u001b[0m\n\u001b[1;32m    189\u001b[0m     y \u001b[38;5;241m=\u001b[39m to_mono(y)\n\u001b[1;32m    191\u001b[0m \u001b[38;5;28;01mif\u001b[39;00m sr \u001b[38;5;129;01mis\u001b[39;00m \u001b[38;5;129;01mnot\u001b[39;00m \u001b[38;5;28;01mNone\u001b[39;00m:\n\u001b[0;32m--> 192\u001b[0m     y \u001b[38;5;241m=\u001b[39m \u001b[43mresample\u001b[49m\u001b[43m(\u001b[49m\u001b[43my\u001b[49m\u001b[43m,\u001b[49m\u001b[43m \u001b[49m\u001b[43morig_sr\u001b[49m\u001b[38;5;241;43m=\u001b[39;49m\u001b[43msr_native\u001b[49m\u001b[43m,\u001b[49m\u001b[43m \u001b[49m\u001b[43mtarget_sr\u001b[49m\u001b[38;5;241;43m=\u001b[39;49m\u001b[43msr\u001b[49m\u001b[43m,\u001b[49m\u001b[43m \u001b[49m\u001b[43mres_type\u001b[49m\u001b[38;5;241;43m=\u001b[39;49m\u001b[43mres_type\u001b[49m\u001b[43m)\u001b[49m\n\u001b[1;32m    194\u001b[0m \u001b[38;5;28;01melse\u001b[39;00m:\n\u001b[1;32m    195\u001b[0m     sr \u001b[38;5;241m=\u001b[39m sr_native\n",
      "File \u001b[0;32m~/projects/VoiceSpeaker/Multi-lingual Phoneme Recognition/venv/lib/python3.11/site-packages/librosa/core/audio.py:627\u001b[0m, in \u001b[0;36mresample\u001b[0;34m(y, orig_sr, target_sr, res_type, fix, scale, axis, **kwargs)\u001b[0m\n\u001b[1;32m    524\u001b[0m \u001b[38;5;250m\u001b[39m\u001b[38;5;124;03m\"\"\"Resample a time series from orig_sr to target_sr\u001b[39;00m\n\u001b[1;32m    525\u001b[0m \n\u001b[1;32m    526\u001b[0m \u001b[38;5;124;03mBy default, this uses a high-quality method (`soxr_hq`) for band-limited sinc\u001b[39;00m\n\u001b[0;32m   (...)\u001b[0m\n\u001b[1;32m    624\u001b[0m \u001b[38;5;124;03m((117601,), (42668,))\u001b[39;00m\n\u001b[1;32m    625\u001b[0m \u001b[38;5;124;03m\"\"\"\u001b[39;00m\n\u001b[1;32m    626\u001b[0m \u001b[38;5;66;03m# First, validate the audio buffer\u001b[39;00m\n\u001b[0;32m--> 627\u001b[0m \u001b[43mutil\u001b[49m\u001b[38;5;241;43m.\u001b[39;49m\u001b[43mvalid_audio\u001b[49m\u001b[43m(\u001b[49m\u001b[43my\u001b[49m\u001b[43m,\u001b[49m\u001b[43m \u001b[49m\u001b[43mmono\u001b[49m\u001b[38;5;241;43m=\u001b[39;49m\u001b[38;5;28;43;01mFalse\u001b[39;49;00m\u001b[43m)\u001b[49m\n\u001b[1;32m    629\u001b[0m \u001b[38;5;28;01mif\u001b[39;00m orig_sr \u001b[38;5;241m==\u001b[39m target_sr:\n\u001b[1;32m    630\u001b[0m     \u001b[38;5;28;01mreturn\u001b[39;00m y\n",
      "File \u001b[0;32m~/projects/VoiceSpeaker/Multi-lingual Phoneme Recognition/venv/lib/python3.11/site-packages/librosa/util/utils.py:313\u001b[0m, in \u001b[0;36mvalid_audio\u001b[0;34m(y, mono)\u001b[0m\n\u001b[1;32m    308\u001b[0m \u001b[38;5;28;01mif\u001b[39;00m mono \u001b[38;5;129;01mand\u001b[39;00m y\u001b[38;5;241m.\u001b[39mndim \u001b[38;5;241m!=\u001b[39m \u001b[38;5;241m1\u001b[39m:\n\u001b[1;32m    309\u001b[0m     \u001b[38;5;28;01mraise\u001b[39;00m ParameterError(\n\u001b[1;32m    310\u001b[0m         \u001b[38;5;124mf\u001b[39m\u001b[38;5;124m\"\u001b[39m\u001b[38;5;124mInvalid shape for monophonic audio: ndim=\u001b[39m\u001b[38;5;132;01m{\u001b[39;00my\u001b[38;5;241m.\u001b[39mndim\u001b[38;5;132;01m:\u001b[39;00m\u001b[38;5;124md\u001b[39m\u001b[38;5;132;01m}\u001b[39;00m\u001b[38;5;124m, shape=\u001b[39m\u001b[38;5;132;01m{\u001b[39;00my\u001b[38;5;241m.\u001b[39mshape\u001b[38;5;132;01m}\u001b[39;00m\u001b[38;5;124m\"\u001b[39m\n\u001b[1;32m    311\u001b[0m     )\n\u001b[0;32m--> 313\u001b[0m \u001b[38;5;28;01mif\u001b[39;00m \u001b[38;5;129;01mnot\u001b[39;00m \u001b[43mnp\u001b[49m\u001b[38;5;241;43m.\u001b[39;49m\u001b[43misfinite\u001b[49m\u001b[43m(\u001b[49m\u001b[43my\u001b[49m\u001b[43m)\u001b[49m\u001b[38;5;241m.\u001b[39mall():\n\u001b[1;32m    314\u001b[0m     \u001b[38;5;28;01mraise\u001b[39;00m ParameterError(\u001b[38;5;124m\"\u001b[39m\u001b[38;5;124mAudio buffer is not finite everywhere\u001b[39m\u001b[38;5;124m\"\u001b[39m)\n\u001b[1;32m    316\u001b[0m \u001b[38;5;28;01mreturn\u001b[39;00m \u001b[38;5;28;01mTrue\u001b[39;00m\n",
      "\u001b[0;31mKeyboardInterrupt\u001b[0m: "
     ]
    }
   ],
   "source": [
    "\n",
    "for epoch in range(300):\n",
    "    print(\"epoch\", epoch)\n",
    "    hist, r, target = train_step()\n",
    "    tl = sum(hist)/len(hist)\n",
    "    train_loss.append(tl)\n",
    "    print(\"train loss: \", tl)\n",
    "    show_batch(r[-1], target[-1])\n",
    "    show_batch(r[-2], target[-2])\n",
    "    tc = avg_cer(r, target)\n",
    "    train_cer.append(tc)\n",
    "    print(\"train cer:\", tc)\n",
    "    hist, r, target = val_step()\n",
    "    vl = sum(hist)/len(hist)\n",
    "    print(\"val loss: \", vl)\n",
    "    val_loss.append(vl)\n",
    "    show_batch(r[-1], target[-1])\n",
    "    show_batch(r[-2], target[-2])\n",
    "    vc = avg_cer(r, target)\n",
    "    val_cer.append(avg_cer(r, target))\n",
    "    print(\"val cer:\", vc)"
   ]
  },
  {
   "cell_type": "code",
   "execution_count": 122,
   "metadata": {},
   "outputs": [
    {
     "data": {
      "text/plain": [
       "<matplotlib.legend.Legend at 0x7a46f1d30f90>"
      ]
     },
     "execution_count": 122,
     "metadata": {},
     "output_type": "execute_result"
    },
    {
     "data": {
      "image/png": "[encoded data removed]",
      "text/plain": [
       "<Figure size 640x480 with 1 Axes>"
      ]
     },
     "metadata": {},
     "output_type": "display_data"
    }
   ],
   "source": [
    "plt.plot(train_cer, label='train cer')\n",
    "plt.plot(val_cer, label='val cer')\n",
    "plt.legend()"
   ]
  },
  {
   "cell_type": "code",
   "execution_count": 123,
   "metadata": {},
   "outputs": [
    {
     "data": {
      "text/plain": [
       "<matplotlib.legend.Legend at 0x7a468a34ad10>"
      ]
     },
     "execution_count": 123,
     "metadata": {},
     "output_type": "execute_result"
    },
    {
     "data": {
      "image/png": "[encoded data removed]",
      "text/plain": [
       "<Figure size 640x480 with 1 Axes>"
      ]
     },
     "metadata": {},
     "output_type": "display_data"
    }
   ],
   "source": [
    "plt.plot([math.log(i) for i in train_loss[2:]], label='train loss')\n",
    "plt.plot([math.log(i) for i in val_loss][2:], label='val loss')\n",
    "plt.legend()"
   ]
  },
  {
   "cell_type": "code",
   "execution_count": null,
   "metadata": {},
   "outputs": [],
   "source": [
    "torch.save(model, 'arina1903.torch')"
   ]
  },
  {
   "cell_type": "code",
   "execution_count": 116,
   "metadata": {},
   "outputs": [],
   "source": [
    "model = torch.load('arina1903.torch')"
   ]
  },
  {
   "cell_type": "code",
   "execution_count": 118,
   "metadata": {},
   "outputs": [
    {
     "data": {
      "text/plain": [
       "Model(\n",
       "  (cnn): Sequential(\n",
       "    (0): Conv1d(128, 128, kernel_size=(3,), stride=(1,), padding=(1,))\n",
       "    (1): BatchNorm1d(128, eps=1e-05, momentum=0.1, affine=True, track_running_stats=True)\n",
       "    (2): MaxPool1d(kernel_size=2, stride=2, padding=0, dilation=1, ceil_mode=False)\n",
       "    (3): Conv1d(128, 64, kernel_size=(3,), stride=(1,), padding=(1,))\n",
       "    (4): BatchNorm1d(64, eps=1e-05, momentum=0.1, affine=True, track_running_stats=True)\n",
       "    (5): MaxPool1d(kernel_size=2, stride=2, padding=0, dilation=1, ceil_mode=False)\n",
       "  )\n",
       "  (rnn): GRU(64, 256, batch_first=True, bidirectional=True)\n",
       "  (fc): Linear(in_features=512, out_features=34, bias=True)\n",
       "  (act): LogSoftmax(dim=-1)\n",
       ")"
      ]
     },
     "execution_count": 118,
     "metadata": {},
     "output_type": "execute_result"
    }
   ],
   "source": [
    "model.to(device)"
   ]
  },
  {
   "cell_type": "markdown",
   "metadata": {},
   "source": [
    "Гипотеза: Сформировать батчи как набор индексов, запоминать лосс  на каждом батче. Подавать модели батч с наибольшим лоссоом."
   ]
  }
 ],
 "metadata": {
  "colab": {
   "provenance": []
  },
  "kernelspec": {
   "display_name": "Python 3 (ipykernel)",
   "language": "python",
   "name": "python3"
  },
  "language_info": {
   "codemirror_mode": {
    "name": "ipython",
    "version": 3
   },
   "file_extension": ".py",
   "mimetype": "text/x-python",
   "name": "python",
   "nbconvert_exporter": "python",
   "pygments_lexer": "ipython3",
   "version": "3.11.6"
  }
 },
 "nbformat": 4,
 "nbformat_minor": 4
}
