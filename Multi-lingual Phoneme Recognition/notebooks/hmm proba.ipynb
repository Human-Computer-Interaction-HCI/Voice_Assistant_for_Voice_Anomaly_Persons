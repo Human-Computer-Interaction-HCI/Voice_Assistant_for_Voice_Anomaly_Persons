{
 "cells": [
  {
   "cell_type": "code",
   "execution_count": 1,
   "metadata": {},
   "outputs": [],
   "source": [
    "ds_path = '/home/boris/Projects/Voice_Assistant_for_Voice_Anomaly_Persons/Multi-lingual Phoneme Recognition/data/xls-r_dataset_v4.csv'"
   ]
  },
  {
   "cell_type": "code",
   "execution_count": 2,
   "metadata": {},
   "outputs": [],
   "source": [
    "from collections import defaultdict, Counter\n",
    "from typing import Iterable\n",
    "\n",
    "import pandas as pd\n",
    "import numpy as np"
   ]
  },
  {
   "cell_type": "code",
   "execution_count": 3,
   "metadata": {},
   "outputs": [],
   "source": [
    "from sklearn.model_selection import train_test_split"
   ]
  },
  {
   "cell_type": "code",
   "execution_count": 4,
   "metadata": {},
   "outputs": [],
   "source": [
    "import json\n",
    "\n",
    "f = open(\"/home/boris/Projects/Voice_Assistant_for_Voice_Anomaly_Persons/Multi-lingual Phoneme Recognition/models/processor/vocab.json\")\n",
    "phonemes: dict[str, int] = json.load(f)\n",
    "f.close()\n",
    "\n",
    "phonemes_reverse ={j:i for i, j in phonemes.items()}"
   ]
  },
  {
   "cell_type": "code",
   "execution_count": 5,
   "metadata": {},
   "outputs": [],
   "source": [
    "df = pd.read_csv(ds_path)"
   ]
  },
  {
   "cell_type": "code",
   "execution_count": 6,
   "metadata": {},
   "outputs": [
    {
     "data": {
      "text/plain": [
       "('k r a n d i', 'радио')"
      ]
     },
     "execution_count": 6,
     "metadata": {},
     "output_type": "execute_result"
    }
   ],
   "source": [
    "df.iloc[0]['IPA'], df.iloc[0]['text']"
   ]
  },
  {
   "cell_type": "code",
   "execution_count": 7,
   "metadata": {},
   "outputs": [],
   "source": [
    "train_df, test_df = train_test_split(df)"
   ]
  },
  {
   "cell_type": "code",
   "execution_count": 8,
   "metadata": {},
   "outputs": [
    {
     "data": {
      "text/plain": [
       "(1335, 445)"
      ]
     },
     "execution_count": 8,
     "metadata": {},
     "output_type": "execute_result"
    }
   ],
   "source": [
    "len(train_df), len(test_df)"
   ]
  },
  {
   "cell_type": "code",
   "execution_count": 9,
   "metadata": {},
   "outputs": [],
   "source": [
    "def get_triplets(ipa: list[str], text: str) -> Iterable[tuple[tuple[str, str], str]]:\n",
    "    for i in range(min(len(ipa)-1, len(text))):\n",
    "        yield (ipa[i], ipa[i+1]), text[i]"
   ]
  },
  {
   "cell_type": "code",
   "execution_count": 10,
   "metadata": {},
   "outputs": [],
   "source": [
    "example = get_triplets(train_df.iloc[0]['IPA'].split(), train_df.iloc[0]['text'])"
   ]
  },
  {
   "cell_type": "code",
   "execution_count": 11,
   "metadata": {},
   "outputs": [],
   "source": [
    "def prepare_text(raw: str) -> str:\n",
    "    return ''.join(i.lower() for i in raw if i.isalpha())"
   ]
  },
  {
   "cell_type": "code",
   "execution_count": 12,
   "metadata": {},
   "outputs": [],
   "source": [
    "class HMMState:\n",
    "    _state: defaultdict[tuple[str, str], Counter]\n",
    "    def __init__(self) -> None:\n",
    "        self._state = defaultdict(lambda: Counter())"
   ]
  },
  {
   "cell_type": "code",
   "execution_count": 13,
   "metadata": {},
   "outputs": [
    {
     "data": {
      "text/plain": [
       "392"
      ]
     },
     "execution_count": 13,
     "metadata": {},
     "output_type": "execute_result"
    }
   ],
   "source": [
    "len(phonemes.keys())"
   ]
  },
  {
   "cell_type": "code",
   "execution_count": 14,
   "metadata": {},
   "outputs": [
    {
     "name": "stdout",
     "output_type": "stream",
     "text": [
      "{'и', 'д', 'ц', 'ш', 'o', 'й', 'т', 't', 'р', 'ё', 'e', 'о', 'л', 'ч', 'б', 'ъ', 'y', 'ж', 'э', 'b', 'ю', 'ь', 'з', 'ы', 'u', 'а', 'у', 'к', 'щ', 'е', 'н', 'с', 'ф', 'п', 'м', 'c', 'в', 'х', 'я', 'г'}\n",
      "{'ə', 'k', 'æ', 'ɟ', 'ɑ', 'ø', 'o', 'd', 't', 'ɪ', 'h', 'sʲ', 'e', 'ɑɨ', 'ts', 'ʌ', 'ɯ', 'iː', 'v', 'ɑː', 'j', 'y', 'r', 'ʒ', 'p', 'dʒ', 'q', 'b', 'ŋ', 'uː', 'ɚ', 's', 'ç', 'z', 'ɬ', 'u', 'x', 'ɕ', 'ʁ', 'ð', 'ɨ', 'i', 't[', 'ɣ', 'ɾ', 'f', 'n', 'ʎ', 'ɹ', 'ɔ', 'aɪ', 'eɪ', 'ʉ', 'aː', 'ɭ', 'l', 'ʃ', 'w', 'oɪ', 'tʃ', 'eː', 'œ', 'ɔɨ', 'a', 'm', 'ɲ', 'ʊ', 'oʊ', 'θ', 'tʲ', 'ɛ', 'ɡ', 'oː'}\n"
     ]
    }
   ],
   "source": [
    "letters = set()\n",
    "phonemes_red = set()\n",
    "for _, row in df.iterrows():\n",
    "    for ph, l in get_triplets(row['IPA'].split(), prepare_text(row['text'])):\n",
    "        letters.add(l)\n",
    "        phonemes_red.add(ph[0])\n",
    "        phonemes_red.add(ph[1])\n",
    "print(letters)\n",
    "print(phonemes_red)"
   ]
  },
  {
   "cell_type": "code",
   "execution_count": 15,
   "metadata": {},
   "outputs": [],
   "source": [
    "sorted_ab = sorted(letters)\n",
    "sorted_ph = sorted(phonemes_red)"
   ]
  },
  {
   "cell_type": "code",
   "execution_count": 16,
   "metadata": {},
   "outputs": [],
   "source": [
    "hmm_state_np = np.zeros((len(sorted_ph)**2,len(sorted_ab)), dtype=float)"
   ]
  },
  {
   "cell_type": "code",
   "execution_count": 17,
   "metadata": {},
   "outputs": [],
   "source": [
    "hmm_state = HMMState()"
   ]
  },
  {
   "cell_type": "code",
   "execution_count": 18,
   "metadata": {},
   "outputs": [],
   "source": [
    "t=0\n",
    "for _, row in train_df.iterrows():\n",
    "    for ph, l in get_triplets(row['IPA'].split(), prepare_text(row['text'])):\n",
    "        bigram_index = sorted_ph.index(ph[0])*len(sorted_ph) + sorted_ph.index(ph[1])\n",
    "        letter = sorted_ab.index(l)\n",
    "        hmm_state_np[bigram_index, :] = hmm_state_np[bigram_index, :]*t/(t+1)\n",
    "        hmm_state_np[bigram_index, letter] += 1/(t+1)\n",
    "        t+=1"
   ]
  },
  {
   "cell_type": "code",
   "execution_count": 19,
   "metadata": {},
   "outputs": [
    {
     "data": {
      "text/plain": [
       "30915"
      ]
     },
     "execution_count": 19,
     "metadata": {},
     "output_type": "execute_result"
    }
   ],
   "source": [
    "t"
   ]
  },
  {
   "cell_type": "code",
   "execution_count": 20,
   "metadata": {},
   "outputs": [
    {
     "data": {
      "text/plain": [
       "(0.6666666666666666, 0.3333333333333333)"
      ]
     },
     "execution_count": 20,
     "metadata": {},
     "output_type": "execute_result"
    }
   ],
   "source": [
    "2/3,1/3"
   ]
  },
  {
   "cell_type": "code",
   "execution_count": 21,
   "metadata": {},
   "outputs": [
    {
     "data": {
      "text/plain": [
       "(0.75, 0.25)"
      ]
     },
     "execution_count": 21,
     "metadata": {},
     "output_type": "execute_result"
    }
   ],
   "source": [
    "3/4,1/4"
   ]
  },
  {
   "cell_type": "code",
   "execution_count": 22,
   "metadata": {},
   "outputs": [
    {
     "data": {
      "text/plain": [
       "(0.0, 0.9524713943836081)"
      ]
     },
     "execution_count": 22,
     "metadata": {},
     "output_type": "execute_result"
    }
   ],
   "source": [
    "hmm_state_np.min(), hmm_state_np.max()"
   ]
  },
  {
   "cell_type": "code",
   "execution_count": 45,
   "metadata": {},
   "outputs": [],
   "source": [
    "np.save('hmm2k.npy', hmm_state_np)"
   ]
  },
  {
   "attachments": {},
   "cell_type": "markdown",
   "metadata": {},
   "source": [
    "evaluating"
   ]
  },
  {
   "cell_type": "code",
   "execution_count": 23,
   "metadata": {},
   "outputs": [],
   "source": [
    "def predict(ipa: str):\n",
    "    test_ipa = ipa.split()\n",
    "    k=2\n",
    "    result = []\n",
    "    for i in range(len(test_ipa)-1):\n",
    "        p1, p2 = test_ipa[i], test_ipa[i+1]\n",
    "        p1=sorted_ph.index(p1)\n",
    "        p2=sorted_ph.index(p2)\n",
    "        raw_probs = hmm_state_np[ p1*len(sorted_ph)+ p2]\n",
    "        pbs = []\n",
    "        for ix, p in enumerate(raw_probs):\n",
    "            pbs.append((sorted_ab[ix], p))\n",
    "            pbs = sorted(pbs, key=lambda x: -x[1])\n",
    "            if len(pbs)>k:\n",
    "                pbs.pop()\n",
    "        # print(pbs)\n",
    "        result.append(pbs)\n",
    "    return result"
   ]
  },
  {
   "cell_type": "code",
   "execution_count": 24,
   "metadata": {},
   "outputs": [],
   "source": [
    "from Levenshtein import ratio"
   ]
  },
  {
   "cell_type": "code",
   "execution_count": 25,
   "metadata": {},
   "outputs": [],
   "source": [
    "def get_ratios(prediction: list[list[tuple[str, float]]], actual: str):\n",
    "    return ratio(actual, ''.join(x[0][0] for x in prediction))"
   ]
  },
  {
   "cell_type": "code",
   "execution_count": 42,
   "metadata": {},
   "outputs": [
    {
     "data": {
      "text/plain": [
       "0.0"
      ]
     },
     "execution_count": 42,
     "metadata": {},
     "output_type": "execute_result"
    }
   ],
   "source": [
    "1-ratio('abc', 'abc')"
   ]
  },
  {
   "cell_type": "markdown",
   "metadata": {},
   "source": []
  },
  {
   "cell_type": "code",
   "execution_count": 26,
   "metadata": {},
   "outputs": [],
   "source": [
    "test_ipa = 's a l n e tʃ u n i k d e n'"
   ]
  },
  {
   "cell_type": "code",
   "execution_count": 27,
   "metadata": {},
   "outputs": [
    {
     "data": {
      "text/plain": [
       "[[('о', 0.0040671743126617175), ('с', 0.003048064478658715)],\n",
       " [('о', 0.008982258084513575), ('я', 0.008141906869474073)],\n",
       " [('п', 0.005647576651187478), ('о', 0.0015788877311761523)],\n",
       " [('о', 0.0402859165214735), ('а', 0.014269044481870385)],\n",
       " [('ч', 0.005221815360348069), ('е', 0.0008150513600599255)],\n",
       " [('ч', 0.00024209121134581663), ('у', 5.770007501009751e-05)],\n",
       " [('а', 0.0021814841188397367), ('н', 0.0019928932106240966)],\n",
       " [('н', 0.04099674019032559), ('е', 0.02001048283648116)],\n",
       " [('к', 0.008560269466992298), ('е', 0.006117210314857043)],\n",
       " [('д', 0.0010205671378321418), ('л', 0.0004652307685292817)],\n",
       " [('е', 0.046886604360172744), ('д', 0.005644232124571832)],\n",
       " [('н', 0.014896529343130026), ('е', 0.011039223890060058)]]"
      ]
     },
     "execution_count": 27,
     "metadata": {},
     "output_type": "execute_result"
    }
   ],
   "source": [
    "prediction = predict(test_ipa)\n",
    "prediction"
   ]
  },
  {
   "cell_type": "code",
   "execution_count": 28,
   "metadata": {},
   "outputs": [],
   "source": [
    "text='солнечныйдень'"
   ]
  },
  {
   "attachments": {},
   "cell_type": "markdown",
   "metadata": {},
   "source": [
    "top 1 CER"
   ]
  },
  {
   "cell_type": "code",
   "execution_count": 29,
   "metadata": {},
   "outputs": [
    {
     "data": {
      "text/plain": [
       "0.48"
      ]
     },
     "execution_count": 29,
     "metadata": {},
     "output_type": "execute_result"
    }
   ],
   "source": [
    "get_ratios(prediction, text)"
   ]
  },
  {
   "attachments": {},
   "cell_type": "markdown",
   "metadata": {},
   "source": [
    "top 2 CER"
   ]
  },
  {
   "cell_type": "code",
   "execution_count": 30,
   "metadata": {},
   "outputs": [],
   "source": [
    "from itertools import product"
   ]
  },
  {
   "cell_type": "code",
   "execution_count": 31,
   "metadata": {},
   "outputs": [
    {
     "data": {
      "text/plain": [
       "[[('о', 0.0040671743126617175), ('с', 0.003048064478658715)],\n",
       " [('о', 0.008982258084513575), ('я', 0.008141906869474073)],\n",
       " [('п', 0.005647576651187478), ('о', 0.0015788877311761523)],\n",
       " [('о', 0.0402859165214735), ('а', 0.014269044481870385)],\n",
       " [('ч', 0.005221815360348069), ('е', 0.0008150513600599255)],\n",
       " [('ч', 0.00024209121134581663), ('у', 5.770007501009751e-05)],\n",
       " [('а', 0.0021814841188397367), ('н', 0.0019928932106240966)],\n",
       " [('н', 0.04099674019032559), ('е', 0.02001048283648116)],\n",
       " [('к', 0.008560269466992298), ('е', 0.006117210314857043)],\n",
       " [('д', 0.0010205671378321418), ('л', 0.0004652307685292817)],\n",
       " [('е', 0.046886604360172744), ('д', 0.005644232124571832)],\n",
       " [('н', 0.014896529343130026), ('е', 0.011039223890060058)]]"
      ]
     },
     "execution_count": 31,
     "metadata": {},
     "output_type": "execute_result"
    }
   ],
   "source": [
    "prediction"
   ]
  },
  {
   "cell_type": "code",
   "execution_count": 37,
   "metadata": {},
   "outputs": [],
   "source": [
    "def get_substrs(p):\n",
    "    if len(p)==1:\n",
    "        return (i[0] for i in p[0])\n",
    "    try:\n",
    "        substrs = get_substrs(p[1:])\n",
    "    except RecursionError:\n",
    "        substrs = (i[0] for i in p[1])\n",
    "    return (i[0]+j for i in p[0] for j in substrs)"
   ]
  },
  {
   "cell_type": "code",
   "execution_count": 33,
   "metadata": {},
   "outputs": [],
   "source": [
    "def get_top2_cer(prediction, text):\n",
    "    s=0\n",
    "    for i in get_substrs(prediction):\n",
    "        s=max(get_ratios(i, text), s)\n",
    "    return s"
   ]
  },
  {
   "cell_type": "code",
   "execution_count": 38,
   "metadata": {},
   "outputs": [
    {
     "name": "stdout",
     "output_type": "stream",
     "text": [
      "1335 0.3952874449388913 0.40554023273926626                           \r"
     ]
    }
   ],
   "source": [
    "rat=0\n",
    "rat2=0\n",
    "total=0\n",
    "for k, i in train_df.iterrows():\n",
    "    prediction=predict(i['IPA'])\n",
    "    rat += get_ratios(prediction, i['text'])\n",
    "    rat2 += get_top2_cer(prediction, i['text'])\n",
    "    total+=1\n",
    "    print(total, rat/total, rat2/total, end='                          \\r')"
   ]
  },
  {
   "attachments": {},
   "cell_type": "markdown",
   "metadata": {},
   "source": [
    "Получаем top 1 CER на тренировочной выборке 0.39, top 2 - 0.41"
   ]
  },
  {
   "cell_type": "code",
   "execution_count": 43,
   "metadata": {},
   "outputs": [
    {
     "name": "stdout",
     "output_type": "stream",
     "text": [
      "445 0.3673291647224549 0.3781902074702358                            \r"
     ]
    }
   ],
   "source": [
    "rat=0\n",
    "rat2=0\n",
    "total=0\n",
    "for k, i in test_df.iterrows():\n",
    "    prediction=predict(i['IPA'])\n",
    "    rat += get_ratios(prediction, i['text'])\n",
    "    rat2 += get_top2_cer(prediction, i['text'])\n",
    "    total+=1\n",
    "    print(total, rat/total, rat2/total, end='                          \\r')"
   ]
  },
  {
   "attachments": {},
   "cell_type": "markdown",
   "metadata": {},
   "source": [
    "Получаем top 1 CER на тестовой выборке 0.36, top 2 - 0.37"
   ]
  },
  {
   "cell_type": "code",
   "execution_count": null,
   "metadata": {},
   "outputs": [],
   "source": [
    "import random"
   ]
  },
  {
   "cell_type": "code",
   "execution_count": 91,
   "metadata": {},
   "outputs": [
    {
     "data": {
      "text/plain": [
       "[8, 1, 0, 5, 3, 2, 4, 7, 6]"
      ]
     },
     "execution_count": 91,
     "metadata": {},
     "output_type": "execute_result"
    }
   ],
   "source": [
    "l=list(range(9))\n",
    "random.shuffle(l)\n",
    "l"
   ]
  },
  {
   "cell_type": "code",
   "execution_count": 95,
   "metadata": {},
   "outputs": [
    {
     "name": "stdout",
     "output_type": "stream",
     "text": [
      "('солеичсееиде', 0.18381928793867508) 0.10293880124565806 0.56\n"
     ]
    },
    {
     "ename": "KeyboardInterrupt",
     "evalue": "",
     "output_type": "error",
     "traceback": [
      "\u001b[0;31m---------------------------------------------------------------------------\u001b[0m",
      "\u001b[0;31mKeyboardInterrupt\u001b[0m                         Traceback (most recent call last)",
      "Cell \u001b[0;32mIn[95], line 37\u001b[0m\n\u001b[1;32m     35\u001b[0m cer \u001b[39m=\u001b[39m \u001b[39m0\u001b[39m\n\u001b[1;32m     36\u001b[0m mcr \u001b[39m=\u001b[39m\u001b[39m0\u001b[39m\n\u001b[0;32m---> 37\u001b[0m \u001b[39mfor\u001b[39;00m i \u001b[39min\u001b[39;00m get_all_texts(result):\n\u001b[1;32m     38\u001b[0m     r \u001b[39m=\u001b[39m ratio(i[\u001b[39m0\u001b[39m], text)\n\u001b[1;32m     39\u001b[0m     cer \u001b[39m+\u001b[39m\u001b[39m=\u001b[39m i[\u001b[39m1\u001b[39m]\u001b[39m*\u001b[39mr\n",
      "Cell \u001b[0;32mIn[95], line 21\u001b[0m, in \u001b[0;36mget_all_texts\u001b[0;34m(inp, p, s)\u001b[0m\n\u001b[1;32m     18\u001b[0m mp\u001b[39m=\u001b[39m\u001b[39m0\u001b[39m\n\u001b[1;32m     19\u001b[0m \u001b[39mfor\u001b[39;00m ixs_ \u001b[39min\u001b[39;00m \u001b[39mrange\u001b[39m(\u001b[39m10000000\u001b[39m):\u001b[39m#rc(product(range(len(inp[0])),repeat=len(inp))):\u001b[39;00m\n\u001b[0;32m---> 21\u001b[0m     ixs \u001b[39m=\u001b[39m \u001b[39mlist\u001b[39;49m(random\u001b[39m.\u001b[39;49mrandrange(\u001b[39m0\u001b[39;49m, \u001b[39mlen\u001b[39;49m(inp[\u001b[39m0\u001b[39;49m])) \u001b[39mfor\u001b[39;49;00m _ \u001b[39min\u001b[39;49;00m \u001b[39mrange\u001b[39;49m(\u001b[39mlen\u001b[39;49m(inp)))\n\u001b[1;32m     24\u001b[0m     s \u001b[39m=\u001b[39m \u001b[39m'\u001b[39m\u001b[39m'\u001b[39m\n\u001b[1;32m     25\u001b[0m     p \u001b[39m=\u001b[39m \u001b[39m0.0\u001b[39m\n",
      "Cell \u001b[0;32mIn[95], line 21\u001b[0m, in \u001b[0;36m<genexpr>\u001b[0;34m(.0)\u001b[0m\n\u001b[1;32m     18\u001b[0m mp\u001b[39m=\u001b[39m\u001b[39m0\u001b[39m\n\u001b[1;32m     19\u001b[0m \u001b[39mfor\u001b[39;00m ixs_ \u001b[39min\u001b[39;00m \u001b[39mrange\u001b[39m(\u001b[39m10000000\u001b[39m):\u001b[39m#rc(product(range(len(inp[0])),repeat=len(inp))):\u001b[39;00m\n\u001b[0;32m---> 21\u001b[0m     ixs \u001b[39m=\u001b[39m \u001b[39mlist\u001b[39m(random\u001b[39m.\u001b[39;49mrandrange(\u001b[39m0\u001b[39;49m, \u001b[39mlen\u001b[39;49m(inp[\u001b[39m0\u001b[39;49m])) \u001b[39mfor\u001b[39;00m _ \u001b[39min\u001b[39;00m \u001b[39mrange\u001b[39m(\u001b[39mlen\u001b[39m(inp)))\n\u001b[1;32m     24\u001b[0m     s \u001b[39m=\u001b[39m \u001b[39m'\u001b[39m\u001b[39m'\u001b[39m\n\u001b[1;32m     25\u001b[0m     p \u001b[39m=\u001b[39m \u001b[39m0.0\u001b[39m\n",
      "File \u001b[0;32m~/miniconda3/envs/voice-speaker/lib/python3.10/random.py:352\u001b[0m, in \u001b[0;36mRandom.randrange\u001b[0;34m(self, start, stop, step)\u001b[0m\n\u001b[1;32m    350\u001b[0m \u001b[39mif\u001b[39;00m istep \u001b[39m==\u001b[39m \u001b[39m1\u001b[39m:\n\u001b[1;32m    351\u001b[0m     \u001b[39mif\u001b[39;00m width \u001b[39m>\u001b[39m \u001b[39m0\u001b[39m:\n\u001b[0;32m--> 352\u001b[0m         \u001b[39mreturn\u001b[39;00m istart \u001b[39m+\u001b[39m \u001b[39mself\u001b[39;49m\u001b[39m.\u001b[39;49m_randbelow(width)\n\u001b[1;32m    353\u001b[0m     \u001b[39mraise\u001b[39;00m \u001b[39mValueError\u001b[39;00m(\u001b[39m\"\u001b[39m\u001b[39mempty range for randrange() (\u001b[39m\u001b[39m%d\u001b[39;00m\u001b[39m, \u001b[39m\u001b[39m%d\u001b[39;00m\u001b[39m, \u001b[39m\u001b[39m%d\u001b[39;00m\u001b[39m)\u001b[39m\u001b[39m\"\u001b[39m \u001b[39m%\u001b[39m (istart, istop, width))\n\u001b[1;32m    355\u001b[0m \u001b[39m# Non-unit step argument supplied.\u001b[39;00m\n",
      "File \u001b[0;32m~/miniconda3/envs/voice-speaker/lib/python3.10/random.py:246\u001b[0m, in \u001b[0;36mRandom._randbelow_with_getrandbits\u001b[0;34m(self, n)\u001b[0m\n\u001b[1;32m    244\u001b[0m getrandbits \u001b[39m=\u001b[39m \u001b[39mself\u001b[39m\u001b[39m.\u001b[39mgetrandbits\n\u001b[1;32m    245\u001b[0m k \u001b[39m=\u001b[39m n\u001b[39m.\u001b[39mbit_length()  \u001b[39m# don't use (n-1) here because n can be 1\u001b[39;00m\n\u001b[0;32m--> 246\u001b[0m r \u001b[39m=\u001b[39m getrandbits(k)  \u001b[39m# 0 <= r < 2**k\u001b[39;00m\n\u001b[1;32m    247\u001b[0m \u001b[39mwhile\u001b[39;00m r \u001b[39m>\u001b[39m\u001b[39m=\u001b[39m n:\n\u001b[1;32m    248\u001b[0m     r \u001b[39m=\u001b[39m getrandbits(k)\n",
      "\u001b[0;31mKeyboardInterrupt\u001b[0m: "
     ]
    }
   ],
   "source": [
    "def rc(p):\n",
    "    l = []\n",
    "    j=0\n",
    "    for i in p:\n",
    "        j+=1\n",
    "        print(len(l), j, end='   \\r')\n",
    "        l.append(i)\n",
    "        if random.random()<0.02 or len(l)>10000:\n",
    "            c = random.choice(l)\n",
    "            l.remove(c)\n",
    "            if random.random()<0.01:\n",
    "                for i in range(min(random.randint(1,20), len(l))):\n",
    "                    c = random.choice(l)\n",
    "                    l.remove(c)\n",
    "                    yield c\n",
    "\n",
    "def get_all_texts(inp: list[list[tuple[str, float]]], p=1, s=''):\n",
    "    mp=0\n",
    "    for ixs_ in range(10000000):#rc(product(range(len(inp[0])),repeat=len(inp))):\n",
    "        \n",
    "        ixs = list(random.randrange(0, len(inp[0])) for _ in range(len(inp)))\n",
    "        \n",
    "\n",
    "        s = ''\n",
    "        p = 0.0\n",
    "        for i1, i2 in enumerate(ixs):\n",
    "            s+=inp[i1][i2][0]\n",
    "            p+=inp[i1][i2][1]\n",
    "            # if p<0.001*len(s):#/len(s)<0.1:\n",
    "            #     break\n",
    "        if p>=mp:\n",
    "            yield s, p\n",
    "            mp=p\n",
    "mr=0\n",
    "cer = 0\n",
    "mcr =0\n",
    "for i in get_all_texts(result):\n",
    "    r = ratio(i[0], text)\n",
    "    cer += i[1]*r\n",
    "    if  r > mr or i[1]*r>mcr:\n",
    "        mr = max(r, mr)\n",
    "        mcr=max(r,mcr)\n",
    "        print(i, i[1]*r, r)"
   ]
  },
  {
   "attachments": {},
   "cell_type": "markdown",
   "metadata": {},
   "source": [
    "Top 5 CER is about 0.7."
   ]
  },
  {
   "cell_type": "code",
   "execution_count": 98,
   "metadata": {},
   "outputs": [],
   "source": [
    "most_probable_phrase = [i[0][0] for i in result]\n",
    "most_probable_phrase2 = [i[1][0] for i in result]"
   ]
  },
  {
   "cell_type": "code",
   "execution_count": 99,
   "metadata": {},
   "outputs": [
    {
     "data": {
      "text/plain": [
       "'солеччснидне'"
      ]
     },
     "execution_count": 99,
     "metadata": {},
     "output_type": "execute_result"
    }
   ],
   "source": [
    "''.join(most_probable_phrase2)"
   ]
  },
  {
   "cell_type": "code",
   "execution_count": 108,
   "metadata": {},
   "outputs": [
    {
     "data": {
      "text/plain": [
       "0.31999999999999995"
      ]
     },
     "execution_count": 108,
     "metadata": {},
     "output_type": "execute_result"
    }
   ],
   "source": [
    "ratio(''.join(most_probable_phrase), 'солнечныйдень')"
   ]
  },
  {
   "cell_type": "code",
   "execution_count": 105,
   "metadata": {},
   "outputs": [
    {
     "name": "stdout",
     "output_type": "stream",
     "text": [
      "радио 0.23529411764705888\n",
      "это для обучения или экзамена 0.2702702702702703\n",
      "этодляобученияилиэкзамена 0.32432432432432434\n",
      "мне нужно добавить медицина 0.38888888888888884\n",
      "снежинки 0.4\n",
      "затрапезный вид 0.46153846153846156\n",
      "артист невидим 0.48\n",
      "на заднем сидении 0.5185185185185186\n",
      "маленькие женщины 0.5714285714285714\n",
      "солнечныйдень 0.64\n"
     ]
    }
   ],
   "source": [
    "mr=0\n",
    "for i in df['text']:\n",
    "    for j in (most_probable_phrase, most_probable_phrase2):\n",
    "        i1=i\n",
    "        i = ''.join( [k.lower() for k in i if k!=' '])\n",
    "        r = ratio(i, j)\n",
    "        if r> mr:\n",
    "            mr=r\n",
    "            print(i1, r)\n"
   ]
  },
  {
   "cell_type": "code",
   "execution_count": null,
   "metadata": {},
   "outputs": [
    {
     "name": "stdout",
     "output_type": "stream",
     "text": [
      "0.5436893203883495\n",
      "0.34285714285714286\n"
     ]
    }
   ],
   "source": [
    "print(ratio(\"зотсттуоднддеррсстазнновонеоноскреттеемаркоскеемнттел\", 'записьаудиодляраспознаваниескрытыемарковскиемодели'))\n",
    "print(ratio('тсстираовонненнаррткбитесстдделссраовннннимткрриркччсст', 'записьаудиодляраспознаваниескрытыемарковскиемодели'))"
   ]
  },
  {
   "cell_type": "code",
   "execution_count": null,
   "metadata": {},
   "outputs": [
    {
     "name": "stdout",
     "output_type": "stream",
     "text": [
      "0.34285714285714286\n",
      "0.6168224299065421\n"
     ]
    }
   ],
   "source": [
    "print(ratio(\"тсстираовонненнаррткбитесстдделссраовннннимткрриркччсст\", 'записьаудиодляраспознаваниескрытыемарковскиемодели'))\n",
    "print(ratio(\"тсстираовонненнаррткбитесстдделссраовннннимткрриркччсст\", \"тестированиенадругомтекстедлясравненияметриккачества\"))"
   ]
  },
  {
   "cell_type": "code",
   "execution_count": null,
   "metadata": {},
   "outputs": [],
   "source": []
  }
 ],
 "metadata": {
  "kernelspec": {
   "display_name": "voice-speaker",
   "language": "python",
   "name": "python3"
  },
  "language_info": {
   "codemirror_mode": {
    "name": "ipython",
    "version": 3
   },
   "file_extension": ".py",
   "mimetype": "text/x-python",
   "name": "python",
   "nbconvert_exporter": "python",
   "pygments_lexer": "ipython3",
   "version": "3.10.10"
  },
  "orig_nbformat": 4
 },
 "nbformat": 4,
 "nbformat_minor": 2
}
