{
 "cells": [
  {
   "cell_type": "code",
   "execution_count": 1,
   "metadata": {
    "id": "t8hxdLWb_Rpd"
   },
   "outputs": [],
   "source": [
    "data = '/home/boris/Projects/Voice_Assistant_for_Voice_Anomaly_Persons/Multi-lingual Phoneme Recognition/data/raw_kaggle/Speeches.xlsx'"
   ]
  },
  {
   "cell_type": "code",
   "execution_count": 2,
   "metadata": {
    "id": "Ry4Dpt7o_Rpg"
   },
   "outputs": [],
   "source": [
    "import math\n",
    "\n",
    "import jiwer\n",
    "from matplotlib import pyplot as plt\n",
    "import pandas as pd\n",
    "import torch\n",
    "from torch import nn\n",
    "from torch.utils.data import DataLoader\n",
    "import librosa\n",
    "\n",
    "import torchaudio"
   ]
  },
  {
   "cell_type": "markdown",
   "metadata": {
    "id": "eqDkG6V2_Rph"
   },
   "source": [
    "# Data loading"
   ]
  },
  {
   "cell_type": "code",
   "execution_count": 3,
   "metadata": {
    "id": "kthEq-rH_Rpj"
   },
   "outputs": [],
   "source": [
    "BATCH_SIZE = 1"
   ]
  },
  {
   "cell_type": "code",
   "execution_count": 4,
   "metadata": {
    "id": "7ET-LsWA_Rpj"
   },
   "outputs": [
    {
     "data": {
      "text/html": [
       "<div>\n",
       "<style scoped>\n",
       "    .dataframe tbody tr th:only-of-type {\n",
       "        vertical-align: middle;\n",
       "    }\n",
       "\n",
       "    .dataframe tbody tr th {\n",
       "        vertical-align: top;\n",
       "    }\n",
       "\n",
       "    .dataframe thead th {\n",
       "        text-align: right;\n",
       "    }\n",
       "</style>\n",
       "<table border=\"1\" class=\"dataframe\">\n",
       "  <thead>\n",
       "    <tr style=\"text-align: right;\">\n",
       "      <th></th>\n",
       "      <th>Число</th>\n",
       "      <th>Русская речь</th>\n",
       "    </tr>\n",
       "  </thead>\n",
       "  <tbody>\n",
       "    <tr>\n",
       "      <th>0</th>\n",
       "      <td>1</td>\n",
       "      <td>Как пройти до корпуса?</td>\n",
       "    </tr>\n",
       "    <tr>\n",
       "      <th>1</th>\n",
       "      <td>2</td>\n",
       "      <td>Где взять направление?</td>\n",
       "    </tr>\n",
       "    <tr>\n",
       "      <th>2</th>\n",
       "      <td>3</td>\n",
       "      <td>Бумага есть</td>\n",
       "    </tr>\n",
       "    <tr>\n",
       "      <th>3</th>\n",
       "      <td>4</td>\n",
       "      <td>анальгин</td>\n",
       "    </tr>\n",
       "    <tr>\n",
       "      <th>4</th>\n",
       "      <td>5</td>\n",
       "      <td>вата</td>\n",
       "    </tr>\n",
       "  </tbody>\n",
       "</table>\n",
       "</div>"
      ],
      "text/plain": [
       "   Число            Русская речь\n",
       "0      1  Как пройти до корпуса?\n",
       "1      2  Где взять направление?\n",
       "2      3             Бумага есть\n",
       "3      4                анальгин\n",
       "4      5                    вата"
      ]
     },
     "execution_count": 4,
     "metadata": {},
     "output_type": "execute_result"
    }
   ],
   "source": [
    "df = pd.read_excel(data)\n",
    "df.head()"
   ]
  },
  {
   "cell_type": "code",
   "execution_count": 5,
   "metadata": {},
   "outputs": [],
   "source": [
    "def get_audio_path(i: int) -> str:\n",
    "    return f'/home/boris/Projects/Voice_Assistant_for_Voice_Anomaly_Persons/Multi-lingual Phoneme Recognition/data/raw_kaggle/Disorder Voices/Disorder Voices/{i}.wav'\n",
    "def get_audio(path: str):\n",
    "    return torch.Tensor(librosa.load(path, sr=16000)[0]).view(1,-1)"
   ]
  },
  {
   "cell_type": "code",
   "execution_count": 6,
   "metadata": {},
   "outputs": [],
   "source": [
    "class SpeechDataset(torch.utils.data.Dataset):\n",
    "    def __init__(self, df: pd.DataFrame, start=0, end=2000):\n",
    "        self.df = df\n",
    "        self.start=start\n",
    "        self.end=end\n",
    "    def __len__(self):\n",
    "        return self.end - self.start\n",
    "    def __getitem__(self, idx: int):\n",
    "        new_idx = idx+self.start\n",
    "        return get_audio(get_audio_path(self.df[\"Число\"][new_idx])), self.df[\"Русская речь\"][new_idx]\n",
    "abc = '?абвгдеёжзийклмнопрстуфхшщчцьыъэюя'\n",
    "def collate_spl(batch):\n",
    "    wfs, lbls = [], []\n",
    "    for i,j in batch:\n",
    "        wfs.append(i)\n",
    "        lbls.append(j)\n",
    "    \n",
    "    return  wfs, lbls\n",
    "def clear_str(s): return ''.join(i for i in s.lower() if i in abc)"
   ]
  },
  {
   "cell_type": "code",
   "execution_count": 8,
   "metadata": {},
   "outputs": [],
   "source": [
    "def str_to_tensor(strs: list[str])->tuple[torch.Tensor, torch.Tensor]:\n",
    "    lengths = torch.zeros((len(strs),), dtype=int)\n",
    "    result = []\n",
    "    for idx, i in enumerate(strs):\n",
    "        result.append([abc.index(j) for j in i.lower() if j in abc[1:]])\n",
    "        lengths[idx] = len(result[-1])\n",
    "    res_tensor = torch.zeros((len(strs), lengths.max().item()))\n",
    "    for idx0, i in enumerate(result):\n",
    "        for idx1, c in enumerate(i):\n",
    "            res_tensor[idx0, idx1] = c\n",
    "    return res_tensor, lengths"
   ]
  },
  {
   "cell_type": "code",
   "execution_count": 9,
   "metadata": {},
   "outputs": [
    {
     "name": "stderr",
     "output_type": "stream",
     "text": [
      "/home/boris/Projects/Voice_Assistant_for_Voice_Anomaly_Persons/Multi-lingual Phoneme Recognition/venv/lib/python3.11/site-packages/torchaudio/functional/functional.py:584: UserWarning: At least one mel filterbank has all zero values. The value for `n_mels` (128) may be set too high. Or, the value for `n_freqs` (201) may be set too low.\n",
      "  warnings.warn(\n"
     ]
    }
   ],
   "source": [
    "train_transforms = torchaudio.transforms.MelSpectrogram(\n",
    "    n_mels=128\n",
    "    )"
   ]
  },
  {
   "cell_type": "code",
   "execution_count": 10,
   "metadata": {},
   "outputs": [
    {
     "data": {
      "image/png": "[encoded data removed]",
      "text/plain": [
       "<Figure size 640x480 with 16 Axes>"
      ]
     },
     "metadata": {},
     "output_type": "display_data"
    }
   ],
   "source": [
    "fig, axs = plt.subplots(4,4, layout='compressed')\n",
    "for i in range(4):\n",
    "    for j in range(4):\n",
    "        wf = get_audio(get_audio_path(i*4+j+1))\n",
    "        axs[i,j].set_axis_off()\n",
    "        axs[j,i].imshow(train_transforms(wf)[0])"
   ]
  },
  {
   "cell_type": "code",
   "execution_count": 11,
   "metadata": {},
   "outputs": [],
   "source": [
    "train_df = SpeechDataset(df, 0, 15)\n",
    "val_df = SpeechDataset(df, 15, 20)"
   ]
  },
  {
   "cell_type": "code",
   "execution_count": 12,
   "metadata": {},
   "outputs": [],
   "source": [
    "def padded_stack(list_of_tensors, maxlen=16):\n",
    "    maxlen = max(x.shape[1] for x in list_of_tensors)\n",
    "    output = torch.zeros((len(list_of_tensors), maxlen, list_of_tensors[0].shape[-1]))\n",
    "    for i, t in enumerate(list_of_tensors):\n",
    "        output[i, :min(maxlen, t.shape[1]), :] = t[0,:maxlen, :]\n",
    "    return output"
   ]
  },
  {
   "cell_type": "code",
   "execution_count": 13,
   "metadata": {},
   "outputs": [],
   "source": [
    "train_dataloader = DataLoader(train_df, batch_size=BATCH_SIZE, collate_fn=collate_spl, shuffle=True)\n",
    "val_dataloader = DataLoader(val_df, batch_size=BATCH_SIZE, collate_fn=collate_spl, shuffle=True)"
   ]
  },
  {
   "cell_type": "code",
   "execution_count": 14,
   "metadata": {},
   "outputs": [],
   "source": [
    "class Model(nn.Module):\n",
    "    def __init__(self):\n",
    "        super().__init__()\n",
    "        \n",
    "        self.rnn = nn.GRU(input_size=128, \n",
    "                    hidden_size=256, \n",
    "                    num_layers=1, \n",
    "                    batch_first=True, \n",
    "                    bidirectional=True)\n",
    "        \n",
    "        self.fc = nn.Linear(512, 34)\n",
    "        self.act = nn.LogSoftmax(-1)\n",
    "    \n",
    "    def forward(self, X):\n",
    "        # X: batch x 128 x len\n",
    "        X = X[:,:,::4] \n",
    "        X = X.permute(0,2,1)\n",
    "        X, _ = self.rnn(X)\n",
    "        X = self.fc(X)\n",
    "        X = self.act(X)\n",
    "        return X\n",
    "\n",
    "model=Model()"
   ]
  },
  {
   "cell_type": "code",
   "execution_count": 15,
   "metadata": {},
   "outputs": [
    {
     "name": "stdout",
     "output_type": "stream",
     "text": [
      "params:  610338\n"
     ]
    }
   ],
   "source": [
    "print('params: ', sum(i.nelement() for i in model.parameters()))"
   ]
  },
  {
   "cell_type": "code",
   "execution_count": 16,
   "metadata": {},
   "outputs": [],
   "source": [
    "loss = nn.CTCLoss(zero_infinity=True)\n",
    "optimizer = torch.optim.Adam(model.parameters())"
   ]
  },
  {
   "cell_type": "code",
   "execution_count": 17,
   "metadata": {},
   "outputs": [],
   "source": [
    "def get_y_lengths(y):\n",
    "    return torch.ones(y.shape[0], dtype=int)*y.shape[-2]"
   ]
  },
  {
   "cell_type": "code",
   "execution_count": 18,
   "metadata": {},
   "outputs": [],
   "source": [
    "import tqdm"
   ]
  },
  {
   "cell_type": "code",
   "execution_count": 19,
   "metadata": {},
   "outputs": [],
   "source": [
    "def train_step():\n",
    "    history = [0]\n",
    "    model.train()\n",
    "    i=0\n",
    "    r=[]\n",
    "    target = []\n",
    "    optimizer.zero_grad()\n",
    "    for batch in tqdm.tqdm(train_dataloader):\n",
    "        i+=1\n",
    "        spectrograms = [train_transforms(i).permute(0,2,1) for i in batch[0]]\n",
    "        spectrograms = padded_stack(spectrograms).permute(0,2,1) # baatch x features x len\n",
    "        target_t, target_len = str_to_tensor(batch[1])\n",
    "        target += [clear_str(i) for i in batch[1]]\n",
    "        output = model(spectrograms)\n",
    "        lv = loss(output.permute(1,0,2), target_t, get_y_lengths(output), target_len)\n",
    "        lve= torch.exp(lv).item()\n",
    "        history.append(lve)\n",
    "        r.append(output.argmax(-1))\n",
    "        \n",
    "        lv.backward()\n",
    "        if i%8==0:\n",
    "            optimizer.step()\n",
    "            optimizer.zero_grad()\n",
    "    return history, r, target\n",
    "# hist, r, target = train_step()"
   ]
  },
  {
   "cell_type": "code",
   "execution_count": 20,
   "metadata": {},
   "outputs": [],
   "source": [
    "def val_step():\n",
    "    history = [0]\n",
    "    model.eval()\n",
    "    i=0\n",
    "    r=[]\n",
    "    target = []\n",
    "    for batch in tqdm.tqdm(val_dataloader):\n",
    "        i+=1\n",
    "        spectrograms = [train_transforms(i).permute(0,2,1) for i in batch[0]]\n",
    "        spectrograms = padded_stack(spectrograms).permute(0,2,1) # baatch x features x len\n",
    "        target += [clear_str(i) for i in batch[1]]\n",
    "        target_t, target_len = str_to_tensor(batch[1])\n",
    "        output = model(spectrograms)\n",
    "        lv = loss(output.permute(1,0,2), target_t, get_y_lengths(output), target_len)\n",
    "        lve= torch.exp(lv).item()\n",
    "        history.append(lve)\n",
    "        r.append(output.argmax(-1))\n",
    "        \n",
    "    return history, r, target"
   ]
  },
  {
   "cell_type": "code",
   "execution_count": 21,
   "metadata": {},
   "outputs": [
    {
     "name": "stderr",
     "output_type": "stream",
     "text": [
      "100%|██████████| 5/5 [00:01<00:00,  2.67it/s]\n"
     ]
    }
   ],
   "source": [
    "hist, r, arget = val_step()"
   ]
  },
  {
   "cell_type": "code",
   "execution_count": 22,
   "metadata": {},
   "outputs": [],
   "source": [
    "def show_batch(r, target):\n",
    "    am = r\n",
    "    for i in range(am.shape[0]):\n",
    "        p=0\n",
    "        s=''\n",
    "        for j in range(am.shape[1]):\n",
    "            if (c:=am[i,j]) not in [0, p]:\n",
    "                s+=abc[c]\n",
    "                p=c\n",
    "        print(s, 'cer: ', jiwer.cer(s, target) if len(s)>0 else -1)"
   ]
  },
  {
   "cell_type": "code",
   "execution_count": 23,
   "metadata": {},
   "outputs": [
    {
     "name": "stdout",
     "output_type": "stream",
     "text": [
      "рярорхчюгхочэаолэфхлолбгтаорьлхф cer:  0.84375\n"
     ]
    }
   ],
   "source": [
    "show_batch(r[-1], arget[-1])"
   ]
  },
  {
   "cell_type": "code",
   "execution_count": 24,
   "metadata": {},
   "outputs": [
    {
     "data": {
      "text/plain": [
       "[<matplotlib.lines.Line2D at 0x7f946e1b93d0>]"
      ]
     },
     "execution_count": 24,
     "metadata": {},
     "output_type": "execute_result"
    },
    {
     "data": {
      "image/png": "[encoded data removed]",
      "text/plain": [
       "<Figure size 640x480 with 1 Axes>"
      ]
     },
     "metadata": {},
     "output_type": "display_data"
    }
   ],
   "source": [
    "plt.plot(hist)"
   ]
  },
  {
   "cell_type": "code",
   "execution_count": 25,
   "metadata": {},
   "outputs": [],
   "source": [
    "def to_str(r):\n",
    "    res=[]\n",
    "    for i in r:\n",
    "        res.append([])\n",
    "        for bn in i:\n",
    "            res[-1].append(''.join(abc[j] for j in bn))\n",
    "    return res\n",
    "def avg_cer(r, target):\n",
    "    try:\n",
    "        return sum(jiwer.cer(i, j) for i, j in zip(to_str(r), target))/len(target)\n",
    "    except:\n",
    "        return -1\n",
    "# [clear_str(i) for i in batch[1]]"
   ]
  },
  {
   "cell_type": "code",
   "execution_count": 26,
   "metadata": {},
   "outputs": [
    {
     "name": "stdout",
     "output_type": "stream",
     "text": [
      "epoch 0\n"
     ]
    },
    {
     "name": "stderr",
     "output_type": "stream",
     "text": [
      "  0%|          | 0/15 [00:00<?, ?it/s]"
     ]
    },
    {
     "name": "stderr",
     "output_type": "stream",
     "text": [
      "100%|██████████| 15/15 [00:02<00:00,  6.26it/s]\n"
     ]
    },
    {
     "name": "stdout",
     "output_type": "stream",
     "text": [
      "train loss:  238246946727157.47\n",
      "яоьф cer:  1.0\n",
      "одюсзсгф cer:  1.0\n",
      "train cer: 0.9696307631553901\n"
     ]
    },
    {
     "name": "stderr",
     "output_type": "stream",
     "text": [
      "100%|██████████| 5/5 [00:00<00:00, 32.21it/s]\n"
     ]
    },
    {
     "name": "stdout",
     "output_type": "stream",
     "text": [
      "val loss:  98822427.59228516\n",
      "яагвзо cer:  2.1666666666666665\n",
      "озльф cer:  2.6\n",
      "val cer: 0.9889751170238975\n",
      "epoch 1\n"
     ]
    },
    {
     "name": "stderr",
     "output_type": "stream",
     "text": [
      "100%|██████████| 15/15 [00:00<00:00, 15.07it/s]\n"
     ]
    },
    {
     "name": "stdout",
     "output_type": "stream",
     "text": [
      "train loss:  238198006248167.06\n",
      "ф cer:  15.0\n",
      "я cer:  15.0\n",
      "train cer: 0.9833665931018873\n"
     ]
    },
    {
     "name": "stderr",
     "output_type": "stream",
     "text": [
      "100%|██████████| 5/5 [00:00<00:00, 37.24it/s]\n"
     ]
    },
    {
     "name": "stdout",
     "output_type": "stream",
     "text": [
      "val loss:  7672963.422322591\n",
      " cer:  -1\n",
      "ф cer:  12.0\n",
      "val cer: 0.9967213114754099\n",
      "epoch 2\n"
     ]
    },
    {
     "name": "stderr",
     "output_type": "stream",
     "text": [
      "100%|██████████| 15/15 [00:01<00:00, 13.35it/s]\n"
     ]
    },
    {
     "name": "stdout",
     "output_type": "stream",
     "text": [
      "train loss:  99922372096.18564\n",
      " cer:  -1\n",
      " cer:  -1\n",
      "train cer: 0.9973585434173668\n"
     ]
    },
    {
     "name": "stderr",
     "output_type": "stream",
     "text": [
      "100%|██████████| 5/5 [00:00<00:00, 32.47it/s]\n"
     ]
    },
    {
     "name": "stdout",
     "output_type": "stream",
     "text": [
      "val loss:  572040.2992757162\n",
      " cer:  -1\n",
      " cer:  -1\n",
      "val cer: 1.0\n",
      "epoch 3\n"
     ]
    },
    {
     "name": "stderr",
     "output_type": "stream",
     "text": [
      "100%|██████████| 15/15 [00:01<00:00, 11.74it/s]\n"
     ]
    },
    {
     "name": "stdout",
     "output_type": "stream",
     "text": [
      "train loss:  8822962008.776798\n",
      " cer:  -1\n",
      " cer:  -1\n",
      "train cer: 0.997358543417367\n"
     ]
    },
    {
     "name": "stderr",
     "output_type": "stream",
     "text": [
      "100%|██████████| 5/5 [00:00<00:00, 34.55it/s]\n"
     ]
    },
    {
     "name": "stdout",
     "output_type": "stream",
     "text": [
      "val loss:  69319.60701751709\n",
      " cer:  -1\n",
      " cer:  -1\n",
      "val cer: 1.0\n",
      "epoch 4\n"
     ]
    },
    {
     "name": "stderr",
     "output_type": "stream",
     "text": [
      "100%|██████████| 15/15 [00:01<00:00, 12.46it/s]\n"
     ]
    },
    {
     "name": "stdout",
     "output_type": "stream",
     "text": [
      "train loss:  1115499284.8330626\n",
      " cer:  -1\n",
      " cer:  -1\n",
      "train cer: 0.997358543417367\n"
     ]
    },
    {
     "name": "stderr",
     "output_type": "stream",
     "text": [
      "100%|██████████| 5/5 [00:00<00:00, 30.82it/s]\n"
     ]
    },
    {
     "name": "stdout",
     "output_type": "stream",
     "text": [
      "val loss:  13210.056158701578\n",
      " cer:  -1\n",
      " cer:  -1\n",
      "val cer: 1.0\n",
      "epoch 5\n"
     ]
    },
    {
     "name": "stderr",
     "output_type": "stream",
     "text": [
      "100%|██████████| 15/15 [00:01<00:00, 11.83it/s]\n"
     ]
    },
    {
     "name": "stdout",
     "output_type": "stream",
     "text": [
      "train loss:  137552457.9260671\n",
      " cer:  -1\n",
      " cer:  -1\n",
      "train cer: 0.997358543417367\n"
     ]
    },
    {
     "name": "stderr",
     "output_type": "stream",
     "text": [
      "100%|██████████| 5/5 [00:00<00:00, 18.12it/s]\n"
     ]
    },
    {
     "name": "stdout",
     "output_type": "stream",
     "text": [
      "val loss:  3400.746855417887\n",
      " cer:  -1\n",
      " cer:  -1\n",
      "val cer: 1.0\n",
      "epoch 6\n"
     ]
    },
    {
     "name": "stderr",
     "output_type": "stream",
     "text": [
      "100%|██████████| 15/15 [00:01<00:00, 12.22it/s]\n"
     ]
    },
    {
     "name": "stdout",
     "output_type": "stream",
     "text": [
      "train loss:  11188513.776414633\n",
      " cer:  -1\n",
      " cer:  -1\n",
      "train cer: 0.997358543417367\n"
     ]
    },
    {
     "name": "stderr",
     "output_type": "stream",
     "text": [
      "100%|██████████| 5/5 [00:00<00:00, 34.41it/s]\n"
     ]
    },
    {
     "name": "stdout",
     "output_type": "stream",
     "text": [
      "val loss:  981.6401869455973\n",
      " cer:  -1\n",
      " cer:  -1\n",
      "val cer: 1.0\n",
      "epoch 7\n"
     ]
    },
    {
     "name": "stderr",
     "output_type": "stream",
     "text": [
      "100%|██████████| 15/15 [00:01<00:00, 14.68it/s]\n"
     ]
    },
    {
     "name": "stdout",
     "output_type": "stream",
     "text": [
      "train loss:  11188120.313283205\n",
      " cer:  -1\n",
      " cer:  -1\n",
      "train cer: 0.997358543417367\n"
     ]
    },
    {
     "name": "stderr",
     "output_type": "stream",
     "text": [
      "100%|██████████| 5/5 [00:00<00:00, 37.76it/s]\n"
     ]
    },
    {
     "name": "stdout",
     "output_type": "stream",
     "text": [
      "val loss:  246.0622762044271\n",
      " cer:  -1\n",
      " cer:  -1\n",
      "val cer: 1.0\n",
      "epoch 8\n"
     ]
    },
    {
     "name": "stderr",
     "output_type": "stream",
     "text": [
      "100%|██████████| 15/15 [00:01<00:00, 14.87it/s]\n"
     ]
    },
    {
     "name": "stdout",
     "output_type": "stream",
     "text": [
      "train loss:  2587.455493450165\n",
      " cer:  -1\n",
      " cer:  -1\n",
      "train cer: 0.997358543417367\n"
     ]
    },
    {
     "name": "stderr",
     "output_type": "stream",
     "text": [
      "100%|██████████| 5/5 [00:00<00:00, 38.07it/s]\n"
     ]
    },
    {
     "name": "stdout",
     "output_type": "stream",
     "text": [
      "val loss:  81.91857719421387\n",
      " cer:  -1\n",
      " cer:  -1\n",
      "val cer: 1.0\n",
      "epoch 9\n"
     ]
    },
    {
     "name": "stderr",
     "output_type": "stream",
     "text": [
      "100%|██████████| 15/15 [00:01<00:00, 12.27it/s]\n"
     ]
    },
    {
     "name": "stdout",
     "output_type": "stream",
     "text": [
      "train loss:  100.88582515716553\n",
      " cer:  -1\n",
      " cer:  -1\n",
      "train cer: 0.997358543417367\n"
     ]
    },
    {
     "name": "stderr",
     "output_type": "stream",
     "text": [
      "100%|██████████| 5/5 [00:00<00:00, 32.54it/s]\n"
     ]
    },
    {
     "name": "stdout",
     "output_type": "stream",
     "text": [
      "val loss:  117.80453236897786\n",
      " cer:  -1\n",
      " cer:  -1\n",
      "val cer: 1.0\n",
      "epoch 10\n"
     ]
    },
    {
     "name": "stderr",
     "output_type": "stream",
     "text": [
      "100%|██████████| 15/15 [00:00<00:00, 15.06it/s]\n"
     ]
    },
    {
     "name": "stdout",
     "output_type": "stream",
     "text": [
      "train loss:  118.25592803955078\n",
      " cer:  -1\n",
      " cer:  -1\n",
      "train cer: 0.997358543417367\n"
     ]
    },
    {
     "name": "stderr",
     "output_type": "stream",
     "text": [
      "100%|██████████| 5/5 [00:00<00:00, 34.31it/s]\n"
     ]
    },
    {
     "name": "stdout",
     "output_type": "stream",
     "text": [
      "val loss:  218.76816177368164\n",
      " cer:  -1\n",
      " cer:  -1\n",
      "val cer: 1.0\n",
      "epoch 11\n"
     ]
    },
    {
     "name": "stderr",
     "output_type": "stream",
     "text": [
      "100%|██████████| 15/15 [00:01<00:00, 11.09it/s]\n"
     ]
    },
    {
     "name": "stdout",
     "output_type": "stream",
     "text": [
      "train loss:  175.05831634998322\n",
      " cer:  -1\n",
      " cer:  -1\n",
      "train cer: 0.9973585434173668\n"
     ]
    },
    {
     "name": "stderr",
     "output_type": "stream",
     "text": [
      "100%|██████████| 5/5 [00:00<00:00, 32.31it/s]\n"
     ]
    },
    {
     "name": "stdout",
     "output_type": "stream",
     "text": [
      "val loss:  298.33557510375977\n",
      " cer:  -1\n",
      " cer:  -1\n",
      "val cer: 1.0\n",
      "epoch 12\n"
     ]
    },
    {
     "name": "stderr",
     "output_type": "stream",
     "text": [
      "100%|██████████| 15/15 [00:01<00:00, 10.76it/s]\n"
     ]
    },
    {
     "name": "stdout",
     "output_type": "stream",
     "text": [
      "train loss:  210.43152689933777\n",
      " cer:  -1\n",
      " cer:  -1\n",
      "train cer: 0.997358543417367\n"
     ]
    },
    {
     "name": "stderr",
     "output_type": "stream",
     "text": [
      "100%|██████████| 5/5 [00:00<00:00, 31.43it/s]\n"
     ]
    },
    {
     "name": "stdout",
     "output_type": "stream",
     "text": [
      "val loss:  325.584898630778\n",
      " cer:  -1\n",
      " cer:  -1\n",
      "val cer: 1.0\n",
      "epoch 13\n"
     ]
    },
    {
     "name": "stderr",
     "output_type": "stream",
     "text": [
      "100%|██████████| 15/15 [00:01<00:00, 12.47it/s]\n"
     ]
    },
    {
     "name": "stdout",
     "output_type": "stream",
     "text": [
      "train loss:  206.2332216501236\n",
      " cer:  -1\n",
      " cer:  -1\n",
      "train cer: 0.997358543417367\n"
     ]
    },
    {
     "name": "stderr",
     "output_type": "stream",
     "text": [
      "100%|██████████| 5/5 [00:00<00:00, 34.68it/s]\n"
     ]
    },
    {
     "name": "stdout",
     "output_type": "stream",
     "text": [
      "val loss:  303.68058013916016\n",
      " cer:  -1\n",
      " cer:  -1\n",
      "val cer: 1.0\n",
      "epoch 14\n"
     ]
    },
    {
     "name": "stderr",
     "output_type": "stream",
     "text": [
      "100%|██████████| 15/15 [00:01<00:00, 13.84it/s]\n"
     ]
    },
    {
     "name": "stdout",
     "output_type": "stream",
     "text": [
      "train loss:  170.246786236763\n",
      " cer:  -1\n",
      " cer:  -1\n",
      "train cer: 0.997358543417367\n"
     ]
    },
    {
     "name": "stderr",
     "output_type": "stream",
     "text": [
      "100%|██████████| 5/5 [00:00<00:00, 35.90it/s]\n"
     ]
    },
    {
     "name": "stdout",
     "output_type": "stream",
     "text": [
      "val loss:  250.8548151652018\n",
      " cer:  -1\n",
      " cer:  -1\n",
      "val cer: 1.0\n",
      "epoch 15\n"
     ]
    },
    {
     "name": "stderr",
     "output_type": "stream",
     "text": [
      "100%|██████████| 15/15 [00:01<00:00, 14.67it/s]\n"
     ]
    },
    {
     "name": "stdout",
     "output_type": "stream",
     "text": [
      "train loss:  142.73204565048218\n",
      " cer:  -1\n",
      " cer:  -1\n",
      "train cer: 0.997358543417367\n"
     ]
    },
    {
     "name": "stderr",
     "output_type": "stream",
     "text": [
      "100%|██████████| 5/5 [00:00<00:00, 18.80it/s]\n"
     ]
    },
    {
     "name": "stdout",
     "output_type": "stream",
     "text": [
      "val loss:  190.4319585164388\n",
      " cer:  -1\n",
      " cer:  -1\n",
      "val cer: 1.0\n",
      "epoch 16\n"
     ]
    },
    {
     "name": "stderr",
     "output_type": "stream",
     "text": [
      "100%|██████████| 15/15 [00:01<00:00, 13.90it/s]\n"
     ]
    },
    {
     "name": "stdout",
     "output_type": "stream",
     "text": [
      "train loss:  102.65417873859406\n",
      " cer:  -1\n",
      " cer:  -1\n",
      "train cer: 0.997358543417367\n"
     ]
    },
    {
     "name": "stderr",
     "output_type": "stream",
     "text": [
      "100%|██████████| 5/5 [00:00<00:00, 39.51it/s]\n"
     ]
    },
    {
     "name": "stdout",
     "output_type": "stream",
     "text": [
      "val loss:  137.54493395487467\n",
      " cer:  -1\n",
      " cer:  -1\n",
      "val cer: 1.0\n",
      "epoch 17\n"
     ]
    },
    {
     "name": "stderr",
     "output_type": "stream",
     "text": [
      "100%|██████████| 15/15 [00:00<00:00, 15.03it/s]\n"
     ]
    },
    {
     "name": "stdout",
     "output_type": "stream",
     "text": [
      "train loss:  74.72290742397308\n",
      " cer:  -1\n",
      " cer:  -1\n",
      "train cer: 0.9973585434173668\n"
     ]
    },
    {
     "name": "stderr",
     "output_type": "stream",
     "text": [
      "100%|██████████| 5/5 [00:00<00:00, 35.64it/s]\n"
     ]
    },
    {
     "name": "stdout",
     "output_type": "stream",
     "text": [
      "val loss:  98.32216135660808\n",
      " cer:  -1\n",
      " cer:  -1\n",
      "val cer: 1.0\n",
      "epoch 18\n"
     ]
    },
    {
     "name": "stderr",
     "output_type": "stream",
     "text": [
      "100%|██████████| 15/15 [00:01<00:00, 13.70it/s]\n"
     ]
    },
    {
     "name": "stdout",
     "output_type": "stream",
     "text": [
      "train loss:  52.366724133491516\n",
      " cer:  -1\n",
      " cer:  -1\n",
      "train cer: 0.997358543417367\n"
     ]
    },
    {
     "name": "stderr",
     "output_type": "stream",
     "text": [
      "100%|██████████| 5/5 [00:00<00:00, 33.56it/s]\n"
     ]
    },
    {
     "name": "stdout",
     "output_type": "stream",
     "text": [
      "val loss:  72.40980211893718\n",
      " cer:  -1\n",
      " cer:  -1\n",
      "val cer: 1.0\n",
      "epoch 19\n"
     ]
    },
    {
     "name": "stderr",
     "output_type": "stream",
     "text": [
      "100%|██████████| 15/15 [00:01<00:00, 13.10it/s]\n"
     ]
    },
    {
     "name": "stdout",
     "output_type": "stream",
     "text": [
      "train loss:  42.913148283958435\n",
      " cer:  -1\n",
      " cer:  -1\n",
      "train cer: 0.997358543417367\n"
     ]
    },
    {
     "name": "stderr",
     "output_type": "stream",
     "text": [
      "100%|██████████| 5/5 [00:00<00:00, 34.18it/s]\n"
     ]
    },
    {
     "name": "stdout",
     "output_type": "stream",
     "text": [
      "val loss:  56.1058406829834\n",
      " cer:  -1\n",
      " cer:  -1\n",
      "val cer: 1.0\n",
      "epoch 20\n"
     ]
    },
    {
     "name": "stderr",
     "output_type": "stream",
     "text": [
      "100%|██████████| 15/15 [00:01<00:00, 14.46it/s]\n"
     ]
    },
    {
     "name": "stdout",
     "output_type": "stream",
     "text": [
      "train loss:  37.39674413204193\n",
      " cer:  -1\n",
      " cer:  -1\n",
      "train cer: 0.9973585434173668\n"
     ]
    },
    {
     "name": "stderr",
     "output_type": "stream",
     "text": [
      "100%|██████████| 5/5 [00:00<00:00, 34.18it/s]\n"
     ]
    },
    {
     "name": "stdout",
     "output_type": "stream",
     "text": [
      "val loss:  46.72196006774902\n",
      " cer:  -1\n",
      " cer:  -1\n",
      "val cer: 1.0\n",
      "epoch 21\n"
     ]
    },
    {
     "name": "stderr",
     "output_type": "stream",
     "text": [
      "100%|██████████| 15/15 [00:01<00:00, 13.13it/s]\n"
     ]
    },
    {
     "name": "stdout",
     "output_type": "stream",
     "text": [
      "train loss:  42.272584557533264\n",
      " cer:  -1\n",
      " cer:  -1\n",
      "train cer: 0.9973585434173668\n"
     ]
    },
    {
     "name": "stderr",
     "output_type": "stream",
     "text": [
      "100%|██████████| 5/5 [00:00<00:00, 36.97it/s]\n"
     ]
    },
    {
     "name": "stdout",
     "output_type": "stream",
     "text": [
      "val loss:  42.134121576944985\n",
      " cer:  -1\n",
      " cer:  -1\n",
      "val cer: 1.0\n",
      "epoch 22\n"
     ]
    },
    {
     "name": "stderr",
     "output_type": "stream",
     "text": [
      "100%|██████████| 15/15 [00:01<00:00, 14.69it/s]\n"
     ]
    },
    {
     "name": "stdout",
     "output_type": "stream",
     "text": [
      "train loss:  41.9278849363327\n",
      " cer:  -1\n",
      " cer:  -1\n",
      "train cer: 0.997358543417367\n"
     ]
    },
    {
     "name": "stderr",
     "output_type": "stream",
     "text": [
      "100%|██████████| 5/5 [00:00<00:00, 16.99it/s]\n"
     ]
    },
    {
     "name": "stdout",
     "output_type": "stream",
     "text": [
      "val loss:  41.12746938069662\n",
      " cer:  -1\n",
      " cer:  -1\n",
      "val cer: 1.0\n",
      "epoch 23\n"
     ]
    },
    {
     "name": "stderr",
     "output_type": "stream",
     "text": [
      "100%|██████████| 15/15 [00:01<00:00, 13.74it/s]\n"
     ]
    },
    {
     "name": "stdout",
     "output_type": "stream",
     "text": [
      "train loss:  66.56482422351837\n",
      " cer:  -1\n",
      " cer:  -1\n",
      "train cer: 0.9973585434173668\n"
     ]
    },
    {
     "name": "stderr",
     "output_type": "stream",
     "text": [
      "100%|██████████| 5/5 [00:00<00:00, 34.85it/s]\n"
     ]
    },
    {
     "name": "stdout",
     "output_type": "stream",
     "text": [
      "val loss:  41.78040726979574\n",
      " cer:  -1\n",
      " cer:  -1\n",
      "val cer: 1.0\n",
      "epoch 24\n"
     ]
    },
    {
     "name": "stderr",
     "output_type": "stream",
     "text": [
      "100%|██████████| 15/15 [00:01<00:00, 12.95it/s]\n"
     ]
    },
    {
     "name": "stdout",
     "output_type": "stream",
     "text": [
      "train loss:  69.6334240436554\n",
      " cer:  -1\n",
      " cer:  -1\n",
      "train cer: 0.997358543417367\n"
     ]
    },
    {
     "name": "stderr",
     "output_type": "stream",
     "text": [
      "100%|██████████| 5/5 [00:00<00:00, 32.37it/s]\n"
     ]
    },
    {
     "name": "stdout",
     "output_type": "stream",
     "text": [
      "val loss:  42.226305643717446\n",
      " cer:  -1\n",
      " cer:  -1\n",
      "val cer: 1.0\n",
      "epoch 25\n"
     ]
    },
    {
     "name": "stderr",
     "output_type": "stream",
     "text": [
      "100%|██████████| 15/15 [00:01<00:00, 14.51it/s]\n"
     ]
    },
    {
     "name": "stdout",
     "output_type": "stream",
     "text": [
      "train loss:  82.10998952388763\n",
      " cer:  -1\n",
      " cer:  -1\n",
      "train cer: 0.997358543417367\n"
     ]
    },
    {
     "name": "stderr",
     "output_type": "stream",
     "text": [
      "100%|██████████| 5/5 [00:00<00:00, 37.30it/s]\n"
     ]
    },
    {
     "name": "stdout",
     "output_type": "stream",
     "text": [
      "val loss:  41.73866939544678\n",
      " cer:  -1\n",
      " cer:  -1\n",
      "val cer: 1.0\n",
      "epoch 26\n"
     ]
    },
    {
     "name": "stderr",
     "output_type": "stream",
     "text": [
      "100%|██████████| 15/15 [00:01<00:00, 12.29it/s]\n"
     ]
    },
    {
     "name": "stdout",
     "output_type": "stream",
     "text": [
      "train loss:  75.10676062107086\n",
      " cer:  -1\n",
      " cer:  -1\n",
      "train cer: 0.997358543417367\n"
     ]
    },
    {
     "name": "stderr",
     "output_type": "stream",
     "text": [
      "100%|██████████| 5/5 [00:00<00:00, 32.80it/s]\n"
     ]
    },
    {
     "name": "stdout",
     "output_type": "stream",
     "text": [
      "val loss:  40.08769671122233\n",
      " cer:  -1\n",
      " cer:  -1\n",
      "val cer: 1.0\n",
      "epoch 27\n"
     ]
    },
    {
     "name": "stderr",
     "output_type": "stream",
     "text": [
      "100%|██████████| 15/15 [00:00<00:00, 15.70it/s]\n"
     ]
    },
    {
     "name": "stdout",
     "output_type": "stream",
     "text": [
      "train loss:  73.63905966281891\n",
      " cer:  -1\n",
      " cer:  -1\n",
      "train cer: 0.9973585434173668\n"
     ]
    },
    {
     "name": "stderr",
     "output_type": "stream",
     "text": [
      "100%|██████████| 5/5 [00:00<00:00, 24.96it/s]\n"
     ]
    },
    {
     "name": "stdout",
     "output_type": "stream",
     "text": [
      "val loss:  37.43048572540283\n",
      " cer:  -1\n",
      " cer:  -1\n",
      "val cer: 1.0\n",
      "epoch 28\n"
     ]
    },
    {
     "name": "stderr",
     "output_type": "stream",
     "text": [
      "100%|██████████| 15/15 [00:01<00:00, 14.10it/s]\n"
     ]
    },
    {
     "name": "stdout",
     "output_type": "stream",
     "text": [
      "train loss:  56.332871317863464\n",
      " cer:  -1\n",
      " cer:  -1\n",
      "train cer: 0.997358543417367\n"
     ]
    },
    {
     "name": "stderr",
     "output_type": "stream",
     "text": [
      "100%|██████████| 5/5 [00:00<00:00, 36.03it/s]\n"
     ]
    },
    {
     "name": "stdout",
     "output_type": "stream",
     "text": [
      "val loss:  35.09898153940836\n",
      " cer:  -1\n",
      " cer:  -1\n",
      "val cer: 1.0\n",
      "epoch 29\n"
     ]
    },
    {
     "name": "stderr",
     "output_type": "stream",
     "text": [
      "100%|██████████| 15/15 [00:01<00:00, 13.81it/s]\n"
     ]
    },
    {
     "name": "stdout",
     "output_type": "stream",
     "text": [
      "train loss:  40.32124960422516\n",
      " cer:  -1\n",
      " cer:  -1\n",
      "train cer: 0.9973585434173668\n"
     ]
    },
    {
     "name": "stderr",
     "output_type": "stream",
     "text": [
      "100%|██████████| 5/5 [00:00<00:00, 17.86it/s]\n"
     ]
    },
    {
     "name": "stdout",
     "output_type": "stream",
     "text": [
      "val loss:  33.94151624043783\n",
      " cer:  -1\n",
      " cer:  -1\n",
      "val cer: 1.0\n",
      "epoch 30\n"
     ]
    },
    {
     "name": "stderr",
     "output_type": "stream",
     "text": [
      "100%|██████████| 15/15 [00:01<00:00, 14.89it/s]\n"
     ]
    },
    {
     "name": "stdout",
     "output_type": "stream",
     "text": [
      "train loss:  29.494189620018005\n",
      " cer:  -1\n",
      " cer:  -1\n",
      "train cer: 0.997358543417367\n"
     ]
    },
    {
     "name": "stderr",
     "output_type": "stream",
     "text": [
      "100%|██████████| 5/5 [00:00<00:00, 33.03it/s]\n"
     ]
    },
    {
     "name": "stdout",
     "output_type": "stream",
     "text": [
      "val loss:  33.747117042541504\n",
      " cer:  -1\n",
      " cer:  -1\n",
      "val cer: 1.0\n",
      "epoch 31\n"
     ]
    },
    {
     "name": "stderr",
     "output_type": "stream",
     "text": [
      "100%|██████████| 15/15 [00:01<00:00, 13.99it/s]\n"
     ]
    },
    {
     "name": "stdout",
     "output_type": "stream",
     "text": [
      "train loss:  29.122376441955566\n",
      " cer:  -1\n",
      " cer:  -1\n",
      "train cer: 0.997358543417367\n"
     ]
    },
    {
     "name": "stderr",
     "output_type": "stream",
     "text": [
      "100%|██████████| 5/5 [00:00<00:00, 33.80it/s]\n"
     ]
    },
    {
     "name": "stdout",
     "output_type": "stream",
     "text": [
      "val loss:  34.21834373474121\n",
      " cer:  -1\n",
      " cer:  -1\n",
      "val cer: 1.0\n",
      "epoch 32\n"
     ]
    },
    {
     "name": "stderr",
     "output_type": "stream",
     "text": [
      "100%|██████████| 15/15 [00:00<00:00, 15.12it/s]\n"
     ]
    },
    {
     "name": "stdout",
     "output_type": "stream",
     "text": [
      "train loss:  26.93364119529724\n",
      " cer:  -1\n",
      " cer:  -1\n",
      "train cer: 0.997358543417367\n"
     ]
    },
    {
     "name": "stderr",
     "output_type": "stream",
     "text": [
      "100%|██████████| 5/5 [00:00<00:00, 37.02it/s]\n"
     ]
    },
    {
     "name": "stdout",
     "output_type": "stream",
     "text": [
      "val loss:  35.21480242411295\n",
      " cer:  -1\n",
      " cer:  -1\n",
      "val cer: 1.0\n",
      "epoch 33\n"
     ]
    },
    {
     "name": "stderr",
     "output_type": "stream",
     "text": [
      "100%|██████████| 15/15 [00:01<00:00, 11.69it/s]\n"
     ]
    },
    {
     "name": "stdout",
     "output_type": "stream",
     "text": [
      "train loss:  26.18586766719818\n",
      " cer:  -1\n",
      " cer:  -1\n",
      "train cer: 0.997358543417367\n"
     ]
    },
    {
     "name": "stderr",
     "output_type": "stream",
     "text": [
      "100%|██████████| 5/5 [00:00<00:00, 34.32it/s]\n"
     ]
    },
    {
     "name": "stdout",
     "output_type": "stream",
     "text": [
      "val loss:  36.691291173299156\n",
      " cer:  -1\n",
      " cer:  -1\n",
      "val cer: 1.0\n",
      "epoch 34\n"
     ]
    },
    {
     "name": "stderr",
     "output_type": "stream",
     "text": [
      "100%|██████████| 15/15 [00:01<00:00, 12.43it/s]\n"
     ]
    },
    {
     "name": "stdout",
     "output_type": "stream",
     "text": [
      "train loss:  25.792630553245544\n",
      " cer:  -1\n",
      " cer:  -1\n",
      "train cer: 0.997358543417367\n"
     ]
    },
    {
     "name": "stderr",
     "output_type": "stream",
     "text": [
      "100%|██████████| 5/5 [00:00<00:00, 30.90it/s]\n"
     ]
    },
    {
     "name": "stdout",
     "output_type": "stream",
     "text": [
      "val loss:  38.52903493245443\n",
      " cer:  -1\n",
      " cer:  -1\n",
      "val cer: 1.0\n",
      "epoch 35\n"
     ]
    },
    {
     "name": "stderr",
     "output_type": "stream",
     "text": [
      "100%|██████████| 15/15 [00:01<00:00, 14.00it/s]\n"
     ]
    },
    {
     "name": "stdout",
     "output_type": "stream",
     "text": [
      "train loss:  25.326152563095093\n",
      " cer:  -1\n",
      " cer:  -1\n",
      "train cer: 0.9973585434173668\n"
     ]
    },
    {
     "name": "stderr",
     "output_type": "stream",
     "text": [
      "100%|██████████| 5/5 [00:00<00:00, 32.38it/s]\n"
     ]
    },
    {
     "name": "stdout",
     "output_type": "stream",
     "text": [
      "val loss:  40.056898752848305\n",
      " cer:  -1\n",
      " cer:  -1\n",
      "val cer: 1.0\n",
      "epoch 36\n"
     ]
    },
    {
     "name": "stderr",
     "output_type": "stream",
     "text": [
      "100%|██████████| 15/15 [00:01<00:00, 10.35it/s]\n"
     ]
    },
    {
     "name": "stdout",
     "output_type": "stream",
     "text": [
      "train loss:  25.331499576568604\n",
      " cer:  -1\n",
      " cer:  -1\n",
      "train cer: 0.9973585434173668\n"
     ]
    },
    {
     "name": "stderr",
     "output_type": "stream",
     "text": [
      "100%|██████████| 5/5 [00:00<00:00, 35.55it/s]\n"
     ]
    },
    {
     "name": "stdout",
     "output_type": "stream",
     "text": [
      "val loss:  41.006638844807945\n",
      " cer:  -1\n",
      " cer:  -1\n",
      "val cer: 1.0\n",
      "epoch 37\n"
     ]
    },
    {
     "name": "stderr",
     "output_type": "stream",
     "text": [
      "100%|██████████| 15/15 [00:01<00:00, 13.99it/s]\n"
     ]
    },
    {
     "name": "stdout",
     "output_type": "stream",
     "text": [
      "train loss:  25.25186550617218\n",
      " cer:  -1\n",
      " cer:  -1\n",
      "train cer: 0.997358543417367\n"
     ]
    },
    {
     "name": "stderr",
     "output_type": "stream",
     "text": [
      "100%|██████████| 5/5 [00:00<00:00, 33.20it/s]\n"
     ]
    },
    {
     "name": "stdout",
     "output_type": "stream",
     "text": [
      "val loss:  41.48298454284668\n",
      " cer:  -1\n",
      " cer:  -1\n",
      "val cer: 1.0\n",
      "epoch 38\n"
     ]
    },
    {
     "name": "stderr",
     "output_type": "stream",
     "text": [
      "100%|██████████| 15/15 [00:01<00:00, 14.64it/s]\n"
     ]
    },
    {
     "name": "stdout",
     "output_type": "stream",
     "text": [
      "train loss:  25.034094214439392\n",
      " cer:  -1\n",
      " cer:  -1\n",
      "train cer: 0.997358543417367\n"
     ]
    },
    {
     "name": "stderr",
     "output_type": "stream",
     "text": [
      "100%|██████████| 5/5 [00:00<00:00, 32.44it/s]\n"
     ]
    },
    {
     "name": "stdout",
     "output_type": "stream",
     "text": [
      "val loss:  41.69509061177572\n",
      " cer:  -1\n",
      " cer:  -1\n",
      "val cer: 1.0\n",
      "epoch 39\n"
     ]
    },
    {
     "name": "stderr",
     "output_type": "stream",
     "text": [
      "100%|██████████| 15/15 [00:01<00:00, 14.61it/s]\n"
     ]
    },
    {
     "name": "stdout",
     "output_type": "stream",
     "text": [
      "train loss:  24.627239882946014\n",
      " cer:  -1\n",
      " cer:  -1\n",
      "train cer: 0.997358543417367\n"
     ]
    },
    {
     "name": "stderr",
     "output_type": "stream",
     "text": [
      "100%|██████████| 5/5 [00:00<00:00, 16.85it/s]\n"
     ]
    },
    {
     "name": "stdout",
     "output_type": "stream",
     "text": [
      "val loss:  41.64325396219889\n",
      " cer:  -1\n",
      " cer:  -1\n",
      "val cer: 1.0\n",
      "epoch 40\n"
     ]
    },
    {
     "name": "stderr",
     "output_type": "stream",
     "text": [
      "100%|██████████| 15/15 [00:01<00:00, 14.61it/s]\n"
     ]
    },
    {
     "name": "stdout",
     "output_type": "stream",
     "text": [
      "train loss:  24.162411749362946\n",
      " cer:  -1\n",
      " cer:  -1\n",
      "train cer: 0.997358543417367\n"
     ]
    },
    {
     "name": "stderr",
     "output_type": "stream",
     "text": [
      "100%|██████████| 5/5 [00:00<00:00, 32.49it/s]\n"
     ]
    },
    {
     "name": "stdout",
     "output_type": "stream",
     "text": [
      "val loss:  41.29480107625326\n",
      " cer:  -1\n",
      " cer:  -1\n",
      "val cer: 1.0\n",
      "epoch 41\n"
     ]
    },
    {
     "name": "stderr",
     "output_type": "stream",
     "text": [
      "100%|██████████| 15/15 [00:01<00:00, 13.37it/s]\n"
     ]
    },
    {
     "name": "stdout",
     "output_type": "stream",
     "text": [
      "train loss:  23.562224686145782\n",
      " cer:  -1\n",
      " cer:  -1\n",
      "train cer: 0.9973585434173668\n"
     ]
    },
    {
     "name": "stderr",
     "output_type": "stream",
     "text": [
      "100%|██████████| 5/5 [00:00<00:00, 30.48it/s]\n"
     ]
    },
    {
     "name": "stdout",
     "output_type": "stream",
     "text": [
      "val loss:  40.251511891682945\n",
      " cer:  -1\n",
      " cer:  -1\n",
      "val cer: 1.0\n",
      "epoch 42\n"
     ]
    },
    {
     "name": "stderr",
     "output_type": "stream",
     "text": [
      "100%|██████████| 15/15 [00:01<00:00, 11.06it/s]\n"
     ]
    },
    {
     "name": "stdout",
     "output_type": "stream",
     "text": [
      "train loss:  22.77470153570175\n",
      " cer:  -1\n",
      " cer:  -1\n",
      "train cer: 0.997358543417367\n"
     ]
    },
    {
     "name": "stderr",
     "output_type": "stream",
     "text": [
      "100%|██████████| 5/5 [00:00<00:00, 27.14it/s]\n"
     ]
    },
    {
     "name": "stdout",
     "output_type": "stream",
     "text": [
      "val loss:  39.12907346089681\n",
      " cer:  -1\n",
      " cer:  -1\n",
      "val cer: 1.0\n",
      "epoch 43\n"
     ]
    },
    {
     "name": "stderr",
     "output_type": "stream",
     "text": [
      "100%|██████████| 15/15 [00:01<00:00, 11.19it/s]\n"
     ]
    },
    {
     "name": "stdout",
     "output_type": "stream",
     "text": [
      "train loss:  22.074368834495544\n",
      " cer:  -1\n",
      " cer:  -1\n",
      "train cer: 0.997358543417367\n"
     ]
    },
    {
     "name": "stderr",
     "output_type": "stream",
     "text": [
      "100%|██████████| 5/5 [00:00<00:00, 32.92it/s]\n"
     ]
    },
    {
     "name": "stdout",
     "output_type": "stream",
     "text": [
      "val loss:  37.88515663146973\n",
      " cer:  -1\n",
      " cer:  -1\n",
      "val cer: 1.0\n",
      "epoch 44\n"
     ]
    },
    {
     "name": "stderr",
     "output_type": "stream",
     "text": [
      "100%|██████████| 15/15 [00:01<00:00, 13.45it/s]\n"
     ]
    },
    {
     "name": "stdout",
     "output_type": "stream",
     "text": [
      "train loss:  21.375614285469055\n",
      " cer:  -1\n",
      " cer:  -1\n",
      "train cer: 0.997358543417367\n"
     ]
    },
    {
     "name": "stderr",
     "output_type": "stream",
     "text": [
      "100%|██████████| 5/5 [00:00<00:00, 29.49it/s]\n"
     ]
    },
    {
     "name": "stdout",
     "output_type": "stream",
     "text": [
      "val loss:  36.45409901936849\n",
      " cer:  -1\n",
      " cer:  -1\n",
      "val cer: 1.0\n",
      "epoch 45\n"
     ]
    },
    {
     "name": "stderr",
     "output_type": "stream",
     "text": [
      "100%|██████████| 15/15 [00:01<00:00,  7.76it/s]\n"
     ]
    },
    {
     "name": "stdout",
     "output_type": "stream",
     "text": [
      "train loss:  20.61332082748413\n",
      "в cer:  19.0\n",
      " cer:  -1\n",
      "train cer: 0.9973585434173668\n"
     ]
    },
    {
     "name": "stderr",
     "output_type": "stream",
     "text": [
      "100%|██████████| 5/5 [00:00<00:00, 34.77it/s]\n"
     ]
    },
    {
     "name": "stdout",
     "output_type": "stream",
     "text": [
      "val loss:  34.92123667399088\n",
      " cer:  -1\n",
      " cer:  -1\n",
      "val cer: 1.0\n",
      "epoch 46\n"
     ]
    },
    {
     "name": "stderr",
     "output_type": "stream",
     "text": [
      "100%|██████████| 15/15 [00:01<00:00, 11.13it/s]\n"
     ]
    },
    {
     "name": "stdout",
     "output_type": "stream",
     "text": [
      "train loss:  19.70691204071045\n",
      " cer:  -1\n",
      " cer:  -1\n",
      "train cer: 0.997358543417367\n"
     ]
    },
    {
     "name": "stderr",
     "output_type": "stream",
     "text": [
      "100%|██████████| 5/5 [00:00<00:00, 31.63it/s]\n"
     ]
    },
    {
     "name": "stdout",
     "output_type": "stream",
     "text": [
      "val loss:  33.715810775756836\n",
      " cer:  -1\n",
      " cer:  -1\n",
      "val cer: 1.0\n",
      "epoch 47\n"
     ]
    },
    {
     "name": "stderr",
     "output_type": "stream",
     "text": [
      "100%|██████████| 15/15 [00:01<00:00, 13.20it/s]\n"
     ]
    },
    {
     "name": "stdout",
     "output_type": "stream",
     "text": [
      "train loss:  19.312479317188263\n",
      " cer:  -1\n",
      " cer:  -1\n",
      "train cer: 0.997358543417367\n"
     ]
    },
    {
     "name": "stderr",
     "output_type": "stream",
     "text": [
      "100%|██████████| 5/5 [00:00<00:00, 25.29it/s]\n"
     ]
    },
    {
     "name": "stdout",
     "output_type": "stream",
     "text": [
      "val loss:  32.8014939626058\n",
      " cer:  -1\n",
      " cer:  -1\n",
      "val cer: 1.0\n",
      "epoch 48\n"
     ]
    },
    {
     "name": "stderr",
     "output_type": "stream",
     "text": [
      "100%|██████████| 15/15 [00:01<00:00, 13.31it/s]\n"
     ]
    },
    {
     "name": "stdout",
     "output_type": "stream",
     "text": [
      "train loss:  18.838336408138275\n",
      " cer:  -1\n",
      " cer:  -1\n",
      "train cer: 0.9943426704014939\n"
     ]
    },
    {
     "name": "stderr",
     "output_type": "stream",
     "text": [
      "100%|██████████| 5/5 [00:00<00:00, 26.75it/s]\n"
     ]
    },
    {
     "name": "stdout",
     "output_type": "stream",
     "text": [
      "val loss:  32.04365030924479\n",
      " cer:  -1\n",
      " cer:  -1\n",
      "val cer: 1.0\n",
      "epoch 49\n"
     ]
    },
    {
     "name": "stderr",
     "output_type": "stream",
     "text": [
      "100%|██████████| 15/15 [00:01<00:00, 10.09it/s]\n"
     ]
    },
    {
     "name": "stdout",
     "output_type": "stream",
     "text": [
      "train loss:  18.474013686180115\n",
      " cer:  -1\n",
      " cer:  -1\n",
      "train cer: 0.9924379084967322\n"
     ]
    },
    {
     "name": "stderr",
     "output_type": "stream",
     "text": [
      "100%|██████████| 5/5 [00:00<00:00, 33.09it/s]\n"
     ]
    },
    {
     "name": "stdout",
     "output_type": "stream",
     "text": [
      "val loss:  31.56135431925456\n",
      " cer:  -1\n",
      " cer:  -1\n",
      "val cer: 1.0\n",
      "epoch 50\n"
     ]
    },
    {
     "name": "stderr",
     "output_type": "stream",
     "text": [
      "100%|██████████| 15/15 [00:01<00:00,  9.91it/s]\n"
     ]
    },
    {
     "name": "stdout",
     "output_type": "stream",
     "text": [
      "train loss:  18.228388369083405\n",
      " cer:  -1\n",
      "гв cer:  5.5\n",
      "train cer: 0.9916535947712418\n"
     ]
    },
    {
     "name": "stderr",
     "output_type": "stream",
     "text": [
      "100%|██████████| 5/5 [00:00<00:00, 31.96it/s]\n"
     ]
    },
    {
     "name": "stdout",
     "output_type": "stream",
     "text": [
      "val loss:  31.121463775634766\n",
      " cer:  -1\n",
      " cer:  -1\n",
      "val cer: 1.0\n",
      "epoch 51\n"
     ]
    },
    {
     "name": "stderr",
     "output_type": "stream",
     "text": [
      "100%|██████████| 15/15 [00:01<00:00,  9.32it/s]\n"
     ]
    },
    {
     "name": "stdout",
     "output_type": "stream",
     "text": [
      "train loss:  17.83217066526413\n",
      " cer:  -1\n",
      " cer:  -1\n",
      "train cer: 0.9916535947712418\n"
     ]
    },
    {
     "name": "stderr",
     "output_type": "stream",
     "text": [
      "100%|██████████| 5/5 [00:00<00:00, 46.25it/s]\n"
     ]
    },
    {
     "name": "stdout",
     "output_type": "stream",
     "text": [
      "val loss:  30.78037675221761\n",
      " cer:  -1\n",
      " cer:  -1\n",
      "val cer: 1.0\n",
      "epoch 52\n"
     ]
    },
    {
     "name": "stderr",
     "output_type": "stream",
     "text": [
      "100%|██████████| 15/15 [00:01<00:00,  9.10it/s]\n"
     ]
    },
    {
     "name": "stdout",
     "output_type": "stream",
     "text": [
      "train loss:  17.513315439224243\n",
      "а cer:  7.0\n",
      " cer:  -1\n",
      "train cer: 0.9916535947712418\n"
     ]
    },
    {
     "name": "stderr",
     "output_type": "stream",
     "text": [
      "100%|██████████| 5/5 [00:00<00:00, 29.05it/s]\n"
     ]
    },
    {
     "name": "stdout",
     "output_type": "stream",
     "text": [
      "val loss:  30.60697650909424\n",
      " cer:  -1\n",
      " cer:  -1\n",
      "val cer: 1.0\n",
      "epoch 53\n"
     ]
    },
    {
     "name": "stderr",
     "output_type": "stream",
     "text": [
      "100%|██████████| 15/15 [00:01<00:00, 14.48it/s]\n"
     ]
    },
    {
     "name": "stdout",
     "output_type": "stream",
     "text": [
      "train loss:  17.18373715877533\n",
      " cer:  -1\n",
      "ге cer:  4.0\n",
      "train cer: 0.9916535947712417\n"
     ]
    },
    {
     "name": "stderr",
     "output_type": "stream",
     "text": [
      "100%|██████████| 5/5 [00:00<00:00, 29.36it/s]\n"
     ]
    },
    {
     "name": "stdout",
     "output_type": "stream",
     "text": [
      "val loss:  30.51484966278076\n",
      " cer:  -1\n",
      " cer:  -1\n",
      "val cer: 1.0\n",
      "epoch 54\n"
     ]
    },
    {
     "name": "stderr",
     "output_type": "stream",
     "text": [
      "100%|██████████| 15/15 [00:01<00:00, 14.68it/s]\n"
     ]
    },
    {
     "name": "stdout",
     "output_type": "stream",
     "text": [
      "train loss:  16.790699362754822\n",
      " cer:  -1\n",
      "о cer:  8.0\n",
      "train cer: 0.9908692810457517\n"
     ]
    },
    {
     "name": "stderr",
     "output_type": "stream",
     "text": [
      "100%|██████████| 5/5 [00:00<00:00, 32.17it/s]\n"
     ]
    },
    {
     "name": "stdout",
     "output_type": "stream",
     "text": [
      "val loss:  30.58340326944987\n",
      " cer:  -1\n",
      " cer:  -1\n",
      "val cer: 1.0\n",
      "epoch 55\n"
     ]
    },
    {
     "name": "stderr",
     "output_type": "stream",
     "text": [
      "100%|██████████| 15/15 [00:01<00:00, 14.97it/s]\n"
     ]
    },
    {
     "name": "stdout",
     "output_type": "stream",
     "text": [
      "train loss:  16.475576370954514\n",
      "м cer:  9.0\n",
      " cer:  -1\n",
      "train cer: 0.9908692810457517\n"
     ]
    },
    {
     "name": "stderr",
     "output_type": "stream",
     "text": [
      "100%|██████████| 5/5 [00:00<00:00, 32.16it/s]\n"
     ]
    },
    {
     "name": "stdout",
     "output_type": "stream",
     "text": [
      "val loss:  30.835609436035156\n",
      " cer:  -1\n",
      " cer:  -1\n",
      "val cer: 1.0\n",
      "epoch 56\n"
     ]
    },
    {
     "name": "stderr",
     "output_type": "stream",
     "text": [
      "100%|██████████| 15/15 [00:01<00:00, 14.26it/s]\n"
     ]
    },
    {
     "name": "stdout",
     "output_type": "stream",
     "text": [
      "train loss:  16.15878516435623\n",
      "м cer:  9.0\n",
      " cer:  -1\n",
      "train cer: 0.9908692810457517\n"
     ]
    },
    {
     "name": "stderr",
     "output_type": "stream",
     "text": [
      "100%|██████████| 5/5 [00:00<00:00, 33.86it/s]\n"
     ]
    },
    {
     "name": "stdout",
     "output_type": "stream",
     "text": [
      "val loss:  31.18531036376953\n",
      " cer:  -1\n",
      " cer:  -1\n",
      "val cer: 1.0\n",
      "epoch 57\n"
     ]
    },
    {
     "name": "stderr",
     "output_type": "stream",
     "text": [
      "100%|██████████| 15/15 [00:01<00:00, 12.93it/s]\n"
     ]
    },
    {
     "name": "stdout",
     "output_type": "stream",
     "text": [
      "train loss:  15.843948364257812\n",
      " cer:  -1\n",
      "п cer:  9.0\n",
      "train cer: 0.9908692810457517\n"
     ]
    },
    {
     "name": "stderr",
     "output_type": "stream",
     "text": [
      "100%|██████████| 5/5 [00:00<00:00, 20.98it/s]\n"
     ]
    },
    {
     "name": "stdout",
     "output_type": "stream",
     "text": [
      "val loss:  31.51145362854004\n",
      " cer:  -1\n",
      " cer:  -1\n",
      "val cer: 1.0\n",
      "epoch 58\n"
     ]
    },
    {
     "name": "stderr",
     "output_type": "stream",
     "text": [
      "100%|██████████| 15/15 [00:01<00:00, 10.87it/s]\n"
     ]
    },
    {
     "name": "stdout",
     "output_type": "stream",
     "text": [
      "train loss:  15.584961116313934\n",
      " cer:  -1\n",
      "ге cer:  4.0\n",
      "train cer: 0.98860348583878\n"
     ]
    },
    {
     "name": "stderr",
     "output_type": "stream",
     "text": [
      "100%|██████████| 5/5 [00:00<00:00, 28.90it/s]\n"
     ]
    },
    {
     "name": "stdout",
     "output_type": "stream",
     "text": [
      "val loss:  31.93420918782552\n",
      " cer:  -1\n",
      " cer:  -1\n",
      "val cer: 1.0\n",
      "epoch 59\n"
     ]
    },
    {
     "name": "stderr",
     "output_type": "stream",
     "text": [
      "100%|██████████| 15/15 [00:01<00:00, 10.80it/s]\n"
     ]
    },
    {
     "name": "stdout",
     "output_type": "stream",
     "text": [
      "train loss:  15.296302616596222\n",
      " cer:  -1\n",
      "г cer:  8.0\n",
      "train cer: 0.98860348583878\n"
     ]
    },
    {
     "name": "stderr",
     "output_type": "stream",
     "text": [
      "100%|██████████| 5/5 [00:00<00:00, 26.49it/s]\n"
     ]
    },
    {
     "name": "stdout",
     "output_type": "stream",
     "text": [
      "val loss:  32.27371406555176\n",
      " cer:  -1\n",
      " cer:  -1\n",
      "val cer: 1.0\n",
      "epoch 60\n"
     ]
    },
    {
     "name": "stderr",
     "output_type": "stream",
     "text": [
      "100%|██████████| 15/15 [00:01<00:00, 12.27it/s]\n"
     ]
    },
    {
     "name": "stdout",
     "output_type": "stream",
     "text": [
      "train loss:  14.964578002691269\n",
      " cer:  -1\n",
      "ге cer:  2.0\n",
      "train cer: 0.98860348583878\n"
     ]
    },
    {
     "name": "stderr",
     "output_type": "stream",
     "text": [
      "100%|██████████| 5/5 [00:00<00:00, 31.50it/s]\n"
     ]
    },
    {
     "name": "stdout",
     "output_type": "stream",
     "text": [
      "val loss:  32.402567545572914\n",
      " cer:  -1\n",
      " cer:  -1\n",
      "val cer: 1.0\n",
      "epoch 61\n"
     ]
    },
    {
     "name": "stderr",
     "output_type": "stream",
     "text": [
      "100%|██████████| 15/15 [00:01<00:00, 11.69it/s]\n"
     ]
    },
    {
     "name": "stdout",
     "output_type": "stream",
     "text": [
      "train loss:  14.661197274923325\n",
      "о cer:  12.0\n",
      "о cer:  12.0\n",
      "train cer: 0.9886034858387799\n"
     ]
    },
    {
     "name": "stderr",
     "output_type": "stream",
     "text": [
      "100%|██████████| 5/5 [00:00<00:00, 31.84it/s]\n"
     ]
    },
    {
     "name": "stdout",
     "output_type": "stream",
     "text": [
      "val loss:  32.51076634724935\n",
      " cer:  -1\n",
      " cer:  -1\n",
      "val cer: 1.0\n",
      "epoch 62\n"
     ]
    },
    {
     "name": "stderr",
     "output_type": "stream",
     "text": [
      "100%|██████████| 15/15 [00:01<00:00, 14.52it/s]\n"
     ]
    },
    {
     "name": "stdout",
     "output_type": "stream",
     "text": [
      "train loss:  14.3722083568573\n",
      "о cer:  9.0\n",
      " cer:  -1\n",
      "train cer: 0.9874130096483038\n"
     ]
    },
    {
     "name": "stderr",
     "output_type": "stream",
     "text": [
      "100%|██████████| 5/5 [00:00<00:00, 32.24it/s]\n"
     ]
    },
    {
     "name": "stdout",
     "output_type": "stream",
     "text": [
      "val loss:  32.38235600789388\n",
      " cer:  -1\n",
      " cer:  -1\n",
      "val cer: 1.0\n",
      "epoch 63\n"
     ]
    },
    {
     "name": "stderr",
     "output_type": "stream",
     "text": [
      "100%|██████████| 15/15 [00:01<00:00, 14.33it/s]\n"
     ]
    },
    {
     "name": "stdout",
     "output_type": "stream",
     "text": [
      "train loss:  14.035788863897324\n",
      "г cer:  16.0\n",
      "о cer:  16.0\n",
      "train cer: 0.9874130096483037\n"
     ]
    },
    {
     "name": "stderr",
     "output_type": "stream",
     "text": [
      "100%|██████████| 5/5 [00:00<00:00, 30.75it/s]\n"
     ]
    },
    {
     "name": "stdout",
     "output_type": "stream",
     "text": [
      "val loss:  32.20502026875814\n",
      " cer:  -1\n",
      " cer:  -1\n",
      "val cer: 1.0\n",
      "epoch 64\n"
     ]
    },
    {
     "name": "stderr",
     "output_type": "stream",
     "text": [
      "100%|██████████| 15/15 [00:01<00:00, 12.60it/s]\n"
     ]
    },
    {
     "name": "stdout",
     "output_type": "stream",
     "text": [
      "train loss:  13.75431314110756\n",
      "а cer:  7.0\n",
      " cer:  -1\n",
      "train cer: 0.9874130096483038\n"
     ]
    },
    {
     "name": "stderr",
     "output_type": "stream",
     "text": [
      "100%|██████████| 5/5 [00:00<00:00, 31.81it/s]\n"
     ]
    },
    {
     "name": "stdout",
     "output_type": "stream",
     "text": [
      "val loss:  31.96089235941569\n",
      " cer:  -1\n",
      " cer:  -1\n",
      "val cer: 1.0\n",
      "epoch 65\n"
     ]
    },
    {
     "name": "stderr",
     "output_type": "stream",
     "text": [
      "100%|██████████| 15/15 [00:01<00:00, 13.17it/s]\n"
     ]
    },
    {
     "name": "stdout",
     "output_type": "stream",
     "text": [
      "train loss:  13.37644562125206\n",
      "ге cer:  9.0\n",
      "ге cer:  9.0\n",
      "train cer: 0.9854017314528151\n"
     ]
    },
    {
     "name": "stderr",
     "output_type": "stream",
     "text": [
      "100%|██████████| 5/5 [00:00<00:00, 27.64it/s]\n"
     ]
    },
    {
     "name": "stdout",
     "output_type": "stream",
     "text": [
      "val loss:  31.534583409627277\n",
      " cer:  -1\n",
      " cer:  -1\n",
      "val cer: 1.0\n",
      "epoch 66\n"
     ]
    },
    {
     "name": "stderr",
     "output_type": "stream",
     "text": [
      "100%|██████████| 15/15 [00:01<00:00, 13.81it/s]\n"
     ]
    },
    {
     "name": "stdout",
     "output_type": "stream",
     "text": [
      "train loss:  13.119370490312576\n",
      "о cer:  9.0\n",
      " cer:  -1\n",
      "train cer: 0.9842906203417038\n"
     ]
    },
    {
     "name": "stderr",
     "output_type": "stream",
     "text": [
      "100%|██████████| 5/5 [00:00<00:00, 32.45it/s]\n"
     ]
    },
    {
     "name": "stdout",
     "output_type": "stream",
     "text": [
      "val loss:  31.13729476928711\n",
      " cer:  -1\n",
      " cer:  -1\n",
      "val cer: 1.0\n",
      "epoch 67\n"
     ]
    },
    {
     "name": "stderr",
     "output_type": "stream",
     "text": [
      "100%|██████████| 15/15 [00:01<00:00, 11.55it/s]\n"
     ]
    },
    {
     "name": "stdout",
     "output_type": "stream",
     "text": [
      "train loss:  12.835422426462173\n",
      "о cer:  9.0\n",
      "о cer:  9.0\n",
      "train cer: 0.9828091388602225\n"
     ]
    },
    {
     "name": "stderr",
     "output_type": "stream",
     "text": [
      "100%|██████████| 5/5 [00:00<00:00, 25.28it/s]\n"
     ]
    },
    {
     "name": "stdout",
     "output_type": "stream",
     "text": [
      "val loss:  30.860297203063965\n",
      " cer:  -1\n",
      " cer:  -1\n",
      "val cer: 1.0\n",
      "epoch 68\n"
     ]
    },
    {
     "name": "stderr",
     "output_type": "stream",
     "text": [
      "100%|██████████| 15/15 [00:01<00:00, 11.14it/s]\n"
     ]
    },
    {
     "name": "stdout",
     "output_type": "stream",
     "text": [
      "train loss:  12.540302723646164\n",
      "в cer:  14.0\n",
      "ге cer:  7.5\n",
      "train cer: 0.980834348944256\n"
     ]
    },
    {
     "name": "stderr",
     "output_type": "stream",
     "text": [
      "100%|██████████| 5/5 [00:00<00:00, 29.77it/s]\n"
     ]
    },
    {
     "name": "stdout",
     "output_type": "stream",
     "text": [
      "val loss:  30.715951601664226\n",
      " cer:  -1\n",
      " cer:  -1\n",
      "val cer: 1.0\n",
      "epoch 69\n"
     ]
    },
    {
     "name": "stderr",
     "output_type": "stream",
     "text": [
      "100%|██████████| 15/15 [00:01<00:00, 11.66it/s]\n"
     ]
    },
    {
     "name": "stdout",
     "output_type": "stream",
     "text": [
      "train loss:  12.381146758794785\n",
      "о cer:  12.0\n",
      "ге cer:  6.5\n",
      "train cer: 0.980834348944256\n"
     ]
    },
    {
     "name": "stderr",
     "output_type": "stream",
     "text": [
      "100%|██████████| 5/5 [00:00<00:00, 28.76it/s]\n"
     ]
    },
    {
     "name": "stdout",
     "output_type": "stream",
     "text": [
      "val loss:  30.578528086344402\n",
      "р cer:  13.0\n",
      " cer:  -1\n",
      "val cer: 1.0\n",
      "epoch 70\n"
     ]
    },
    {
     "name": "stderr",
     "output_type": "stream",
     "text": [
      "100%|██████████| 15/15 [00:01<00:00, 10.39it/s]\n"
     ]
    },
    {
     "name": "stdout",
     "output_type": "stream",
     "text": [
      "train loss:  12.129056543111801\n",
      "о cer:  9.0\n",
      "ге cer:  5.0\n",
      "train cer: 0.9796438727537798\n"
     ]
    },
    {
     "name": "stderr",
     "output_type": "stream",
     "text": [
      "100%|██████████| 5/5 [00:00<00:00, 23.87it/s]\n"
     ]
    },
    {
     "name": "stdout",
     "output_type": "stream",
     "text": [
      "val loss:  30.555095036824543\n",
      " cer:  -1\n",
      " cer:  -1\n",
      "val cer: 1.0\n",
      "epoch 71\n"
     ]
    },
    {
     "name": "stderr",
     "output_type": "stream",
     "text": [
      "100%|██████████| 15/15 [00:01<00:00, 12.43it/s]\n"
     ]
    },
    {
     "name": "stdout",
     "output_type": "stream",
     "text": [
      "train loss:  11.967563569545746\n",
      "а cer:  7.0\n",
      " cer:  -1\n",
      "train cer: 0.9811253542352615\n"
     ]
    },
    {
     "name": "stderr",
     "output_type": "stream",
     "text": [
      "100%|██████████| 5/5 [00:00<00:00, 30.47it/s]\n"
     ]
    },
    {
     "name": "stdout",
     "output_type": "stream",
     "text": [
      "val loss:  30.551137924194336\n",
      "а cer:  22.0\n",
      "р cer:  22.0\n",
      "val cer: 1.0\n",
      "epoch 72\n"
     ]
    },
    {
     "name": "stderr",
     "output_type": "stream",
     "text": [
      "100%|██████████| 15/15 [00:01<00:00, 13.14it/s]\n"
     ]
    },
    {
     "name": "stdout",
     "output_type": "stream",
     "text": [
      "train loss:  11.709102779626846\n",
      " cer:  -1\n",
      "о cer:  8.0\n",
      "train cer: 0.9811253542352615\n"
     ]
    },
    {
     "name": "stderr",
     "output_type": "stream",
     "text": [
      "100%|██████████| 5/5 [00:00<00:00, 21.97it/s]\n"
     ]
    },
    {
     "name": "stdout",
     "output_type": "stream",
     "text": [
      "val loss:  30.61718241373698\n",
      " cer:  -1\n",
      " cer:  -1\n",
      "val cer: 1.0\n",
      "epoch 73\n"
     ]
    },
    {
     "name": "stderr",
     "output_type": "stream",
     "text": [
      "100%|██████████| 15/15 [00:01<00:00,  9.31it/s]\n"
     ]
    },
    {
     "name": "stdout",
     "output_type": "stream",
     "text": [
      "train loss:  11.436388731002808\n",
      "о cer:  17.0\n",
      "п cer:  17.0\n",
      "train cer: 0.9811253542352614\n"
     ]
    },
    {
     "name": "stderr",
     "output_type": "stream",
     "text": [
      "100%|██████████| 5/5 [00:00<00:00, 40.55it/s]\n"
     ]
    },
    {
     "name": "stdout",
     "output_type": "stream",
     "text": [
      "val loss:  30.77987511952718\n",
      "а cer:  22.0\n",
      " cer:  -1\n",
      "val cer: 1.0\n",
      "epoch 74\n"
     ]
    },
    {
     "name": "stderr",
     "output_type": "stream",
     "text": [
      "100%|██████████| 15/15 [00:01<00:00, 12.53it/s]\n"
     ]
    },
    {
     "name": "stdout",
     "output_type": "stream",
     "text": [
      "train loss:  11.238642364740372\n",
      "ге cer:  7.5\n",
      "о cer:  16.0\n",
      "train cer: 0.9803410405097711\n"
     ]
    },
    {
     "name": "stderr",
     "output_type": "stream",
     "text": [
      "100%|██████████| 5/5 [00:00<00:00, 22.90it/s]\n"
     ]
    },
    {
     "name": "stdout",
     "output_type": "stream",
     "text": [
      "val loss:  30.93775208791097\n",
      " cer:  -1\n",
      "р cer:  12.0\n",
      "val cer: 1.0\n",
      "epoch 75\n"
     ]
    },
    {
     "name": "stderr",
     "output_type": "stream",
     "text": [
      "100%|██████████| 15/15 [00:01<00:00, 10.13it/s]\n"
     ]
    },
    {
     "name": "stdout",
     "output_type": "stream",
     "text": [
      "train loss:  11.067971915006638\n",
      "где cer:  4.333333333333333\n",
      "в cer:  15.0\n",
      "train cer: 0.9788595590282898\n"
     ]
    },
    {
     "name": "stderr",
     "output_type": "stream",
     "text": [
      "100%|██████████| 5/5 [00:00<00:00, 31.45it/s]\n"
     ]
    },
    {
     "name": "stdout",
     "output_type": "stream",
     "text": [
      "val loss:  31.11140473683675\n",
      "а cer:  22.0\n",
      " cer:  -1\n",
      "val cer: 1.0\n",
      "epoch 76\n"
     ]
    },
    {
     "name": "stderr",
     "output_type": "stream",
     "text": [
      "100%|██████████| 15/15 [00:01<00:00, 14.08it/s]\n"
     ]
    },
    {
     "name": "stdout",
     "output_type": "stream",
     "text": [
      "train loss:  10.796548157930374\n",
      "п cer:  18.0\n",
      "о cer:  18.0\n",
      "train cer: 0.9774706701394007\n"
     ]
    },
    {
     "name": "stderr",
     "output_type": "stream",
     "text": [
      "100%|██████████| 5/5 [00:00<00:00, 27.93it/s]\n"
     ]
    },
    {
     "name": "stdout",
     "output_type": "stream",
     "text": [
      "val loss:  31.343492190043133\n",
      " cer:  -1\n",
      " cer:  -1\n",
      "val cer: 1.0\n",
      "epoch 77\n"
     ]
    },
    {
     "name": "stderr",
     "output_type": "stream",
     "text": [
      "100%|██████████| 15/15 [00:01<00:00, 12.33it/s]\n"
     ]
    },
    {
     "name": "stdout",
     "output_type": "stream",
     "text": [
      "train loss:  10.641754478216171\n",
      "чо cer:  4.5\n",
      "п cer:  9.0\n",
      "train cer: 0.9774706701394007\n"
     ]
    },
    {
     "name": "stderr",
     "output_type": "stream",
     "text": [
      "100%|██████████| 5/5 [00:00<00:00, 25.48it/s]\n"
     ]
    },
    {
     "name": "stdout",
     "output_type": "stream",
     "text": [
      "val loss:  31.551170984903973\n",
      " cer:  -1\n",
      "а cer:  12.0\n",
      "val cer: 1.0\n",
      "epoch 78\n"
     ]
    },
    {
     "name": "stderr",
     "output_type": "stream",
     "text": [
      "100%|██████████| 15/15 [00:01<00:00, 10.72it/s]\n"
     ]
    },
    {
     "name": "stdout",
     "output_type": "stream",
     "text": [
      "train loss:  10.477177500724792\n",
      "о cer:  12.0\n",
      "в cer:  12.0\n",
      "train cer: 0.9774706701394007\n"
     ]
    },
    {
     "name": "stderr",
     "output_type": "stream",
     "text": [
      "100%|██████████| 5/5 [00:00<00:00, 28.03it/s]\n"
     ]
    },
    {
     "name": "stdout",
     "output_type": "stream",
     "text": [
      "val loss:  31.742850303649902\n",
      " cer:  -1\n",
      " cer:  -1\n",
      "val cer: 1.0\n",
      "epoch 79\n"
     ]
    },
    {
     "name": "stderr",
     "output_type": "stream",
     "text": [
      "100%|██████████| 15/15 [00:01<00:00, 12.71it/s]\n"
     ]
    },
    {
     "name": "stdout",
     "output_type": "stream",
     "text": [
      "train loss:  10.307805076241493\n",
      "р cer:  8.0\n",
      "п cer:  9.0\n",
      "train cer: 0.9774706701394007\n"
     ]
    },
    {
     "name": "stderr",
     "output_type": "stream",
     "text": [
      "100%|██████████| 5/5 [00:00<00:00, 28.69it/s]\n"
     ]
    },
    {
     "name": "stdout",
     "output_type": "stream",
     "text": [
      "val loss:  31.970709482828777\n",
      " cer:  -1\n",
      "р cer:  22.0\n",
      "val cer: 0.9958333333333332\n",
      "epoch 80\n"
     ]
    },
    {
     "name": "stderr",
     "output_type": "stream",
     "text": [
      "100%|██████████| 15/15 [00:01<00:00, 11.84it/s]\n"
     ]
    },
    {
     "name": "stdout",
     "output_type": "stream",
     "text": [
      "train loss:  10.169261291623116\n",
      "о cer:  10.0\n",
      "в cer:  10.0\n",
      "train cer: 0.9774706701394008\n"
     ]
    },
    {
     "name": "stderr",
     "output_type": "stream",
     "text": [
      "100%|██████████| 5/5 [00:00<00:00, 25.93it/s]\n"
     ]
    },
    {
     "name": "stdout",
     "output_type": "stream",
     "text": [
      "val loss:  32.0331007639567\n",
      " cer:  -1\n",
      "п cer:  7.0\n",
      "val cer: 0.9958333333333332\n",
      "epoch 81\n"
     ]
    },
    {
     "name": "stderr",
     "output_type": "stream",
     "text": [
      "100%|██████████| 15/15 [00:01<00:00, 10.74it/s]\n"
     ]
    },
    {
     "name": "stdout",
     "output_type": "stream",
     "text": [
      "train loss:  10.013221815228462\n",
      "о cer:  12.0\n",
      "р cer:  12.0\n",
      "train cer: 0.9774706701394007\n"
     ]
    },
    {
     "name": "stderr",
     "output_type": "stream",
     "text": [
      "100%|██████████| 5/5 [00:00<00:00, 32.70it/s]\n"
     ]
    },
    {
     "name": "stdout",
     "output_type": "stream",
     "text": [
      "val loss:  32.07979520161947\n",
      " cer:  -1\n",
      "р cer:  15.0\n",
      "val cer: 0.9958333333333332\n",
      "epoch 82\n"
     ]
    },
    {
     "name": "stderr",
     "output_type": "stream",
     "text": [
      "100%|██████████| 15/15 [00:01<00:00, 14.03it/s]\n"
     ]
    },
    {
     "name": "stdout",
     "output_type": "stream",
     "text": [
      "train loss:  9.828943967819214\n",
      " cer:  -1\n",
      "а cer:  3.0\n",
      "train cer: 0.9774706701394008\n"
     ]
    },
    {
     "name": "stderr",
     "output_type": "stream",
     "text": [
      "100%|██████████| 5/5 [00:00<00:00, 48.86it/s]\n"
     ]
    },
    {
     "name": "stdout",
     "output_type": "stream",
     "text": [
      "val loss:  32.04586092631022\n",
      " cer:  -1\n",
      " cer:  -1\n",
      "val cer: 0.9958333333333332\n",
      "epoch 83\n"
     ]
    },
    {
     "name": "stderr",
     "output_type": "stream",
     "text": [
      "100%|██████████| 15/15 [00:01<00:00,  9.50it/s]\n"
     ]
    },
    {
     "name": "stdout",
     "output_type": "stream",
     "text": [
      "train loss:  9.646118000149727\n",
      "о cer:  12.0\n",
      "а cer:  12.0\n",
      "train cer: 0.9761994283093355\n"
     ]
    },
    {
     "name": "stderr",
     "output_type": "stream",
     "text": [
      "100%|██████████| 5/5 [00:00<00:00, 27.86it/s]\n"
     ]
    },
    {
     "name": "stdout",
     "output_type": "stream",
     "text": [
      "val loss:  32.01398785909017\n",
      "п cer:  22.0\n",
      " cer:  -1\n",
      "val cer: 0.9958333333333332\n",
      "epoch 84\n"
     ]
    },
    {
     "name": "stderr",
     "output_type": "stream",
     "text": [
      "100%|██████████| 15/15 [00:01<00:00, 11.22it/s]\n"
     ]
    },
    {
     "name": "stdout",
     "output_type": "stream",
     "text": [
      "train loss:  9.474112585186958\n",
      "ч cer:  9.0\n",
      " cer:  -1\n",
      "train cer: 0.9745327616426687\n"
     ]
    },
    {
     "name": "stderr",
     "output_type": "stream",
     "text": [
      "100%|██████████| 5/5 [00:00<00:00, 23.72it/s]\n"
     ]
    },
    {
     "name": "stdout",
     "output_type": "stream",
     "text": [
      "val loss:  32.05186398824056\n",
      " cer:  -1\n",
      "п cer:  7.0\n",
      "val cer: 0.9958333333333332\n",
      "epoch 85\n"
     ]
    },
    {
     "name": "stderr",
     "output_type": "stream",
     "text": [
      "100%|██████████| 15/15 [00:01<00:00, 13.37it/s]\n"
     ]
    },
    {
     "name": "stdout",
     "output_type": "stream",
     "text": [
      "train loss:  9.245750799775124\n",
      "п cer:  7.0\n",
      "ч cer:  8.0\n",
      "train cer: 0.973981797455341\n"
     ]
    },
    {
     "name": "stderr",
     "output_type": "stream",
     "text": [
      "100%|██████████| 5/5 [00:00<00:00, 31.16it/s]\n"
     ]
    },
    {
     "name": "stdout",
     "output_type": "stream",
     "text": [
      "val loss:  32.00721454620361\n",
      "па cer:  11.0\n",
      " cer:  -1\n",
      "val cer: 0.9958333333333332\n",
      "epoch 86\n"
     ]
    },
    {
     "name": "stderr",
     "output_type": "stream",
     "text": [
      "100%|██████████| 15/15 [00:01<00:00, 11.84it/s]\n"
     ]
    },
    {
     "name": "stdout",
     "output_type": "stream",
     "text": [
      "train loss:  9.043004110455513\n",
      "ге cer:  9.0\n",
      "ч cer:  20.0\n",
      "train cer: 0.9734308332680132\n"
     ]
    },
    {
     "name": "stderr",
     "output_type": "stream",
     "text": [
      "100%|██████████| 5/5 [00:00<00:00, 31.02it/s]\n"
     ]
    },
    {
     "name": "stdout",
     "output_type": "stream",
     "text": [
      "val loss:  32.033945401509605\n",
      "п cer:  11.0\n",
      " cer:  -1\n",
      "val cer: 0.9958333333333333\n",
      "epoch 87\n"
     ]
    },
    {
     "name": "stderr",
     "output_type": "stream",
     "text": [
      "100%|██████████| 15/15 [00:01<00:00, 11.48it/s]\n"
     ]
    },
    {
     "name": "stdout",
     "output_type": "stream",
     "text": [
      "train loss:  8.90793377161026\n",
      "ге cer:  9.0\n",
      "п cer:  19.0\n",
      "train cer: 0.9707347548366406\n"
     ]
    },
    {
     "name": "stderr",
     "output_type": "stream",
     "text": [
      "100%|██████████| 5/5 [00:00<00:00, 43.35it/s]\n"
     ]
    },
    {
     "name": "stdout",
     "output_type": "stream",
     "text": [
      "val loss:  32.10939121246338\n",
      "р cer:  13.0\n",
      " cer:  -1\n",
      "val cer: 0.9958333333333332\n",
      "epoch 88\n"
     ]
    },
    {
     "name": "stderr",
     "output_type": "stream",
     "text": [
      "100%|██████████| 15/15 [00:01<00:00,  9.77it/s]\n"
     ]
    },
    {
     "name": "stdout",
     "output_type": "stream",
     "text": [
      "train loss:  8.754308044910431\n",
      "бум cer:  2.3333333333333335\n",
      "в cer:  10.0\n",
      "train cer: 0.9707347548366406\n"
     ]
    },
    {
     "name": "stderr",
     "output_type": "stream",
     "text": [
      "100%|██████████| 5/5 [00:00<00:00, 29.47it/s]\n"
     ]
    },
    {
     "name": "stdout",
     "output_type": "stream",
     "text": [
      "val loss:  32.14416790008545\n",
      "а cer:  22.0\n",
      "р cer:  22.0\n",
      "val cer: 0.9958333333333332\n",
      "epoch 89\n"
     ]
    },
    {
     "name": "stderr",
     "output_type": "stream",
     "text": [
      "100%|██████████| 15/15 [00:01<00:00, 10.69it/s]\n"
     ]
    },
    {
     "name": "stdout",
     "output_type": "stream",
     "text": [
      "train loss:  8.535811096429825\n",
      "в cer:  14.0\n",
      "ч cer:  15.0\n",
      "train cer: 0.9698689539708397\n"
     ]
    },
    {
     "name": "stderr",
     "output_type": "stream",
     "text": [
      "100%|██████████| 5/5 [00:00<00:00, 27.32it/s]\n"
     ]
    },
    {
     "name": "stdout",
     "output_type": "stream",
     "text": [
      "val loss:  32.14827378590902\n",
      "р cer:  13.0\n",
      " cer:  -1\n",
      "val cer: 0.9958333333333332\n",
      "epoch 90\n"
     ]
    },
    {
     "name": "stderr",
     "output_type": "stream",
     "text": [
      "100%|██████████| 15/15 [00:01<00:00, 13.38it/s]\n"
     ]
    },
    {
     "name": "stdout",
     "output_type": "stream",
     "text": [
      "train loss:  8.385057359933853\n",
      "бум cer:  2.3333333333333335\n",
      "п cer:  10.0\n",
      "train cer: 0.9705356206375063\n"
     ]
    },
    {
     "name": "stderr",
     "output_type": "stream",
     "text": [
      "100%|██████████| 5/5 [00:00<00:00, 28.57it/s]\n"
     ]
    },
    {
     "name": "stdout",
     "output_type": "stream",
     "text": [
      "val loss:  32.06212457021078\n",
      "р cer:  13.0\n",
      " cer:  -1\n",
      "val cer: 0.9958333333333332\n",
      "epoch 91\n"
     ]
    },
    {
     "name": "stderr",
     "output_type": "stream",
     "text": [
      "100%|██████████| 15/15 [00:01<00:00, 13.77it/s]\n"
     ]
    },
    {
     "name": "stdout",
     "output_type": "stream",
     "text": [
      "train loss:  8.199716433882713\n",
      "ч cer:  9.0\n",
      "р cer:  10.0\n",
      "train cer: 0.9685356206375064\n"
     ]
    },
    {
     "name": "stderr",
     "output_type": "stream",
     "text": [
      "100%|██████████| 5/5 [00:00<00:00, 17.70it/s]\n"
     ]
    },
    {
     "name": "stdout",
     "output_type": "stream",
     "text": [
      "val loss:  32.13478787740072\n",
      " cer:  -1\n",
      "п cer:  7.0\n",
      "val cer: 0.9958333333333332\n",
      "epoch 92\n"
     ]
    },
    {
     "name": "stderr",
     "output_type": "stream",
     "text": [
      "100%|██████████| 15/15 [00:01<00:00, 12.53it/s]\n"
     ]
    },
    {
     "name": "stdout",
     "output_type": "stream",
     "text": [
      "train loss:  8.055159881711006\n",
      "в cer:  3.0\n",
      "к cer:  4.0\n",
      "train cer: 0.969202287304173\n"
     ]
    },
    {
     "name": "stderr",
     "output_type": "stream",
     "text": [
      "100%|██████████| 5/5 [00:00<00:00, 28.17it/s]\n"
     ]
    },
    {
     "name": "stdout",
     "output_type": "stream",
     "text": [
      "val loss:  32.30874983469645\n",
      " cer:  -1\n",
      "р cer:  8.0\n",
      "val cer: 0.9958333333333332\n",
      "epoch 93\n"
     ]
    },
    {
     "name": "stderr",
     "output_type": "stream",
     "text": [
      "100%|██████████| 15/15 [00:01<00:00, 12.95it/s]\n"
     ]
    },
    {
     "name": "stdout",
     "output_type": "stream",
     "text": [
      "train loss:  7.906921908259392\n",
      "п cer:  7.0\n",
      "ро cer:  4.0\n",
      "train cer: 0.9697532514915007\n"
     ]
    },
    {
     "name": "stderr",
     "output_type": "stream",
     "text": [
      "100%|██████████| 5/5 [00:00<00:00, 28.51it/s]\n"
     ]
    },
    {
     "name": "stdout",
     "output_type": "stream",
     "text": [
      "val loss:  32.614988009134926\n",
      "а cer:  22.0\n",
      "р cer:  22.0\n",
      "val cer: 0.9958333333333332\n",
      "epoch 94\n"
     ]
    },
    {
     "name": "stderr",
     "output_type": "stream",
     "text": [
      "100%|██████████| 15/15 [00:01<00:00, 13.20it/s]\n"
     ]
    },
    {
     "name": "stdout",
     "output_type": "stream",
     "text": [
      "train loss:  7.741341337561607\n",
      "п cer:  4.0\n",
      "о cer:  5.0\n",
      "train cer: 0.9697532514915008\n"
     ]
    },
    {
     "name": "stderr",
     "output_type": "stream",
     "text": [
      "100%|██████████| 5/5 [00:00<00:00, 28.36it/s]\n"
     ]
    },
    {
     "name": "stdout",
     "output_type": "stream",
     "text": [
      "val loss:  32.9347759882609\n",
      " cer:  -1\n",
      "п cer:  15.0\n",
      "val cer: 0.9958333333333332\n",
      "epoch 95\n"
     ]
    },
    {
     "name": "stderr",
     "output_type": "stream",
     "text": [
      "100%|██████████| 15/15 [00:01<00:00, 13.06it/s]\n"
     ]
    },
    {
     "name": "stdout",
     "output_type": "stream",
     "text": [
      "train loss:  7.594907060265541\n",
      "ге cer:  9.0\n",
      "п cer:  19.0\n",
      "train cer: 0.9697532514915008\n"
     ]
    },
    {
     "name": "stderr",
     "output_type": "stream",
     "text": [
      "100%|██████████| 5/5 [00:00<00:00, 28.31it/s]\n"
     ]
    },
    {
     "name": "stdout",
     "output_type": "stream",
     "text": [
      "val loss:  33.328928311665855\n",
      "п cer:  11.0\n",
      "р cer:  12.0\n",
      "val cer: 0.9958333333333333\n",
      "epoch 96\n"
     ]
    },
    {
     "name": "stderr",
     "output_type": "stream",
     "text": [
      "100%|██████████| 15/15 [00:01<00:00, 11.39it/s]\n"
     ]
    },
    {
     "name": "stdout",
     "output_type": "stream",
     "text": [
      "train loss:  7.465003222227097\n",
      "гд cer:  7.0\n",
      "п cer:  16.0\n",
      "train cer: 0.969202287304173\n"
     ]
    },
    {
     "name": "stderr",
     "output_type": "stream",
     "text": [
      "100%|██████████| 5/5 [00:00<00:00, 31.97it/s]\n"
     ]
    },
    {
     "name": "stdout",
     "output_type": "stream",
     "text": [
      "val loss:  33.78664747873942\n",
      " cer:  -1\n",
      "а cer:  14.0\n",
      "val cer: 0.9958333333333332\n",
      "epoch 97\n"
     ]
    },
    {
     "name": "stderr",
     "output_type": "stream",
     "text": [
      "100%|██████████| 15/15 [00:01<00:00, 14.13it/s]\n"
     ]
    },
    {
     "name": "stdout",
     "output_type": "stream",
     "text": [
      "train loss:  7.331425383687019\n",
      "бум cer:  2.3333333333333335\n",
      "гд cer:  4.5\n",
      "train cer: 0.9697532514915008\n"
     ]
    },
    {
     "name": "stderr",
     "output_type": "stream",
     "text": [
      "100%|██████████| 5/5 [00:00<00:00, 31.83it/s]\n"
     ]
    },
    {
     "name": "stdout",
     "output_type": "stream",
     "text": [
      "val loss:  34.21203454335531\n",
      "р cer:  13.0\n",
      "а cer:  14.0\n",
      "val cer: 0.9958333333333332\n",
      "epoch 98\n"
     ]
    },
    {
     "name": "stderr",
     "output_type": "stream",
     "text": [
      "100%|██████████| 15/15 [00:01<00:00, 14.44it/s]\n"
     ]
    },
    {
     "name": "stdout",
     "output_type": "stream",
     "text": [
      "train loss:  7.212653189897537\n",
      "в cer:  14.0\n",
      "п cer:  15.0\n",
      "train cer: 0.9697532514915008\n"
     ]
    },
    {
     "name": "stderr",
     "output_type": "stream",
     "text": [
      "100%|██████████| 5/5 [00:00<00:00, 29.99it/s]\n"
     ]
    },
    {
     "name": "stdout",
     "output_type": "stream",
     "text": [
      "val loss:  34.614466985066734\n",
      "п cer:  11.0\n",
      "а cer:  12.0\n",
      "val cer: 0.9958333333333333\n",
      "epoch 99\n"
     ]
    },
    {
     "name": "stderr",
     "output_type": "stream",
     "text": [
      "100%|██████████| 15/15 [00:01<00:00, 10.31it/s]\n"
     ]
    },
    {
     "name": "stdout",
     "output_type": "stream",
     "text": [
      "train loss:  7.096099898219109\n",
      "бум cer:  2.3333333333333335\n",
      "а cer:  9.0\n",
      "train cer: 0.969202287304173\n"
     ]
    },
    {
     "name": "stderr",
     "output_type": "stream",
     "text": [
      "100%|██████████| 5/5 [00:00<00:00, 48.09it/s]"
     ]
    },
    {
     "name": "stdout",
     "output_type": "stream",
     "text": [
      "val loss:  34.86309274037679\n",
      "р cer:  13.0\n",
      "п cer:  14.0\n",
      "val cer: 0.9958333333333332\n"
     ]
    },
    {
     "name": "stderr",
     "output_type": "stream",
     "text": [
      "\n"
     ]
    }
   ],
   "source": [
    "train_loss=[]\n",
    "train_cer=[]\n",
    "val_loss=[]\n",
    "val_cer=[]\n",
    "\n",
    "for epoch in range(100):\n",
    "    print(\"epoch\", epoch)\n",
    "    hist, r, target = train_step()\n",
    "    tl = sum(hist)/len(hist)\n",
    "    train_loss.append(tl)\n",
    "    print(\"train loss: \", tl)\n",
    "    show_batch(r[-1], target[-1])\n",
    "    show_batch(r[-2], target[-1])\n",
    "    tc = avg_cer(r, target)\n",
    "    train_cer.append(tc)\n",
    "    print(\"train cer:\", tc)\n",
    "    hist, r, target = val_step()\n",
    "    vl = sum(hist)/len(hist)\n",
    "    print(\"val loss: \", vl)\n",
    "    val_loss.append(vl)\n",
    "    show_batch(r[-1], target[-1])\n",
    "    show_batch(r[-2], target[-1])\n",
    "    vc = avg_cer(r, target)\n",
    "    val_cer.append(avg_cer(r, target))\n",
    "    print(\"val cer:\", vc)"
   ]
  },
  {
   "cell_type": "code",
   "execution_count": 27,
   "metadata": {},
   "outputs": [
    {
     "data": {
      "text/plain": [
       "<matplotlib.legend.Legend at 0x7f946e09a010>"
      ]
     },
     "execution_count": 27,
     "metadata": {},
     "output_type": "execute_result"
    },
    {
     "data": {
      "image/png": "[encoded data removed]",
      "text/plain": [
       "<Figure size 640x480 with 1 Axes>"
      ]
     },
     "metadata": {},
     "output_type": "display_data"
    }
   ],
   "source": [
    "plt.plot(train_cer, label='train cer')\n",
    "plt.plot(val_cer, label='val cer')\n",
    "plt.legend()"
   ]
  },
  {
   "cell_type": "code",
   "execution_count": 28,
   "metadata": {},
   "outputs": [
    {
     "data": {
      "text/plain": [
       "<matplotlib.legend.Legend at 0x7f946e309490>"
      ]
     },
     "execution_count": 28,
     "metadata": {},
     "output_type": "execute_result"
    },
    {
     "data": {
      "image/png": "[encoded data removed]",
      "text/plain": [
       "<Figure size 640x480 with 1 Axes>"
      ]
     },
     "metadata": {},
     "output_type": "display_data"
    }
   ],
   "source": [
    "plt.plot([math.log(i) for i in train_loss], label='train loss')\n",
    "plt.plot([math.log(i) for i in val_loss], label='train loss')\n",
    "plt.legend()"
   ]
  },
  {
   "cell_type": "code",
   "execution_count": 29,
   "metadata": {},
   "outputs": [],
   "source": [
    "torch.save(model, 'rnn0302.torch')"
   ]
  },
  {
   "cell_type": "code",
   "execution_count": null,
   "metadata": {},
   "outputs": [],
   "source": []
  }
 ],
 "metadata": {
  "colab": {
   "provenance": []
  },
  "kernelspec": {
   "display_name": "Python 3 (ipykernel)",
   "language": "python",
   "name": "python3"
  },
  "language_info": {
   "codemirror_mode": {
    "name": "ipython",
    "version": 3
   },
   "file_extension": ".py",
   "mimetype": "text/x-python",
   "name": "python",
   "nbconvert_exporter": "python",
   "pygments_lexer": "ipython3",
   "version": "3.11.6"
  }
 },
 "nbformat": 4,
 "nbformat_minor": 4
}
