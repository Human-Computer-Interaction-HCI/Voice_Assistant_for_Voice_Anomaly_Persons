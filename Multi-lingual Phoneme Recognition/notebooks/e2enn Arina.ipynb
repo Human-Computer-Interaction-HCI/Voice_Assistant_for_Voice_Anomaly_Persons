{
 "cells": [
  {
   "cell_type": "code",
   "execution_count": 1,
   "metadata": {
    "id": "t8hxdLWb_Rpd"
   },
   "outputs": [],
   "source": [
    "data = '/home/boris/projects/VoiceSpeaker/Multi-lingual Phoneme Recognition/data/raw_kaggle/Speeches.xlsx'"
   ]
  },
  {
   "cell_type": "code",
   "execution_count": 2,
   "metadata": {
    "id": "Ry4Dpt7o_Rpg"
   },
   "outputs": [],
   "source": [
    "import math\n",
    "import os\n",
    "\n",
    "import jiwer\n",
    "from matplotlib import pyplot as plt\n",
    "import pandas as pd\n",
    "import torch\n",
    "from torch import nn\n",
    "from torch.utils.data import DataLoader\n",
    "import librosa\n",
    "\n",
    "import torchaudio"
   ]
  },
  {
   "cell_type": "markdown",
   "metadata": {
    "id": "eqDkG6V2_Rph"
   },
   "source": [
    "# Data loading"
   ]
  },
  {
   "cell_type": "code",
   "execution_count": 3,
   "metadata": {
    "id": "kthEq-rH_Rpj"
   },
   "outputs": [],
   "source": [
    "BATCH_SIZE = 1"
   ]
  },
  {
   "cell_type": "code",
   "execution_count": 4,
   "metadata": {
    "id": "7ET-LsWA_Rpj"
   },
   "outputs": [
    {
     "data": {
      "text/html": [
       "<div>\n",
       "<style scoped>\n",
       "    .dataframe tbody tr th:only-of-type {\n",
       "        vertical-align: middle;\n",
       "    }\n",
       "\n",
       "    .dataframe tbody tr th {\n",
       "        vertical-align: top;\n",
       "    }\n",
       "\n",
       "    .dataframe thead th {\n",
       "        text-align: right;\n",
       "    }\n",
       "</style>\n",
       "<table border=\"1\" class=\"dataframe\">\n",
       "  <thead>\n",
       "    <tr style=\"text-align: right;\">\n",
       "      <th></th>\n",
       "      <th>Число</th>\n",
       "      <th>Русская речь</th>\n",
       "    </tr>\n",
       "  </thead>\n",
       "  <tbody>\n",
       "    <tr>\n",
       "      <th>0</th>\n",
       "      <td>1</td>\n",
       "      <td>Как пройти до корпуса?</td>\n",
       "    </tr>\n",
       "    <tr>\n",
       "      <th>1</th>\n",
       "      <td>2</td>\n",
       "      <td>Где взять направление?</td>\n",
       "    </tr>\n",
       "    <tr>\n",
       "      <th>2</th>\n",
       "      <td>3</td>\n",
       "      <td>Бумага есть</td>\n",
       "    </tr>\n",
       "    <tr>\n",
       "      <th>3</th>\n",
       "      <td>4</td>\n",
       "      <td>анальгин</td>\n",
       "    </tr>\n",
       "    <tr>\n",
       "      <th>4</th>\n",
       "      <td>5</td>\n",
       "      <td>вата</td>\n",
       "    </tr>\n",
       "  </tbody>\n",
       "</table>\n",
       "</div>"
      ],
      "text/plain": [
       "   Число            Русская речь\n",
       "0      1  Как пройти до корпуса?\n",
       "1      2  Где взять направление?\n",
       "2      3             Бумага есть\n",
       "3      4                анальгин\n",
       "4      5                    вата"
      ]
     },
     "execution_count": 4,
     "metadata": {},
     "output_type": "execute_result"
    }
   ],
   "source": [
    "df = pd.read_excel(data)\n",
    "df.head()"
   ]
  },
  {
   "cell_type": "code",
   "execution_count": 5,
   "metadata": {},
   "outputs": [],
   "source": [
    "import subprocess\n",
    "def get_audio_path(i: int) -> str | bool:\n",
    "    candidates = [\n",
    "        '/home/boris/projects/VoiceSpeaker/Multi-lingual Phoneme Recognition/data/Борис. Фразы(0-100)/{}.m4a'.format(i),\n",
    "        '/home/boris/projects/VoiceSpeaker/Multi-lingual Phoneme Recognition/data/Борис. Фразы(101-238/{}.m4a'.format(i),\n",
    "        '/home/boris/projects/VoiceSpeaker/Multi-lingual Phoneme Recognition/data/Борис. Фразы(239-399)/{}.m4a'.format(i),\n",
    "    ]\n",
    "    for path in candidates:\n",
    "        if os.path.exists(path):\n",
    "            if not os.path.exists(path+'.wav'):\n",
    "                subprocess.run(['ffmpeg', '-i', path, path+'.wav'])\n",
    "            return path+'.wav'\n",
    "    return False\n",
    "def get_audio(path: str):\n",
    "    return torch.Tensor(librosa.load(path, sr=16000)[0]).view(1,-1)"
   ]
  },
  {
   "cell_type": "code",
   "execution_count": 6,
   "metadata": {},
   "outputs": [
    {
     "data": {
      "text/plain": [
       "False"
      ]
     },
     "execution_count": 6,
     "metadata": {},
     "output_type": "execute_result"
    }
   ],
   "source": [
    "get_audio_path(4)"
   ]
  },
  {
   "cell_type": "code",
   "execution_count": 7,
   "metadata": {},
   "outputs": [
    {
     "data": {
      "text/plain": [
       "[0,\n",
       " 1,\n",
       " 2,\n",
       " 3,\n",
       " 4,\n",
       " 6,\n",
       " 8,\n",
       " 9,\n",
       " 10,\n",
       " 11,\n",
       " 12,\n",
       " 13,\n",
       " 14,\n",
       " 15,\n",
       " 16,\n",
       " 17,\n",
       " 18,\n",
       " 20,\n",
       " 21,\n",
       " 22,\n",
       " 24,\n",
       " 25,\n",
       " 26,\n",
       " 27,\n",
       " 28,\n",
       " 30,\n",
       " 32,\n",
       " 33,\n",
       " 34,\n",
       " 35,\n",
       " 36,\n",
       " 37,\n",
       " 40,\n",
       " 42,\n",
       " 43,\n",
       " 44,\n",
       " 45,\n",
       " 46,\n",
       " 47,\n",
       " 48,\n",
       " 49,\n",
       " 50,\n",
       " 51,\n",
       " 52,\n",
       " 53,\n",
       " 54,\n",
       " 55,\n",
       " 56,\n",
       " 57,\n",
       " 58,\n",
       " 60,\n",
       " 61,\n",
       " 62,\n",
       " 65,\n",
       " 66,\n",
       " 67,\n",
       " 68,\n",
       " 69,\n",
       " 70,\n",
       " 73,\n",
       " 75,\n",
       " 76,\n",
       " 79,\n",
       " 80,\n",
       " 81,\n",
       " 82,\n",
       " 83,\n",
       " 84,\n",
       " 87,\n",
       " 89,\n",
       " 90,\n",
       " 91,\n",
       " 93,\n",
       " 94,\n",
       " 96,\n",
       " 99,\n",
       " 100,\n",
       " 101,\n",
       " 102,\n",
       " 103,\n",
       " 104,\n",
       " 106,\n",
       " 108,\n",
       " 109,\n",
       " 110,\n",
       " 111,\n",
       " 113,\n",
       " 114,\n",
       " 115,\n",
       " 116,\n",
       " 117,\n",
       " 119,\n",
       " 120,\n",
       " 122,\n",
       " 123,\n",
       " 125,\n",
       " 126,\n",
       " 127,\n",
       " 128,\n",
       " 129,\n",
       " 130,\n",
       " 132,\n",
       " 133,\n",
       " 134,\n",
       " 135,\n",
       " 136,\n",
       " 138,\n",
       " 139,\n",
       " 140,\n",
       " 141,\n",
       " 142,\n",
       " 143,\n",
       " 144,\n",
       " 145,\n",
       " 146,\n",
       " 147,\n",
       " 148,\n",
       " 149,\n",
       " 151,\n",
       " 152,\n",
       " 153,\n",
       " 154,\n",
       " 155,\n",
       " 156,\n",
       " 157,\n",
       " 158,\n",
       " 160,\n",
       " 161,\n",
       " 162,\n",
       " 163,\n",
       " 165,\n",
       " 167,\n",
       " 168,\n",
       " 169,\n",
       " 170,\n",
       " 171,\n",
       " 172,\n",
       " 173,\n",
       " 174,\n",
       " 175,\n",
       " 176,\n",
       " 178,\n",
       " 179,\n",
       " 180,\n",
       " 181,\n",
       " 182,\n",
       " 184,\n",
       " 185,\n",
       " 186,\n",
       " 187,\n",
       " 189,\n",
       " 190,\n",
       " 191,\n",
       " 192,\n",
       " 193,\n",
       " 194,\n",
       " 196,\n",
       " 197,\n",
       " 198,\n",
       " 199,\n",
       " 200,\n",
       " 201,\n",
       " 202,\n",
       " 203,\n",
       " 204,\n",
       " 205,\n",
       " 207,\n",
       " 208,\n",
       " 209,\n",
       " 210,\n",
       " 211,\n",
       " 212,\n",
       " 213,\n",
       " 214,\n",
       " 215,\n",
       " 216,\n",
       " 217,\n",
       " 218,\n",
       " 219,\n",
       " 220,\n",
       " 221,\n",
       " 222,\n",
       " 223,\n",
       " 224,\n",
       " 225,\n",
       " 226,\n",
       " 227,\n",
       " 228,\n",
       " 230,\n",
       " 231,\n",
       " 232,\n",
       " 234,\n",
       " 235,\n",
       " 236,\n",
       " 237,\n",
       " 238,\n",
       " 239,\n",
       " 241,\n",
       " 242,\n",
       " 243,\n",
       " 244,\n",
       " 245,\n",
       " 246,\n",
       " 247,\n",
       " 248,\n",
       " 249,\n",
       " 250,\n",
       " 251,\n",
       " 252,\n",
       " 253,\n",
       " 255,\n",
       " 256,\n",
       " 257,\n",
       " 259,\n",
       " 260,\n",
       " 261,\n",
       " 262,\n",
       " 263,\n",
       " 266,\n",
       " 267,\n",
       " 268,\n",
       " 269,\n",
       " 270,\n",
       " 271,\n",
       " 272,\n",
       " 274,\n",
       " 275,\n",
       " 276,\n",
       " 277,\n",
       " 278,\n",
       " 279,\n",
       " 280,\n",
       " 283,\n",
       " 285,\n",
       " 287,\n",
       " 288,\n",
       " 289,\n",
       " 290,\n",
       " 292,\n",
       " 294,\n",
       " 295,\n",
       " 299,\n",
       " 301,\n",
       " 302,\n",
       " 303,\n",
       " 304,\n",
       " 305,\n",
       " 306,\n",
       " 307,\n",
       " 308,\n",
       " 311,\n",
       " 312,\n",
       " 314,\n",
       " 315,\n",
       " 316,\n",
       " 317,\n",
       " 318,\n",
       " 319,\n",
       " 320,\n",
       " 321,\n",
       " 323,\n",
       " 324,\n",
       " 325,\n",
       " 326,\n",
       " 327,\n",
       " 328,\n",
       " 330,\n",
       " 331,\n",
       " 332,\n",
       " 333,\n",
       " 334,\n",
       " 335,\n",
       " 336,\n",
       " 337,\n",
       " 339,\n",
       " 341,\n",
       " 342,\n",
       " 343,\n",
       " 345,\n",
       " 346,\n",
       " 347,\n",
       " 348,\n",
       " 349,\n",
       " 350,\n",
       " 352,\n",
       " 355,\n",
       " 359,\n",
       " 360,\n",
       " 362,\n",
       " 365,\n",
       " 366,\n",
       " 369,\n",
       " 370,\n",
       " 371,\n",
       " 372,\n",
       " 373,\n",
       " 375,\n",
       " 377,\n",
       " 378,\n",
       " 379,\n",
       " 380,\n",
       " 381,\n",
       " 383,\n",
       " 385,\n",
       " 386,\n",
       " 387,\n",
       " 388,\n",
       " 390,\n",
       " 391,\n",
       " 392,\n",
       " 393,\n",
       " 394,\n",
       " 395,\n",
       " 396,\n",
       " 397,\n",
       " 398,\n",
       " 399,\n",
       " 400,\n",
       " 401,\n",
       " 402,\n",
       " 403,\n",
       " 404,\n",
       " 405,\n",
       " 407,\n",
       " 408,\n",
       " 410,\n",
       " 411,\n",
       " 412,\n",
       " 413,\n",
       " 414,\n",
       " 415,\n",
       " 416,\n",
       " 417,\n",
       " 419,\n",
       " 420,\n",
       " 421,\n",
       " 422,\n",
       " 423,\n",
       " 424,\n",
       " 426,\n",
       " 427,\n",
       " 428,\n",
       " 430,\n",
       " 431,\n",
       " 432,\n",
       " 433,\n",
       " 434,\n",
       " 435,\n",
       " 436,\n",
       " 437,\n",
       " 438,\n",
       " 439,\n",
       " 441,\n",
       " 442,\n",
       " 444,\n",
       " 445,\n",
       " 446,\n",
       " 447,\n",
       " 448,\n",
       " 449,\n",
       " 450,\n",
       " 452,\n",
       " 454,\n",
       " 455,\n",
       " 456,\n",
       " 457,\n",
       " 460,\n",
       " 461,\n",
       " 462,\n",
       " 463,\n",
       " 464,\n",
       " 466,\n",
       " 467,\n",
       " 468,\n",
       " 469,\n",
       " 470,\n",
       " 472,\n",
       " 473,\n",
       " 475,\n",
       " 476,\n",
       " 477,\n",
       " 479,\n",
       " 480,\n",
       " 481,\n",
       " 483,\n",
       " 484,\n",
       " 485,\n",
       " 486,\n",
       " 487,\n",
       " 488,\n",
       " 489,\n",
       " 490,\n",
       " 491,\n",
       " 492,\n",
       " 493,\n",
       " 494,\n",
       " 495,\n",
       " 497,\n",
       " 498,\n",
       " 499,\n",
       " 501,\n",
       " 503,\n",
       " 504,\n",
       " 507,\n",
       " 508,\n",
       " 509,\n",
       " 510,\n",
       " 511,\n",
       " 513,\n",
       " 514,\n",
       " 516,\n",
       " 517,\n",
       " 518,\n",
       " 521,\n",
       " 522,\n",
       " 524,\n",
       " 525,\n",
       " 526,\n",
       " 527,\n",
       " 530,\n",
       " 531,\n",
       " 532,\n",
       " 533,\n",
       " 534,\n",
       " 535,\n",
       " 536,\n",
       " 540,\n",
       " 541,\n",
       " 542,\n",
       " 543,\n",
       " 544,\n",
       " 545,\n",
       " 547,\n",
       " 551,\n",
       " 552,\n",
       " 553,\n",
       " 554,\n",
       " 556,\n",
       " 558,\n",
       " 560,\n",
       " 561,\n",
       " 562,\n",
       " 563,\n",
       " 564,\n",
       " 565,\n",
       " 566,\n",
       " 567,\n",
       " 568,\n",
       " 569,\n",
       " 570,\n",
       " 571,\n",
       " 572,\n",
       " 573,\n",
       " 574,\n",
       " 575,\n",
       " 576,\n",
       " 577,\n",
       " 578,\n",
       " 580,\n",
       " 581,\n",
       " 585,\n",
       " 586,\n",
       " 587,\n",
       " 590,\n",
       " 591,\n",
       " 593,\n",
       " 594,\n",
       " 595,\n",
       " 596,\n",
       " 597,\n",
       " 600,\n",
       " 601,\n",
       " 602,\n",
       " 603,\n",
       " 604,\n",
       " 605,\n",
       " 606,\n",
       " 607,\n",
       " 608,\n",
       " 609,\n",
       " 611,\n",
       " 613,\n",
       " 614,\n",
       " 615,\n",
       " 616,\n",
       " 617,\n",
       " 618,\n",
       " 619,\n",
       " 622,\n",
       " 623,\n",
       " 624,\n",
       " 625,\n",
       " 626,\n",
       " 627,\n",
       " 628,\n",
       " 629,\n",
       " 630,\n",
       " 632,\n",
       " 634,\n",
       " 636,\n",
       " 637,\n",
       " 638,\n",
       " 639,\n",
       " 640,\n",
       " 641,\n",
       " 642,\n",
       " 643,\n",
       " 644,\n",
       " 645,\n",
       " 646,\n",
       " 647,\n",
       " 649,\n",
       " 650,\n",
       " 651,\n",
       " 652,\n",
       " 654,\n",
       " 655,\n",
       " 657,\n",
       " 658,\n",
       " 659,\n",
       " 660,\n",
       " 661,\n",
       " 662,\n",
       " 665,\n",
       " 666,\n",
       " 669,\n",
       " 670,\n",
       " 671,\n",
       " 672,\n",
       " 674,\n",
       " 675,\n",
       " 676,\n",
       " 677,\n",
       " 678,\n",
       " 680,\n",
       " 681,\n",
       " 682,\n",
       " 684,\n",
       " 685,\n",
       " 686,\n",
       " 687,\n",
       " 688,\n",
       " 689,\n",
       " 690,\n",
       " 692,\n",
       " 693,\n",
       " 695,\n",
       " 696,\n",
       " 697,\n",
       " 698,\n",
       " 699,\n",
       " 701,\n",
       " 702,\n",
       " 703,\n",
       " 704,\n",
       " 705,\n",
       " 707,\n",
       " 708,\n",
       " 709,\n",
       " 710,\n",
       " 711,\n",
       " 713,\n",
       " 714,\n",
       " 717,\n",
       " 718,\n",
       " 721,\n",
       " 722,\n",
       " 723,\n",
       " 724,\n",
       " 725,\n",
       " 726,\n",
       " 727,\n",
       " 728,\n",
       " 729,\n",
       " 731,\n",
       " 732,\n",
       " 733,\n",
       " 734,\n",
       " 736,\n",
       " 739,\n",
       " 742,\n",
       " 743,\n",
       " 744,\n",
       " 745,\n",
       " 746,\n",
       " 747,\n",
       " 748,\n",
       " 750,\n",
       " 751,\n",
       " 752,\n",
       " 753,\n",
       " 754,\n",
       " 755,\n",
       " 756,\n",
       " 757,\n",
       " 758,\n",
       " 759,\n",
       " 760,\n",
       " 761,\n",
       " 762,\n",
       " 763,\n",
       " 764,\n",
       " 765,\n",
       " 766,\n",
       " 767,\n",
       " 768,\n",
       " 769,\n",
       " 770,\n",
       " 771,\n",
       " 772,\n",
       " 773,\n",
       " 774,\n",
       " 775,\n",
       " 776,\n",
       " 777,\n",
       " 778,\n",
       " 780,\n",
       " 781,\n",
       " 782,\n",
       " 783,\n",
       " 784,\n",
       " 787,\n",
       " 788,\n",
       " 789,\n",
       " 791,\n",
       " 792,\n",
       " 796,\n",
       " 797,\n",
       " 798,\n",
       " 800,\n",
       " 801,\n",
       " 802,\n",
       " 803,\n",
       " 804,\n",
       " 805,\n",
       " 807,\n",
       " 808,\n",
       " 809,\n",
       " 810,\n",
       " 811,\n",
       " 812,\n",
       " 813,\n",
       " 814,\n",
       " 815,\n",
       " 816,\n",
       " 817,\n",
       " 818,\n",
       " 819,\n",
       " 820,\n",
       " 821,\n",
       " 822,\n",
       " 823,\n",
       " 824,\n",
       " 825,\n",
       " 826,\n",
       " 828,\n",
       " 829,\n",
       " 830,\n",
       " 831,\n",
       " 833,\n",
       " 834,\n",
       " 835,\n",
       " 837,\n",
       " 838,\n",
       " 839,\n",
       " 840,\n",
       " 841,\n",
       " 842,\n",
       " 843,\n",
       " 844,\n",
       " 846,\n",
       " 847,\n",
       " 848,\n",
       " 849,\n",
       " 850,\n",
       " 851,\n",
       " 852,\n",
       " 854,\n",
       " 855,\n",
       " 856,\n",
       " 857,\n",
       " 859,\n",
       " 860,\n",
       " 861,\n",
       " 862,\n",
       " 863,\n",
       " 864,\n",
       " 866,\n",
       " 867,\n",
       " 868,\n",
       " 869,\n",
       " 870,\n",
       " 871,\n",
       " 872,\n",
       " 873,\n",
       " 874,\n",
       " 875,\n",
       " 876,\n",
       " 877,\n",
       " 878,\n",
       " 879,\n",
       " 880,\n",
       " 881,\n",
       " 882,\n",
       " 883,\n",
       " 884,\n",
       " 887,\n",
       " 888,\n",
       " 889,\n",
       " 890,\n",
       " 891,\n",
       " 892,\n",
       " 893,\n",
       " 894,\n",
       " 895,\n",
       " 897,\n",
       " 898,\n",
       " 899,\n",
       " 901,\n",
       " 902,\n",
       " 903,\n",
       " 904,\n",
       " 905,\n",
       " 906,\n",
       " 907,\n",
       " 908,\n",
       " 909,\n",
       " 910,\n",
       " 911,\n",
       " 912,\n",
       " 913,\n",
       " 914,\n",
       " 915,\n",
       " 916,\n",
       " 917,\n",
       " 918,\n",
       " 919,\n",
       " 921,\n",
       " 922,\n",
       " 924,\n",
       " 925,\n",
       " 926,\n",
       " 927,\n",
       " 928,\n",
       " 930,\n",
       " 931,\n",
       " 932,\n",
       " 933,\n",
       " 934,\n",
       " 935,\n",
       " 936,\n",
       " 937,\n",
       " 938,\n",
       " 939,\n",
       " 941,\n",
       " 942,\n",
       " 943,\n",
       " 946,\n",
       " 947,\n",
       " 948,\n",
       " 949,\n",
       " 950,\n",
       " 951,\n",
       " 952,\n",
       " 954,\n",
       " 955,\n",
       " 956,\n",
       " 957,\n",
       " 958,\n",
       " 960,\n",
       " 961,\n",
       " 962,\n",
       " 963,\n",
       " 964,\n",
       " 965,\n",
       " 966,\n",
       " 967,\n",
       " 968,\n",
       " 969,\n",
       " 970,\n",
       " 971,\n",
       " 972,\n",
       " 973,\n",
       " 974,\n",
       " 975,\n",
       " 976,\n",
       " 977,\n",
       " 979,\n",
       " 980,\n",
       " 981,\n",
       " 982,\n",
       " 983,\n",
       " 984,\n",
       " 985,\n",
       " 987,\n",
       " 988,\n",
       " 989,\n",
       " 991,\n",
       " 992,\n",
       " 993,\n",
       " 994,\n",
       " 995,\n",
       " 996,\n",
       " 998,\n",
       " 999,\n",
       " 1000,\n",
       " 1001,\n",
       " 1002,\n",
       " 1003,\n",
       " 1004,\n",
       " 1005,\n",
       " 1006,\n",
       " 1007,\n",
       " 1009,\n",
       " 1010,\n",
       " 1011,\n",
       " 1012,\n",
       " 1014,\n",
       " 1017,\n",
       " 1018,\n",
       " 1019,\n",
       " 1020,\n",
       " 1021,\n",
       " 1023,\n",
       " 1025,\n",
       " 1027,\n",
       " 1028,\n",
       " 1029,\n",
       " 1030,\n",
       " 1031,\n",
       " 1032,\n",
       " 1033,\n",
       " 1034,\n",
       " 1035,\n",
       " 1036,\n",
       " 1037,\n",
       " 1038,\n",
       " 1039,\n",
       " 1040,\n",
       " 1041,\n",
       " 1042,\n",
       " 1043,\n",
       " 1044,\n",
       " 1045,\n",
       " 1046,\n",
       " 1049,\n",
       " 1051,\n",
       " 1052,\n",
       " 1053,\n",
       " 1055,\n",
       " 1056,\n",
       " 1059,\n",
       " 1061,\n",
       " 1062,\n",
       " 1064,\n",
       " 1065,\n",
       " 1066,\n",
       " 1067,\n",
       " 1070,\n",
       " 1072,\n",
       " 1073,\n",
       " 1075,\n",
       " 1077,\n",
       " 1082,\n",
       " 1083,\n",
       " 1084,\n",
       " 1085,\n",
       " 1086,\n",
       " 1089,\n",
       " 1091,\n",
       " 1094,\n",
       " 1097,\n",
       " 1098,\n",
       " 1099,\n",
       " 1100,\n",
       " 1102,\n",
       " 1103,\n",
       " 1104,\n",
       " 1105,\n",
       " 1106,\n",
       " 1107,\n",
       " 1108,\n",
       " 1109,\n",
       " 1110,\n",
       " 1111,\n",
       " 1112,\n",
       " 1113,\n",
       " 1114,\n",
       " 1119,\n",
       " 1120,\n",
       " 1121,\n",
       " 1122,\n",
       " 1123,\n",
       " 1124,\n",
       " 1125,\n",
       " 1126,\n",
       " 1127,\n",
       " 1130,\n",
       " 1131,\n",
       " 1132,\n",
       " 1133,\n",
       " 1135,\n",
       " 1136,\n",
       " 1137,\n",
       " 1139,\n",
       " 1140,\n",
       " 1142,\n",
       " 1143,\n",
       " 1144,\n",
       " 1145,\n",
       " 1146,\n",
       " 1147,\n",
       " 1148,\n",
       " 1149,\n",
       " 1150,\n",
       " 1151,\n",
       " 1152,\n",
       " 1155,\n",
       " 1156,\n",
       " 1159,\n",
       " 1161,\n",
       " 1162,\n",
       " 1163,\n",
       " 1164,\n",
       " 1165,\n",
       " 1166,\n",
       " 1168,\n",
       " 1170,\n",
       " 1171,\n",
       " 1172,\n",
       " 1174,\n",
       " 1175,\n",
       " 1177,\n",
       " 1178,\n",
       " 1181,\n",
       " 1182,\n",
       " 1184,\n",
       " 1185,\n",
       " 1186,\n",
       " 1188,\n",
       " 1190,\n",
       " 1192,\n",
       " 1193,\n",
       " 1195,\n",
       " 1197,\n",
       " 1198,\n",
       " 1201,\n",
       " 1202,\n",
       " 1203,\n",
       " 1204,\n",
       " 1205,\n",
       " 1209,\n",
       " 1210,\n",
       " 1211,\n",
       " 1212,\n",
       " 1213,\n",
       " 1214,\n",
       " 1215,\n",
       " 1217,\n",
       " 1220,\n",
       " 1221,\n",
       " 1222,\n",
       " 1223,\n",
       " 1224,\n",
       " 1227,\n",
       " 1228,\n",
       " 1229,\n",
       " 1230,\n",
       " 1232,\n",
       " 1234,\n",
       " 1235,\n",
       " 1236,\n",
       " 1237,\n",
       " 1238,\n",
       " 1239,\n",
       " 1240,\n",
       " 1241,\n",
       " 1242,\n",
       " 1244,\n",
       " 1247,\n",
       " 1248,\n",
       " 1249,\n",
       " 1251,\n",
       " 1252,\n",
       " 1253,\n",
       " 1254,\n",
       " 1255,\n",
       " 1258,\n",
       " 1259,\n",
       " 1260,\n",
       " 1261,\n",
       " 1262,\n",
       " 1263,\n",
       " 1265,\n",
       " 1266,\n",
       " 1267,\n",
       " 1268,\n",
       " 1270,\n",
       " 1271,\n",
       " 1272,\n",
       " ...]"
      ]
     },
     "execution_count": 7,
     "metadata": {},
     "output_type": "execute_result"
    }
   ],
   "source": [
    "missed_files = []\n",
    "for i in df.iterrows():\n",
    "    num = i[0]\n",
    "    if not get_audio_path(num):\n",
    "        missed_files.append(num)\n",
    "missed_files"
   ]
  },
  {
   "cell_type": "code",
   "execution_count": 8,
   "metadata": {},
   "outputs": [
    {
     "data": {
      "text/plain": [
       "0.8025"
      ]
     },
     "execution_count": 8,
     "metadata": {},
     "output_type": "execute_result"
    }
   ],
   "source": [
    "len(missed_files)/len(df)"
   ]
  },
  {
   "cell_type": "code",
   "execution_count": 9,
   "metadata": {},
   "outputs": [
    {
     "data": {
      "text/plain": [
       "0"
      ]
     },
     "execution_count": 9,
     "metadata": {},
     "output_type": "execute_result"
    }
   ],
   "source": [
    "missed_files[0]"
   ]
  },
  {
   "cell_type": "code",
   "execution_count": 10,
   "metadata": {},
   "outputs": [],
   "source": [
    "\n",
    "for i in missed_files:\n",
    "    df = df[df['Число']!=i]\n"
   ]
  },
  {
   "cell_type": "code",
   "execution_count": 11,
   "metadata": {},
   "outputs": [],
   "source": [
    "df.reset_index(inplace=True, drop=True)"
   ]
  },
  {
   "cell_type": "code",
   "execution_count": 12,
   "metadata": {},
   "outputs": [
    {
     "data": {
      "text/html": [
       "<div>\n",
       "<style scoped>\n",
       "    .dataframe tbody tr th:only-of-type {\n",
       "        vertical-align: middle;\n",
       "    }\n",
       "\n",
       "    .dataframe tbody tr th {\n",
       "        vertical-align: top;\n",
       "    }\n",
       "\n",
       "    .dataframe thead th {\n",
       "        text-align: right;\n",
       "    }\n",
       "</style>\n",
       "<table border=\"1\" class=\"dataframe\">\n",
       "  <thead>\n",
       "    <tr style=\"text-align: right;\">\n",
       "      <th></th>\n",
       "      <th>Число</th>\n",
       "      <th>Русская речь</th>\n",
       "    </tr>\n",
       "  </thead>\n",
       "  <tbody>\n",
       "    <tr>\n",
       "      <th>0</th>\n",
       "      <td>5</td>\n",
       "      <td>вата</td>\n",
       "    </tr>\n",
       "    <tr>\n",
       "      <th>1</th>\n",
       "      <td>7</td>\n",
       "      <td>Где преподаватель?</td>\n",
       "    </tr>\n",
       "    <tr>\n",
       "      <th>2</th>\n",
       "      <td>19</td>\n",
       "      <td>Столовая прямо по коридору</td>\n",
       "    </tr>\n",
       "    <tr>\n",
       "      <th>3</th>\n",
       "      <td>23</td>\n",
       "      <td>Лабиринт</td>\n",
       "    </tr>\n",
       "    <tr>\n",
       "      <th>4</th>\n",
       "      <td>29</td>\n",
       "      <td>Ограничения</td>\n",
       "    </tr>\n",
       "  </tbody>\n",
       "</table>\n",
       "</div>"
      ],
      "text/plain": [
       "   Число                Русская речь\n",
       "0      5                        вата\n",
       "1      7          Где преподаватель?\n",
       "2     19  Столовая прямо по коридору\n",
       "3     23                    Лабиринт\n",
       "4     29                 Ограничения"
      ]
     },
     "execution_count": 12,
     "metadata": {},
     "output_type": "execute_result"
    }
   ],
   "source": [
    "df.head()"
   ]
  },
  {
   "cell_type": "code",
   "execution_count": 13,
   "metadata": {},
   "outputs": [
    {
     "data": {
      "text/plain": [
       "(array([-8.8853506e-07,  1.1100863e-06, -1.5497349e-06, ...,\n",
       "         6.3932021e-05,  6.5215681e-07, -2.0521853e-05], dtype=float32),\n",
       " 22050)"
      ]
     },
     "execution_count": 13,
     "metadata": {},
     "output_type": "execute_result"
    }
   ],
   "source": [
    "librosa.load(get_audio_path(23))"
   ]
  },
  {
   "cell_type": "code",
   "execution_count": 14,
   "metadata": {},
   "outputs": [],
   "source": [
    "class SpeechDataset(torch.utils.data.Dataset):\n",
    "    def __init__(self, df: pd.DataFrame, start=0, end=2000):\n",
    "        self.df = df\n",
    "        self.start=start\n",
    "        self.end=end\n",
    "    def __len__(self):\n",
    "        return self.end - self.start\n",
    "    def __getitem__(self, idx: int):\n",
    "        new_idx = idx+self.start\n",
    "        return get_audio(get_audio_path(self.df[\"Число\"][new_idx])), self.df[\"Русская речь\"][new_idx]\n",
    "abc = '?абвгдеёжзийклмнопрстуфхшщчцьыъэюя'\n",
    "def collate_spl(batch):\n",
    "    wfs, lbls = [], []\n",
    "    for i,j in batch:\n",
    "        wfs.append(i)\n",
    "        lbls.append(j)\n",
    "    \n",
    "    return  wfs, lbls\n",
    "def clear_str(s): return ''.join(i for i in s.lower() if i in abc)"
   ]
  },
  {
   "cell_type": "code",
   "execution_count": 15,
   "metadata": {},
   "outputs": [],
   "source": [
    "def str_to_tensor(strs: list[str])->tuple[torch.Tensor, torch.Tensor]:\n",
    "    lengths = torch.zeros((len(strs),), dtype=int)\n",
    "    result = []\n",
    "    for idx, i in enumerate(strs):\n",
    "        result.append([abc.index(j) for j in i.lower() if j in abc[1:]])\n",
    "        lengths[idx] = len(result[-1])\n",
    "    res_tensor = torch.zeros((len(strs), lengths.max().item()))\n",
    "    for idx0, i in enumerate(result):\n",
    "        for idx1, c in enumerate(i):\n",
    "            res_tensor[idx0, idx1] = c\n",
    "    return res_tensor, lengths"
   ]
  },
  {
   "cell_type": "code",
   "execution_count": 16,
   "metadata": {},
   "outputs": [
    {
     "name": "stderr",
     "output_type": "stream",
     "text": [
      "/home/boris/projects/VoiceSpeaker/Multi-lingual Phoneme Recognition/venv/lib/python3.11/site-packages/torchaudio/functional/functional.py:584: UserWarning: At least one mel filterbank has all zero values. The value for `n_mels` (128) may be set too high. Or, the value for `n_freqs` (201) may be set too low.\n",
      "  warnings.warn(\n"
     ]
    }
   ],
   "source": [
    "train_transforms = torchaudio.transforms.MelSpectrogram(\n",
    "    n_mels=128\n",
    "    )"
   ]
  },
  {
   "cell_type": "code",
   "execution_count": 17,
   "metadata": {},
   "outputs": [
    {
     "data": {
      "image/png": "[encoded data removed]",
      "text/plain": [
       "<Figure size 640x480 with 16 Axes>"
      ]
     },
     "metadata": {},
     "output_type": "display_data"
    }
   ],
   "source": [
    "fig, axs = plt.subplots(4,4, layout='compressed')\n",
    "k = 0\n",
    "for i in range(4):\n",
    "    for j in range(4):\n",
    "        while True:\n",
    "            p = get_audio_path(k)\n",
    "            k += 1\n",
    "            if   p:\n",
    "                break\n",
    "        wf = get_audio(p)\n",
    "        axs[i,j].set_axis_off()\n",
    "        axs[j,i].imshow(train_transforms(wf)[0])"
   ]
  },
  {
   "cell_type": "code",
   "execution_count": 18,
   "metadata": {},
   "outputs": [
    {
     "data": {
      "text/plain": [
       "396"
      ]
     },
     "execution_count": 18,
     "metadata": {},
     "output_type": "execute_result"
    }
   ],
   "source": [
    "len(df)"
   ]
  },
  {
   "cell_type": "code",
   "execution_count": 19,
   "metadata": {},
   "outputs": [],
   "source": [
    "device = 'cpu'#torch.device('cuda:0' if torch.cuda.is_available() else 'cpu')"
   ]
  },
  {
   "cell_type": "code",
   "execution_count": 20,
   "metadata": {},
   "outputs": [],
   "source": [
    "train_df = SpeechDataset(df, 0, 300)\n",
    "val_df = SpeechDataset(df, 300, 395)"
   ]
  },
  {
   "cell_type": "code",
   "execution_count": 21,
   "metadata": {},
   "outputs": [],
   "source": [
    "def padded_stack(list_of_tensors, maxlen=16):\n",
    "    maxlen = max(x.shape[1] for x in list_of_tensors)\n",
    "    output = torch.zeros((len(list_of_tensors), maxlen, list_of_tensors[0].shape[-1]))\n",
    "    for i, t in enumerate(list_of_tensors):\n",
    "        output[i, :min(maxlen, t.shape[1]), :] = t[0,:maxlen, :]\n",
    "    return output"
   ]
  },
  {
   "cell_type": "code",
   "execution_count": 22,
   "metadata": {},
   "outputs": [],
   "source": [
    "train_dataloader = DataLoader(train_df, batch_size=BATCH_SIZE, collate_fn=collate_spl, shuffle=True)\n",
    "val_dataloader = DataLoader(val_df, batch_size=BATCH_SIZE, collate_fn=collate_spl, shuffle=True)"
   ]
  },
  {
   "cell_type": "code",
   "execution_count": 60,
   "metadata": {},
   "outputs": [],
   "source": [
    "class Model(nn.Module):\n",
    "    def __init__(self):\n",
    "        super().__init__()\n",
    "        \n",
    "        self.cnn = nn.Sequential(\n",
    "            nn.Conv1d(in_channels=128, out_channels=128, kernel_size=3, padding=1),\n",
    "            nn.BatchNorm1d(128),\n",
    "            nn.MaxPool1d(2),\n",
    "            nn.Conv1d(in_channels=128, out_channels=64, kernel_size=3, padding=1),\n",
    "            nn.BatchNorm1d(64),\n",
    "            nn.MaxPool1d(2),\n",
    "        )\n",
    "        self.rnn = nn.GRU(input_size=64, \n",
    "                    hidden_size=256, \n",
    "                    num_layers=1, \n",
    "                    batch_first=True, \n",
    "                    bidirectional=True)\n",
    "        \n",
    "        self.fc = nn.Linear(512, 34)\n",
    "        self.act = nn.LogSoftmax(-1)\n",
    "    \n",
    "    def forward(self, X):\n",
    "        # X: batch x 128 x len\n",
    "        # X = X[:,:,::4] \n",
    "        X = self.cnn(X)\n",
    "        X = X.permute(0,2,1)\n",
    "        X, _ = self.rnn(X)\n",
    "        X = self.fc(X)\n",
    "        X = self.act(X)\n",
    "        return X\n",
    "\n",
    "model=Model().to(device)"
   ]
  },
  {
   "cell_type": "code",
   "execution_count": 61,
   "metadata": {},
   "outputs": [
    {
     "name": "stdout",
     "output_type": "stream",
     "text": [
      "params:  586338\n"
     ]
    }
   ],
   "source": [
    "print('params: ', sum(i.nelement() for i in model.parameters()))"
   ]
  },
  {
   "cell_type": "code",
   "execution_count": 62,
   "metadata": {},
   "outputs": [],
   "source": [
    "loss = nn.CTCLoss(zero_infinity=True)\n",
    "optimizer = torch.optim.Adam(model.parameters())"
   ]
  },
  {
   "cell_type": "code",
   "execution_count": 63,
   "metadata": {},
   "outputs": [],
   "source": [
    "def get_y_lengths(y):\n",
    "    return torch.ones(y.shape[0], dtype=int)*y.shape[-2]"
   ]
  },
  {
   "cell_type": "code",
   "execution_count": 64,
   "metadata": {},
   "outputs": [],
   "source": [
    "import tqdm"
   ]
  },
  {
   "cell_type": "code",
   "execution_count": 65,
   "metadata": {},
   "outputs": [],
   "source": [
    "def train_step():\n",
    "    history = [0]\n",
    "    model.train()\n",
    "    i=0\n",
    "    r=[]\n",
    "    target = []\n",
    "    optimizer.zero_grad()\n",
    "    for batch in tqdm.tqdm(train_dataloader):\n",
    "        i+=1\n",
    "        spectrograms = [train_transforms(i).permute(0,2,1) for i in batch[0]]\n",
    "        spectrograms = padded_stack(spectrograms).permute(0,2,1) # baatch x features x len\n",
    "        target_t, target_len = str_to_tensor(batch[1])\n",
    "        target += [clear_str(i) for i in batch[1]]\n",
    "        output = model(spectrograms.to(device))\n",
    "        lv = loss(output.permute(1,0,2), target_t.to(device), get_y_lengths(output), target_len)\n",
    "        lve= torch.exp(lv).item()\n",
    "        history.append(lve)\n",
    "        r.append(output.argmax(-1))\n",
    "        \n",
    "        lv.backward()\n",
    "        if i%1==0:\n",
    "            optimizer.step()\n",
    "            optimizer.zero_grad()\n",
    "    return history, r, target\n",
    "# hist, r, target = train_step()"
   ]
  },
  {
   "cell_type": "code",
   "execution_count": 66,
   "metadata": {},
   "outputs": [],
   "source": [
    "def val_step():\n",
    "    history = [0]\n",
    "    model.eval()\n",
    "    i=0\n",
    "    r=[]\n",
    "    target = []\n",
    "    for batch in tqdm.tqdm(val_dataloader):\n",
    "        i+=1\n",
    "        spectrograms = [train_transforms(i).permute(0,2,1) for i in batch[0]]\n",
    "        spectrograms = padded_stack(spectrograms).permute(0,2,1) # baatch x features x len\n",
    "        target += [clear_str(i) for i in batch[1]]\n",
    "        target_t, target_len = str_to_tensor(batch[1])\n",
    "        output = model(spectrograms)\n",
    "        lv = loss(output.permute(1,0,2), target_t, get_y_lengths(output), target_len)\n",
    "        lve= torch.exp(lv).item()\n",
    "        history.append(lve)\n",
    "        r.append(output.argmax(-1))\n",
    "        \n",
    "    return history, r, target\n",
    "# hist, r, arget = val_step()"
   ]
  },
  {
   "cell_type": "code",
   "execution_count": 67,
   "metadata": {},
   "outputs": [
    {
     "name": "stderr",
     "output_type": "stream",
     "text": [
      "100%|██████████| 95/95 [00:03<00:00, 28.54it/s]\n"
     ]
    }
   ],
   "source": [
    "_=val_step()"
   ]
  },
  {
   "cell_type": "code",
   "execution_count": 68,
   "metadata": {},
   "outputs": [],
   "source": [
    "def show_batch(r, target):\n",
    "    am = r\n",
    "    for i in range(am.shape[0]):\n",
    "        p=0\n",
    "        s=''\n",
    "        for j in range(am.shape[1]):\n",
    "            if (c:=am[i,j]) not in [0, p]:\n",
    "                s+=abc[c]\n",
    "                p=c\n",
    "        print(s, 'cer: ', jiwer.cer(s, target) if len(s)>0 else -1)"
   ]
  },
  {
   "cell_type": "code",
   "execution_count": 69,
   "metadata": {},
   "outputs": [
    {
     "ename": "NameError",
     "evalue": "name 'arget' is not defined",
     "output_type": "error",
     "traceback": [
      "\u001b[0;31m---------------------------------------------------------------------------\u001b[0m",
      "\u001b[0;31mNameError\u001b[0m                                 Traceback (most recent call last)",
      "Cell \u001b[0;32mIn[69], line 1\u001b[0m\n\u001b[0;32m----> 1\u001b[0m show_batch(r[\u001b[38;5;241m-\u001b[39m\u001b[38;5;241m1\u001b[39m], \u001b[43marget\u001b[49m[\u001b[38;5;241m-\u001b[39m\u001b[38;5;241m1\u001b[39m])\n",
      "\u001b[0;31mNameError\u001b[0m: name 'arget' is not defined"
     ]
    }
   ],
   "source": [
    "show_batch(r[-1], arget[-1])"
   ]
  },
  {
   "cell_type": "code",
   "execution_count": 70,
   "metadata": {},
   "outputs": [
    {
     "data": {
      "text/plain": [
       "[<matplotlib.lines.Line2D at 0x7f29f0b31850>]"
      ]
     },
     "execution_count": 70,
     "metadata": {},
     "output_type": "execute_result"
    },
    {
     "data": {
      "image/png": "[encoded data removed]",
      "text/plain": [
       "<Figure size 640x480 with 1 Axes>"
      ]
     },
     "metadata": {},
     "output_type": "display_data"
    }
   ],
   "source": [
    "plt.plot(hist)"
   ]
  },
  {
   "cell_type": "code",
   "execution_count": 71,
   "metadata": {},
   "outputs": [],
   "source": [
    "def to_str(r):\n",
    "    res=[]\n",
    "    for i in r:\n",
    "        res.append([])\n",
    "        for bn in i:\n",
    "            res[-1].append(''.join(abc[j] for j in bn))\n",
    "    return res\n",
    "def avg_cer(r, target):\n",
    "    try:\n",
    "        return sum(jiwer.cer(i, j) for i, j in zip(to_str(r), target))/len(target)\n",
    "    except:\n",
    "        return -1\n",
    "# [clear_str(i) for i in batch[1]]"
   ]
  },
  {
   "cell_type": "code",
   "execution_count": 72,
   "metadata": {},
   "outputs": [
    {
     "name": "stdout",
     "output_type": "stream",
     "text": [
      "epoch 0\n"
     ]
    },
    {
     "name": "stderr",
     "output_type": "stream",
     "text": [
      "100%|██████████| 300/300 [00:20<00:00, 14.61it/s]\n"
     ]
    },
    {
     "name": "stdout",
     "output_type": "stream",
     "text": [
      "train loss:  4.12237032401825e+19\n",
      "еа cer:  5.0\n",
      "аеаеа cer:  2.0\n",
      "train cer: 0.9794299066873473\n"
     ]
    },
    {
     "name": "stderr",
     "output_type": "stream",
     "text": [
      "100%|██████████| 95/95 [00:03<00:00, 30.61it/s]\n"
     ]
    },
    {
     "name": "stdout",
     "output_type": "stream",
     "text": [
      "val loss:  891.9261620640755\n",
      "а cer:  10.0\n",
      "еаеа cer:  2.0\n",
      "val cer: 0.9811756731284887\n",
      "epoch 1\n"
     ]
    },
    {
     "name": "stderr",
     "output_type": "stream",
     "text": [
      "100%|██████████| 300/300 [00:21<00:00, 13.90it/s]\n"
     ]
    },
    {
     "name": "stdout",
     "output_type": "stream",
     "text": [
      "train loss:  555.1017085357362\n",
      "о cer:  15.0\n",
      "о cer:  15.0\n",
      "train cer: 0.9829264420727264\n"
     ]
    },
    {
     "name": "stderr",
     "output_type": "stream",
     "text": [
      "100%|██████████| 95/95 [00:03<00:00, 29.94it/s]\n"
     ]
    },
    {
     "name": "stdout",
     "output_type": "stream",
     "text": [
      "val loss:  92.78650943438213\n",
      "о cer:  9.0\n",
      "оаоа cer:  2.25\n",
      "val cer: 0.9873872886164767\n",
      "epoch 2\n"
     ]
    },
    {
     "name": "stderr",
     "output_type": "stream",
     "text": [
      "100%|██████████| 300/300 [00:18<00:00, 16.16it/s]\n"
     ]
    },
    {
     "name": "stdout",
     "output_type": "stream",
     "text": [
      "train loss:  48.287970710830436\n",
      " cer:  -1\n",
      " cer:  -1\n",
      "train cer: 0.9928259896737861\n"
     ]
    },
    {
     "name": "stderr",
     "output_type": "stream",
     "text": [
      "100%|██████████| 95/95 [00:03<00:00, 31.38it/s]\n"
     ]
    },
    {
     "name": "stdout",
     "output_type": "stream",
     "text": [
      "val loss:  33.42478390534719\n",
      " cer:  -1\n",
      " cer:  -1\n",
      "val cer: 0.9972622280128765\n",
      "epoch 3\n"
     ]
    },
    {
     "name": "stderr",
     "output_type": "stream",
     "text": [
      "100%|██████████| 300/300 [00:20<00:00, 14.75it/s]\n"
     ]
    },
    {
     "name": "stdout",
     "output_type": "stream",
     "text": [
      "train loss:  35.43598465269982\n",
      " cer:  -1\n",
      " cer:  -1\n",
      "train cer: 0.9984635031602455\n"
     ]
    },
    {
     "name": "stderr",
     "output_type": "stream",
     "text": [
      "100%|██████████| 95/95 [00:02<00:00, 31.71it/s]\n"
     ]
    },
    {
     "name": "stdout",
     "output_type": "stream",
     "text": [
      "val loss:  31.05842888355255\n",
      " cer:  -1\n",
      " cer:  -1\n",
      "val cer: 0.9984038223597739\n",
      "epoch 4\n"
     ]
    },
    {
     "name": "stderr",
     "output_type": "stream",
     "text": [
      "100%|██████████| 300/300 [00:19<00:00, 15.72it/s]\n"
     ]
    },
    {
     "name": "stdout",
     "output_type": "stream",
     "text": [
      "train loss:  41.1679808847928\n",
      " cer:  -1\n",
      " cer:  -1\n",
      "train cer: 0.999235070983961\n"
     ]
    },
    {
     "name": "stderr",
     "output_type": "stream",
     "text": [
      "100%|██████████| 95/95 [00:02<00:00, 34.86it/s]\n"
     ]
    },
    {
     "name": "stdout",
     "output_type": "stream",
     "text": [
      "val loss:  30.162191212177277\n",
      " cer:  -1\n",
      " cer:  -1\n",
      "val cer: 0.9979128423622301\n",
      "epoch 5\n"
     ]
    },
    {
     "name": "stderr",
     "output_type": "stream",
     "text": [
      "100%|██████████| 300/300 [00:18<00:00, 16.28it/s]\n"
     ]
    },
    {
     "name": "stdout",
     "output_type": "stream",
     "text": [
      "train loss:  31.97591049726619\n",
      " cer:  -1\n",
      " cer:  -1\n",
      "train cer: 0.998298865329967\n"
     ]
    },
    {
     "name": "stderr",
     "output_type": "stream",
     "text": [
      "100%|██████████| 95/95 [00:02<00:00, 32.00it/s]\n"
     ]
    },
    {
     "name": "stdout",
     "output_type": "stream",
     "text": [
      "val loss:  31.703481018543243\n",
      "ы cer:  28.0\n",
      "анаы cer:  6.5\n",
      "val cer: 0.9975616585157091\n",
      "epoch 6\n"
     ]
    },
    {
     "name": "stderr",
     "output_type": "stream",
     "text": [
      "100%|██████████| 300/300 [00:17<00:00, 16.79it/s]\n"
     ]
    },
    {
     "name": "stdout",
     "output_type": "stream",
     "text": [
      "train loss:  33.52215524210882\n",
      " cer:  -1\n",
      " cer:  -1\n",
      "train cer: 0.9991531324251328\n"
     ]
    },
    {
     "name": "stderr",
     "output_type": "stream",
     "text": [
      "100%|██████████| 95/95 [00:02<00:00, 32.82it/s]\n"
     ]
    },
    {
     "name": "stdout",
     "output_type": "stream",
     "text": [
      "val loss:  30.088435570398968\n",
      " cer:  -1\n",
      " cer:  -1\n",
      "val cer: 0.997862152993616\n",
      "epoch 7\n"
     ]
    },
    {
     "name": "stderr",
     "output_type": "stream",
     "text": [
      "100%|██████████| 300/300 [00:19<00:00, 15.25it/s]\n"
     ]
    },
    {
     "name": "stdout",
     "output_type": "stream",
     "text": [
      "train loss:  32.17517241924704\n",
      " cer:  -1\n",
      " cer:  -1\n",
      "train cer: 0.9985624058638805\n"
     ]
    },
    {
     "name": "stderr",
     "output_type": "stream",
     "text": [
      "100%|██████████| 95/95 [00:03<00:00, 27.74it/s]\n"
     ]
    },
    {
     "name": "stdout",
     "output_type": "stream",
     "text": [
      "val loss:  34.00495115915934\n",
      " cer:  -1\n",
      " cer:  -1\n",
      "val cer: 0.9962747135361343\n",
      "epoch 8\n"
     ]
    },
    {
     "name": "stderr",
     "output_type": "stream",
     "text": [
      "100%|██████████| 300/300 [00:22<00:00, 13.43it/s]\n"
     ]
    },
    {
     "name": "stdout",
     "output_type": "stream",
     "text": [
      "train loss:  29.90938768988828\n",
      "ы cer:  29.0\n",
      " cer:  -1\n",
      "train cer: 0.9986980877614365\n"
     ]
    },
    {
     "name": "stderr",
     "output_type": "stream",
     "text": [
      "100%|██████████| 95/95 [00:03<00:00, 29.38it/s]\n"
     ]
    },
    {
     "name": "stdout",
     "output_type": "stream",
     "text": [
      "val loss:  30.15959777434667\n",
      " cer:  -1\n",
      " cer:  -1\n",
      "val cer: 0.9964136284556784\n",
      "epoch 9\n"
     ]
    },
    {
     "name": "stderr",
     "output_type": "stream",
     "text": [
      "100%|██████████| 300/300 [00:21<00:00, 14.08it/s]\n"
     ]
    },
    {
     "name": "stdout",
     "output_type": "stream",
     "text": [
      "train loss:  29.816037174871198\n",
      " cer:  -1\n",
      "ы cer:  17.0\n",
      "train cer: 0.9982914303413888\n"
     ]
    },
    {
     "name": "stderr",
     "output_type": "stream",
     "text": [
      "100%|██████████| 95/95 [00:03<00:00, 29.81it/s]\n"
     ]
    },
    {
     "name": "stdout",
     "output_type": "stream",
     "text": [
      "val loss:  29.96946366628011\n",
      "ыны cer:  3.6666666666666665\n",
      " cer:  -1\n",
      "val cer: 0.9970315537915942\n",
      "epoch 10\n"
     ]
    },
    {
     "name": "stderr",
     "output_type": "stream",
     "text": [
      "100%|██████████| 300/300 [00:18<00:00, 16.62it/s]\n"
     ]
    },
    {
     "name": "stdout",
     "output_type": "stream",
     "text": [
      "train loss:  28.74168356708514\n",
      " cer:  -1\n",
      " cer:  -1\n",
      "train cer: 0.9977582513000766\n"
     ]
    },
    {
     "name": "stderr",
     "output_type": "stream",
     "text": [
      "100%|██████████| 95/95 [00:02<00:00, 34.98it/s]\n"
     ]
    },
    {
     "name": "stdout",
     "output_type": "stream",
     "text": [
      "val loss:  30.594810237487156\n",
      " cer:  -1\n",
      " cer:  -1\n",
      "val cer: 0.9970063526958469\n",
      "epoch 11\n"
     ]
    },
    {
     "name": "stderr",
     "output_type": "stream",
     "text": [
      "100%|██████████| 300/300 [00:20<00:00, 14.52it/s]\n"
     ]
    },
    {
     "name": "stdout",
     "output_type": "stream",
     "text": [
      "train loss:  28.39635890187615\n",
      "й cer:  13.0\n",
      " cer:  -1\n",
      "train cer: 0.997622124942081\n"
     ]
    },
    {
     "name": "stderr",
     "output_type": "stream",
     "text": [
      "100%|██████████| 95/95 [00:02<00:00, 33.68it/s]\n"
     ]
    },
    {
     "name": "stdout",
     "output_type": "stream",
     "text": [
      "val loss:  31.758056084314983\n",
      " cer:  -1\n",
      "нененй cer:  2.8333333333333335\n",
      "val cer: 0.9964313882226757\n",
      "epoch 12\n"
     ]
    },
    {
     "name": "stderr",
     "output_type": "stream",
     "text": [
      "100%|██████████| 300/300 [00:16<00:00, 18.40it/s]\n"
     ]
    },
    {
     "name": "stdout",
     "output_type": "stream",
     "text": [
      "train loss:  28.48794442553853\n",
      " cer:  -1\n",
      " cer:  -1\n",
      "train cer: 0.9975296188355008\n"
     ]
    },
    {
     "name": "stderr",
     "output_type": "stream",
     "text": [
      "100%|██████████| 95/95 [00:03<00:00, 30.74it/s]\n"
     ]
    },
    {
     "name": "stdout",
     "output_type": "stream",
     "text": [
      "val loss:  31.578257610400517\n",
      " cer:  -1\n",
      "ыйт cer:  8.0\n",
      "val cer: 0.9965551191509616\n",
      "epoch 13\n"
     ]
    },
    {
     "name": "stderr",
     "output_type": "stream",
     "text": [
      "100%|██████████| 300/300 [00:15<00:00, 18.84it/s]\n"
     ]
    },
    {
     "name": "stdout",
     "output_type": "stream",
     "text": [
      "train loss:  26.85703045981271\n",
      "й cer:  15.0\n",
      " cer:  -1\n",
      "train cer: 0.997030124854018\n"
     ]
    },
    {
     "name": "stderr",
     "output_type": "stream",
     "text": [
      "100%|██████████| 95/95 [00:02<00:00, 33.76it/s]\n"
     ]
    },
    {
     "name": "stdout",
     "output_type": "stream",
     "text": [
      "val loss:  30.475503305594128\n",
      "нй cer:  5.5\n",
      "й cer:  11.0\n",
      "val cer: 0.9964019930618805\n",
      "epoch 14\n"
     ]
    },
    {
     "name": "stderr",
     "output_type": "stream",
     "text": [
      "100%|██████████| 300/300 [00:18<00:00, 16.10it/s]\n"
     ]
    },
    {
     "name": "stdout",
     "output_type": "stream",
     "text": [
      "train loss:  26.874986220831886\n",
      " cer:  -1\n",
      " cer:  -1\n",
      "train cer: 0.9957809220584285\n"
     ]
    },
    {
     "name": "stderr",
     "output_type": "stream",
     "text": [
      "100%|██████████| 95/95 [00:02<00:00, 33.55it/s]\n"
     ]
    },
    {
     "name": "stdout",
     "output_type": "stream",
     "text": [
      "val loss:  32.629748483498894\n",
      "й cer:  16.0\n",
      " cer:  -1\n",
      "val cer: 0.9966879091840282\n",
      "epoch 15\n"
     ]
    },
    {
     "name": "stderr",
     "output_type": "stream",
     "text": [
      "100%|██████████| 300/300 [00:17<00:00, 17.50it/s]\n"
     ]
    },
    {
     "name": "stdout",
     "output_type": "stream",
     "text": [
      "train loss:  26.36159988732829\n",
      " cer:  -1\n",
      "ый cer:  7.5\n",
      "train cer: 0.9953856759734331\n"
     ]
    },
    {
     "name": "stderr",
     "output_type": "stream",
     "text": [
      "100%|██████████| 95/95 [00:02<00:00, 33.46it/s]\n"
     ]
    },
    {
     "name": "stdout",
     "output_type": "stream",
     "text": [
      "val loss:  33.936294754346214\n",
      " cer:  -1\n",
      "й cer:  43.0\n",
      "val cer: 0.9952912147121485\n",
      "epoch 16\n"
     ]
    },
    {
     "name": "stderr",
     "output_type": "stream",
     "text": [
      "100%|██████████| 300/300 [00:17<00:00, 16.73it/s]\n"
     ]
    },
    {
     "name": "stdout",
     "output_type": "stream",
     "text": [
      "train loss:  25.38743642002245\n",
      "ний cer:  5.333333333333333\n",
      " cer:  -1\n",
      "train cer: 0.9946348084404372\n"
     ]
    },
    {
     "name": "stderr",
     "output_type": "stream",
     "text": [
      "100%|██████████| 95/95 [00:03<00:00, 30.04it/s]\n"
     ]
    },
    {
     "name": "stdout",
     "output_type": "stream",
     "text": [
      "val loss:  33.10474967956543\n",
      " cer:  -1\n",
      " cer:  -1\n",
      "val cer: 0.9954808601821856\n",
      "epoch 17\n"
     ]
    },
    {
     "name": "stderr",
     "output_type": "stream",
     "text": [
      "100%|██████████| 300/300 [00:19<00:00, 15.77it/s]\n"
     ]
    },
    {
     "name": "stdout",
     "output_type": "stream",
     "text": [
      "train loss:  24.45275806667797\n",
      " cer:  -1\n",
      "ы cer:  21.0\n",
      "train cer: 0.9936402528167319\n"
     ]
    },
    {
     "name": "stderr",
     "output_type": "stream",
     "text": [
      "100%|██████████| 95/95 [00:03<00:00, 28.98it/s]\n"
     ]
    },
    {
     "name": "stdout",
     "output_type": "stream",
     "text": [
      "val loss:  34.34767694274584\n",
      " cer:  -1\n",
      " cer:  -1\n",
      "val cer: 0.9931733018210076\n",
      "epoch 18\n"
     ]
    },
    {
     "name": "stderr",
     "output_type": "stream",
     "text": [
      "100%|██████████| 300/300 [00:18<00:00, 16.37it/s]\n"
     ]
    },
    {
     "name": "stdout",
     "output_type": "stream",
     "text": [
      "train loss:  24.21434295375482\n",
      "ный cer:  4.333333333333333\n",
      " cer:  -1\n",
      "train cer: 0.9928319424337898\n"
     ]
    },
    {
     "name": "stderr",
     "output_type": "stream",
     "text": [
      "100%|██████████| 95/95 [00:02<00:00, 33.46it/s]\n"
     ]
    },
    {
     "name": "stdout",
     "output_type": "stream",
     "text": [
      "val loss:  34.603044172128044\n",
      " cer:  -1\n",
      " cer:  -1\n",
      "val cer: 0.9947345577823623\n",
      "epoch 19\n"
     ]
    },
    {
     "name": "stderr",
     "output_type": "stream",
     "text": [
      "100%|██████████| 300/300 [00:20<00:00, 14.96it/s]\n"
     ]
    },
    {
     "name": "stdout",
     "output_type": "stream",
     "text": [
      "train loss:  23.27812838316756\n",
      "идтн cer:  3.75\n",
      "ксне cer:  3.75\n",
      "train cer: 0.9916871114394781\n"
     ]
    },
    {
     "name": "stderr",
     "output_type": "stream",
     "text": [
      "100%|██████████| 95/95 [00:02<00:00, 32.78it/s]\n"
     ]
    },
    {
     "name": "stdout",
     "output_type": "stream",
     "text": [
      "val loss:  39.81798779964447\n",
      "нисник cer:  6.5\n",
      "н cer:  43.0\n",
      "val cer: 0.9910730837730083\n",
      "epoch 20\n"
     ]
    },
    {
     "name": "stderr",
     "output_type": "stream",
     "text": [
      "100%|██████████| 300/300 [00:18<00:00, 15.80it/s]\n"
     ]
    },
    {
     "name": "stdout",
     "output_type": "stream",
     "text": [
      "train loss:  23.56763848909904\n",
      "ний cer:  4.0\n",
      "кйк cer:  4.0\n",
      "train cer: 0.9909807368834401\n"
     ]
    },
    {
     "name": "stderr",
     "output_type": "stream",
     "text": [
      "100%|██████████| 95/95 [00:03<00:00, 30.94it/s]\n"
     ]
    },
    {
     "name": "stdout",
     "output_type": "stream",
     "text": [
      "val loss:  35.59490322073301\n",
      "ий cer:  18.0\n",
      "ыйниыке cer:  4.714285714285714\n",
      "val cer: 0.9907498580404808\n",
      "epoch 21\n"
     ]
    },
    {
     "name": "stderr",
     "output_type": "stream",
     "text": [
      "100%|██████████| 300/300 [00:15<00:00, 18.86it/s]\n"
     ]
    },
    {
     "name": "stdout",
     "output_type": "stream",
     "text": [
      "train loss:  22.154406595071684\n",
      "ы cer:  14.0\n",
      " cer:  -1\n",
      "train cer: 0.9894328162195374\n"
     ]
    },
    {
     "name": "stderr",
     "output_type": "stream",
     "text": [
      "100%|██████████| 95/95 [00:02<00:00, 33.65it/s]\n"
     ]
    },
    {
     "name": "stdout",
     "output_type": "stream",
     "text": [
      "val loss:  35.73643586039543\n",
      "но cer:  25.5\n",
      "ый cer:  26.0\n",
      "val cer: 0.991531858466793\n",
      "epoch 22\n"
     ]
    },
    {
     "name": "stderr",
     "output_type": "stream",
     "text": [
      "100%|██████████| 300/300 [00:17<00:00, 16.82it/s]\n"
     ]
    },
    {
     "name": "stdout",
     "output_type": "stream",
     "text": [
      "train loss:  21.014831232470137\n",
      "ный cer:  2.6666666666666665\n",
      "ной cer:  3.0\n",
      "train cer: 0.987422086318784\n"
     ]
    },
    {
     "name": "stderr",
     "output_type": "stream",
     "text": [
      "100%|██████████| 95/95 [00:02<00:00, 34.93it/s]\n"
     ]
    },
    {
     "name": "stdout",
     "output_type": "stream",
     "text": [
      "val loss:  36.18725942571958\n",
      " cer:  -1\n",
      "но cer:  7.0\n",
      "val cer: 0.9916628539894179\n",
      "epoch 23\n"
     ]
    },
    {
     "name": "stderr",
     "output_type": "stream",
     "text": [
      "100%|██████████| 300/300 [00:19<00:00, 15.43it/s]\n"
     ]
    },
    {
     "name": "stdout",
     "output_type": "stream",
     "text": [
      "train loss:  19.762089513861063\n",
      "ый cer:  7.0\n",
      " cer:  -1\n",
      "train cer: 0.9864351886927673\n"
     ]
    },
    {
     "name": "stderr",
     "output_type": "stream",
     "text": [
      "100%|██████████| 95/95 [00:02<00:00, 34.64it/s]\n"
     ]
    },
    {
     "name": "stdout",
     "output_type": "stream",
     "text": [
      "val loss:  41.33279465635618\n",
      " cer:  -1\n",
      "ой cer:  5.5\n",
      "val cer: 0.993195361263457\n",
      "epoch 24\n"
     ]
    },
    {
     "name": "stderr",
     "output_type": "stream",
     "text": [
      "100%|██████████| 300/300 [00:17<00:00, 17.39it/s]\n"
     ]
    },
    {
     "name": "stdout",
     "output_type": "stream",
     "text": [
      "train loss:  19.239734855601164\n",
      "ни cer:  8.5\n",
      " cer:  -1\n",
      "train cer: 0.9857024644003836\n"
     ]
    },
    {
     "name": "stderr",
     "output_type": "stream",
     "text": [
      "100%|██████████| 95/95 [00:02<00:00, 36.55it/s]\n"
     ]
    },
    {
     "name": "stdout",
     "output_type": "stream",
     "text": [
      "val loss:  36.8529066046079\n",
      "и cer:  19.0\n",
      " cer:  -1\n",
      "val cer: 0.9938463129213898\n",
      "epoch 25\n"
     ]
    },
    {
     "name": "stderr",
     "output_type": "stream",
     "text": [
      "100%|██████████| 300/300 [00:15<00:00, 19.12it/s]\n"
     ]
    },
    {
     "name": "stdout",
     "output_type": "stream",
     "text": [
      "train loss:  19.034382582502904\n",
      "ут cer:  6.5\n",
      "ной cer:  4.666666666666667\n",
      "train cer: 0.9841746559908013\n"
     ]
    },
    {
     "name": "stderr",
     "output_type": "stream",
     "text": [
      "100%|██████████| 95/95 [00:02<00:00, 35.47it/s]\n"
     ]
    },
    {
     "name": "stdout",
     "output_type": "stream",
     "text": [
      "val loss:  40.51250931620598\n",
      " cer:  -1\n",
      "ний cer:  7.333333333333333\n",
      "val cer: 0.9916862487579823\n",
      "epoch 26\n"
     ]
    },
    {
     "name": "stderr",
     "output_type": "stream",
     "text": [
      "100%|██████████| 300/300 [00:16<00:00, 18.51it/s]\n"
     ]
    },
    {
     "name": "stdout",
     "output_type": "stream",
     "text": [
      "train loss:  17.430103726561285\n",
      "на cer:  6.0\n",
      "с cer:  13.0\n",
      "train cer: 0.9822322993591027\n"
     ]
    },
    {
     "name": "stderr",
     "output_type": "stream",
     "text": [
      "100%|██████████| 95/95 [00:02<00:00, 33.40it/s]\n"
     ]
    },
    {
     "name": "stdout",
     "output_type": "stream",
     "text": [
      "val loss:  40.603281170129776\n",
      "оио cer:  8.333333333333334\n",
      "еткйрьрь cer:  2.75\n",
      "val cer: 0.9904440319235271\n",
      "epoch 27\n"
     ]
    },
    {
     "name": "stderr",
     "output_type": "stream",
     "text": [
      "100%|██████████| 300/300 [00:19<00:00, 15.53it/s]\n"
     ]
    },
    {
     "name": "stdout",
     "output_type": "stream",
     "text": [
      "train loss:  15.877295776063026\n",
      "ой cer:  7.5\n",
      "нкй cer:  5.0\n",
      "train cer: 0.9792233923143135\n"
     ]
    },
    {
     "name": "stderr",
     "output_type": "stream",
     "text": [
      "100%|██████████| 95/95 [00:02<00:00, 32.76it/s]\n"
     ]
    },
    {
     "name": "stdout",
     "output_type": "stream",
     "text": [
      "val loss:  42.003540913263954\n",
      "ныдтнйо cer:  1.4285714285714286\n",
      "нойдеый cer:  1.4285714285714286\n",
      "val cer: 0.9876017712889913\n",
      "epoch 28\n"
     ]
    },
    {
     "name": "stderr",
     "output_type": "stream",
     "text": [
      "100%|██████████| 300/300 [00:20<00:00, 14.63it/s]\n"
     ]
    },
    {
     "name": "stdout",
     "output_type": "stream",
     "text": [
      "train loss:  14.738621905000503\n",
      "й cer:  10.0\n",
      "ныйоедына cer:  1.1111111111111112\n",
      "train cer: 0.9767514400982217\n"
     ]
    },
    {
     "name": "stderr",
     "output_type": "stream",
     "text": [
      "100%|██████████| 95/95 [00:02<00:00, 35.00it/s]\n"
     ]
    },
    {
     "name": "stdout",
     "output_type": "stream",
     "text": [
      "val loss:  44.15079296628634\n",
      "ий cer:  8.0\n",
      "ый cer:  7.5\n",
      "val cer: 0.9887981026237969\n",
      "epoch 29\n"
     ]
    },
    {
     "name": "stderr",
     "output_type": "stream",
     "text": [
      "100%|██████████| 300/300 [00:17<00:00, 17.21it/s]\n"
     ]
    },
    {
     "name": "stdout",
     "output_type": "stream",
     "text": [
      "train loss:  13.66989833096729\n",
      "об cer:  2.5\n",
      "неяв cer:  1.75\n",
      "train cer: 0.9723636876436278\n"
     ]
    },
    {
     "name": "stderr",
     "output_type": "stream",
     "text": [
      "100%|██████████| 95/95 [00:02<00:00, 32.88it/s]\n"
     ]
    },
    {
     "name": "stdout",
     "output_type": "stream",
     "text": [
      "val loss:  46.21714230378469\n",
      " cer:  -1\n",
      "ней cer:  15.0\n",
      "val cer: 0.9852653429638956\n",
      "epoch 30\n"
     ]
    },
    {
     "name": "stderr",
     "output_type": "stream",
     "text": [
      "100%|██████████| 300/300 [00:17<00:00, 17.38it/s]\n"
     ]
    },
    {
     "name": "stdout",
     "output_type": "stream",
     "text": [
      "train loss:  12.470830845278362\n",
      "дадене cer:  0.3333333333333333\n",
      "дыки cer:  1.75\n",
      "train cer: 0.9697281799369997\n"
     ]
    },
    {
     "name": "stderr",
     "output_type": "stream",
     "text": [
      "100%|██████████| 95/95 [00:02<00:00, 32.21it/s]\n"
     ]
    },
    {
     "name": "stdout",
     "output_type": "stream",
     "text": [
      "val loss:  48.084376871585846\n",
      "кыйзогановусвекяо cer:  1.5294117647058822\n",
      "онайойтнонойо cer:  2.1538461538461537\n",
      "val cer: 0.9819430089518892\n",
      "epoch 31\n"
     ]
    },
    {
     "name": "stderr",
     "output_type": "stream",
     "text": [
      "100%|██████████| 300/300 [00:18<00:00, 16.31it/s]\n"
     ]
    },
    {
     "name": "stdout",
     "output_type": "stream",
     "text": [
      "train loss:  11.3257595431369\n",
      "ладе cer:  1.0\n",
      "сыйеи cer:  1.4\n",
      "train cer: 0.9652866555763453\n"
     ]
    },
    {
     "name": "stderr",
     "output_type": "stream",
     "text": [
      "100%|██████████| 95/95 [00:03<00:00, 30.83it/s]\n"
     ]
    },
    {
     "name": "stdout",
     "output_type": "stream",
     "text": [
      "val loss:  51.80833645661672\n",
      "по cer:  4.0\n",
      "оымл cer:  2.0\n",
      "val cer: 0.9831496374151046\n",
      "epoch 32\n"
     ]
    },
    {
     "name": "stderr",
     "output_type": "stream",
     "text": [
      "100%|██████████| 300/300 [00:20<00:00, 14.77it/s]\n"
     ]
    },
    {
     "name": "stdout",
     "output_type": "stream",
     "text": [
      "train loss:  10.466642801943808\n",
      "киултетс cer:  1.25\n",
      "оаоао cer:  3.2\n",
      "train cer: 0.9607404418896556\n"
     ]
    },
    {
     "name": "stderr",
     "output_type": "stream",
     "text": [
      "100%|██████████| 95/95 [00:02<00:00, 37.69it/s]\n"
     ]
    },
    {
     "name": "stdout",
     "output_type": "stream",
     "text": [
      "val loss:  52.89137836297353\n",
      "омвокйно cer:  6.125\n",
      "оийп cer:  12.5\n",
      "val cer: 0.981432221876057\n",
      "epoch 33\n"
     ]
    },
    {
     "name": "stderr",
     "output_type": "stream",
     "text": [
      "100%|██████████| 300/300 [00:20<00:00, 14.43it/s]\n"
     ]
    },
    {
     "name": "stdout",
     "output_type": "stream",
     "text": [
      "train loss:  9.535773667782248\n",
      "вийп cer:  2.5\n",
      "свыяи cer:  2.2\n",
      "train cer: 0.9571380405736407\n"
     ]
    },
    {
     "name": "stderr",
     "output_type": "stream",
     "text": [
      "100%|██████████| 95/95 [00:02<00:00, 33.67it/s]\n"
     ]
    },
    {
     "name": "stdout",
     "output_type": "stream",
     "text": [
      "val loss:  63.96228208144506\n",
      "аснавонони cer:  3.2\n",
      "еоыйнойво cer:  3.5555555555555554\n",
      "val cer: 0.9840751369804107\n",
      "epoch 34\n"
     ]
    },
    {
     "name": "stderr",
     "output_type": "stream",
     "text": [
      "100%|██████████| 300/300 [00:17<00:00, 16.97it/s]\n"
     ]
    },
    {
     "name": "stdout",
     "output_type": "stream",
     "text": [
      "train loss:  8.5701658084147\n",
      "выйсогоый cer:  2.111111111111111\n",
      "морано cer:  3.5\n",
      "train cer: 0.9514606058847619\n"
     ]
    },
    {
     "name": "stderr",
     "output_type": "stream",
     "text": [
      "100%|██████████| 95/95 [00:02<00:00, 34.47it/s]\n"
     ]
    },
    {
     "name": "stdout",
     "output_type": "stream",
     "text": [
      "val loss:  61.33058828115463\n",
      "ныйоыосо cer:  4.125\n",
      "нийаг cer:  7.0\n",
      "val cer: 0.9803285658002319\n",
      "epoch 35\n"
     ]
    },
    {
     "name": "stderr",
     "output_type": "stream",
     "text": [
      "100%|██████████| 300/300 [00:17<00:00, 16.84it/s]\n"
     ]
    },
    {
     "name": "stdout",
     "output_type": "stream",
     "text": [
      "train loss:  7.610910165745555\n",
      "темболо cer:  1.7142857142857142\n",
      "оли cer:  5.333333333333333\n",
      "train cer: 0.9470150243463752\n"
     ]
    },
    {
     "name": "stderr",
     "output_type": "stream",
     "text": [
      "100%|██████████| 95/95 [00:03<00:00, 31.51it/s]\n"
     ]
    },
    {
     "name": "stdout",
     "output_type": "stream",
     "text": [
      "val loss:  62.61534023284912\n",
      "срапнастойомозани cer:  1.3529411764705883\n",
      "ланайго cer:  4.0\n",
      "val cer: 0.9786209892636009\n",
      "epoch 36\n"
     ]
    },
    {
     "name": "stderr",
     "output_type": "stream",
     "text": [
      "100%|██████████| 300/300 [00:19<00:00, 15.74it/s]\n"
     ]
    },
    {
     "name": "stdout",
     "output_type": "stream",
     "text": [
      "train loss:  6.920251512844301\n",
      "оьдоа cer:  1.2\n",
      "ьныйша cer:  1.5\n",
      "train cer: 0.9413595382691143\n"
     ]
    },
    {
     "name": "stderr",
     "output_type": "stream",
     "text": [
      "100%|██████████| 95/95 [00:03<00:00, 31.51it/s]\n"
     ]
    },
    {
     "name": "stdout",
     "output_type": "stream",
     "text": [
      "val loss:  74.18512366215388\n",
      "ийоб cer:  2.0\n",
      "оаваяпевекисрзкаь cer:  0.8823529411764706\n",
      "val cer: 0.980644264083864\n",
      "epoch 37\n"
     ]
    },
    {
     "name": "stderr",
     "output_type": "stream",
     "text": [
      "100%|██████████| 300/300 [00:19<00:00, 15.30it/s]\n"
     ]
    },
    {
     "name": "stdout",
     "output_type": "stream",
     "text": [
      "train loss:  6.09135665331172\n",
      "ючодоа cer:  1.3333333333333333\n",
      "аеаолнуйа cer:  1.2222222222222223\n",
      "train cer: 0.9352101652359083\n"
     ]
    },
    {
     "name": "stderr",
     "output_type": "stream",
     "text": [
      "100%|██████████| 95/95 [00:03<00:00, 31.62it/s]\n"
     ]
    },
    {
     "name": "stdout",
     "output_type": "stream",
     "text": [
      "val loss:  79.39844920237859\n",
      "нйяо cer:  5.5\n",
      "аяоинку cer:  3.2857142857142856\n",
      "val cer: 0.9792097047838719\n",
      "epoch 38\n"
     ]
    },
    {
     "name": "stderr",
     "output_type": "stream",
     "text": [
      "100%|██████████| 300/300 [00:20<00:00, 14.95it/s]\n"
     ]
    },
    {
     "name": "stdout",
     "output_type": "stream",
     "text": [
      "train loss:  5.399423858256039\n",
      "отчный cer:  0.5\n",
      "уроео cer:  1.8\n",
      "train cer: 0.9294429445008895\n"
     ]
    },
    {
     "name": "stderr",
     "output_type": "stream",
     "text": [
      "100%|██████████| 95/95 [00:02<00:00, 34.62it/s]\n"
     ]
    },
    {
     "name": "stdout",
     "output_type": "stream",
     "text": [
      "val loss:  86.83522190650304\n",
      "ской cer:  7.25\n",
      "есноанойовеьий cer:  1.8571428571428572\n",
      "val cer: 0.9768512508167994\n",
      "epoch 39\n"
     ]
    },
    {
     "name": "stderr",
     "output_type": "stream",
     "text": [
      "100%|██████████| 300/300 [00:18<00:00, 16.14it/s]\n"
     ]
    },
    {
     "name": "stdout",
     "output_type": "stream",
     "text": [
      "train loss:  4.9466025979811965\n",
      "емгивузд cer:  0.875\n",
      "еасус cer:  2.0\n",
      "train cer: 0.9240476796828985\n"
     ]
    },
    {
     "name": "stderr",
     "output_type": "stream",
     "text": [
      "100%|██████████| 95/95 [00:02<00:00, 32.14it/s]\n"
     ]
    },
    {
     "name": "stdout",
     "output_type": "stream",
     "text": [
      "val loss:  102.65949726104736\n",
      "вейдвененася cer:  1.6666666666666667\n",
      "пвеое cer:  4.0\n",
      "val cer: 0.9786684246252261\n",
      "epoch 40\n"
     ]
    },
    {
     "name": "stderr",
     "output_type": "stream",
     "text": [
      "100%|██████████| 300/300 [00:17<00:00, 16.74it/s]\n"
     ]
    },
    {
     "name": "stdout",
     "output_type": "stream",
     "text": [
      "train loss:  4.364001395694441\n",
      "севопиряпоког cer:  1.1538461538461537\n",
      "поаяаяениоеныйоен cer:  1.0\n",
      "train cer: 0.9185641052379478\n"
     ]
    },
    {
     "name": "stderr",
     "output_type": "stream",
     "text": [
      "100%|██████████| 95/95 [00:02<00:00, 33.53it/s]\n"
     ]
    },
    {
     "name": "stdout",
     "output_type": "stream",
     "text": [
      "val loss:  114.14967852830887\n",
      "ова cer:  5.666666666666667\n",
      "неореотойоа cer:  1.3636363636363635\n",
      "val cer: 0.9763663326346221\n",
      "epoch 41\n"
     ]
    },
    {
     "name": "stderr",
     "output_type": "stream",
     "text": [
      "100%|██████████| 300/300 [00:18<00:00, 16.66it/s]\n"
     ]
    },
    {
     "name": "stdout",
     "output_type": "stream",
     "text": [
      "train loss:  3.885341897359322\n",
      "неяжиеспоть cer:  1.2727272727272727\n",
      "музей cer:  4.4\n",
      "train cer: 0.9132512202557144\n"
     ]
    },
    {
     "name": "stderr",
     "output_type": "stream",
     "text": [
      "100%|██████████| 95/95 [00:02<00:00, 34.80it/s]\n"
     ]
    },
    {
     "name": "stdout",
     "output_type": "stream",
     "text": [
      "val loss:  119.7450426419576\n",
      "оеной cer:  4.8\n",
      "принамойви cer:  2.4\n",
      "val cer: 0.9716366309751794\n",
      "epoch 42\n"
     ]
    },
    {
     "name": "stderr",
     "output_type": "stream",
     "text": [
      "100%|██████████| 300/300 [00:15<00:00, 18.92it/s]\n"
     ]
    },
    {
     "name": "stdout",
     "output_type": "stream",
     "text": [
      "train loss:  3.4621682301708234\n",
      "накавочеиястеа cer:  1.2142857142857142\n",
      "огаини cer:  4.0\n",
      "train cer: 0.9070730817170478\n"
     ]
    },
    {
     "name": "stderr",
     "output_type": "stream",
     "text": [
      "100%|██████████| 95/95 [00:02<00:00, 32.90it/s]\n"
     ]
    },
    {
     "name": "stdout",
     "output_type": "stream",
     "text": [
      "val loss:  142.4353078007698\n",
      "ужниочшио cer:  1.6666666666666667\n",
      "меонопе cer:  2.0\n",
      "val cer: 0.9751317292036851\n",
      "epoch 43\n"
     ]
    },
    {
     "name": "stderr",
     "output_type": "stream",
     "text": [
      "100%|██████████| 300/300 [00:21<00:00, 13.78it/s]\n"
     ]
    },
    {
     "name": "stdout",
     "output_type": "stream",
     "text": [
      "train loss:  3.1193097021888656\n",
      "прываяеседа cer:  0.5454545454545454\n",
      "темаик cer:  2.3333333333333335\n",
      "train cer: 0.9009856649509362\n"
     ]
    },
    {
     "name": "stderr",
     "output_type": "stream",
     "text": [
      "100%|██████████| 95/95 [00:02<00:00, 33.70it/s]\n"
     ]
    },
    {
     "name": "stdout",
     "output_type": "stream",
     "text": [
      "val loss:  142.99337540070215\n",
      "ово cer:  3.3333333333333335\n",
      "сеоыценойвор cer:  0.9166666666666666\n",
      "val cer: 0.9748946065800135\n",
      "epoch 44\n"
     ]
    },
    {
     "name": "stderr",
     "output_type": "stream",
     "text": [
      "100%|██████████| 300/300 [00:19<00:00, 15.19it/s]\n"
     ]
    },
    {
     "name": "stdout",
     "output_type": "stream",
     "text": [
      "train loss:  2.9030555609452766\n",
      "прячусзасол cer:  0.36363636363636365\n",
      "найдёшь cer:  2.0\n",
      "train cer: 0.8987637532804365\n"
     ]
    },
    {
     "name": "stderr",
     "output_type": "stream",
     "text": [
      "100%|██████████| 95/95 [00:02<00:00, 32.29it/s]\n"
     ]
    },
    {
     "name": "stdout",
     "output_type": "stream",
     "text": [
      "val loss:  155.3920315504074\n",
      "остийп cer:  4.833333333333333\n",
      "салсасо cer:  4.428571428571429\n",
      "val cer: 0.9706275022702703\n",
      "epoch 45\n"
     ]
    },
    {
     "name": "stderr",
     "output_type": "stream",
     "text": [
      "100%|██████████| 300/300 [00:17<00:00, 16.69it/s]\n"
     ]
    },
    {
     "name": "stdout",
     "output_type": "stream",
     "text": [
      "train loss:  2.6496680178911585\n",
      "содежаи cer:  0.42857142857142855\n",
      "жвописныйзак cer:  0.9166666666666666\n",
      "train cer: 0.8938993115987862\n"
     ]
    },
    {
     "name": "stderr",
     "output_type": "stream",
     "text": [
      "100%|██████████| 95/95 [00:02<00:00, 32.90it/s]\n"
     ]
    },
    {
     "name": "stdout",
     "output_type": "stream",
     "text": [
      "val loss:  208.54002408186594\n",
      "ныгжитая cer:  2.375\n",
      "коснопзс cer:  2.25\n",
      "val cer: 0.9746883471324578\n",
      "epoch 46\n"
     ]
    },
    {
     "name": "stderr",
     "output_type": "stream",
     "text": [
      "100%|██████████| 300/300 [00:20<00:00, 14.93it/s]\n"
     ]
    },
    {
     "name": "stdout",
     "output_type": "stream",
     "text": [
      "train loss:  2.5251668889657206\n",
      "громкийсме cer:  0.1\n",
      "заберешьменясуче cer:  0.8125\n",
      "train cer: 0.8919365585592232\n"
     ]
    },
    {
     "name": "stderr",
     "output_type": "stream",
     "text": [
      "100%|██████████| 95/95 [00:02<00:00, 36.00it/s]\n"
     ]
    },
    {
     "name": "stdout",
     "output_type": "stream",
     "text": [
      "val loss:  218.3677176038424\n",
      "реоаыйцено cer:  1.1\n",
      "уатваут cer:  1.7142857142857142\n",
      "val cer: 0.9687046280050782\n",
      "epoch 47\n"
     ]
    },
    {
     "name": "stderr",
     "output_type": "stream",
     "text": [
      "100%|██████████| 300/300 [00:21<00:00, 14.06it/s]\n"
     ]
    },
    {
     "name": "stdout",
     "output_type": "stream",
     "text": [
      "train loss:  2.357273646763393\n",
      "зикасликоможня cer:  0.42857142857142855\n",
      "глубокийвдо cer:  1.6363636363636365\n",
      "train cer: 0.8880402736334613\n"
     ]
    },
    {
     "name": "stderr",
     "output_type": "stream",
     "text": [
      "100%|██████████| 95/95 [00:02<00:00, 35.50it/s]\n"
     ]
    },
    {
     "name": "stdout",
     "output_type": "stream",
     "text": [
      "val loss:  205.13863126436868\n",
      "вуоигтоенойок cer:  0.8461538461538461\n",
      "паывет cer:  1.5\n",
      "val cer: 0.9706425115800313\n",
      "epoch 48\n"
     ]
    },
    {
     "name": "stderr",
     "output_type": "stream",
     "text": [
      "100%|██████████| 300/300 [00:20<00:00, 14.59it/s]\n"
     ]
    },
    {
     "name": "stdout",
     "output_type": "stream",
     "text": [
      "train loss:  2.103446699060079\n",
      "этобаза cer:  0.0\n",
      "перасныйцветок cer:  1.0\n",
      "train cer: 0.8826138773131516\n"
     ]
    },
    {
     "name": "stderr",
     "output_type": "stream",
     "text": [
      "100%|██████████| 95/95 [00:02<00:00, 35.09it/s]\n"
     ]
    },
    {
     "name": "stdout",
     "output_type": "stream",
     "text": [
      "val loss:  278.15390719970065\n",
      "гкыйчовтлиайасасюое cer:  1.6842105263157894\n",
      "аоасакаужо cer:  3.2\n",
      "val cer: 0.9719280318249782\n",
      "epoch 49\n"
     ]
    },
    {
     "name": "stderr",
     "output_type": "stream",
     "text": [
      "100%|██████████| 300/300 [00:18<00:00, 16.57it/s]\n"
     ]
    },
    {
     "name": "stdout",
     "output_type": "stream",
     "text": [
      "train loss:  1.9359412355676442\n",
      "моёплатье cer:  0.0\n",
      "беныйолень cer:  0.9\n",
      "train cer: 0.879302328471876\n"
     ]
    },
    {
     "name": "stderr",
     "output_type": "stream",
     "text": [
      "100%|██████████| 95/95 [00:02<00:00, 35.27it/s]\n"
     ]
    },
    {
     "name": "stdout",
     "output_type": "stream",
     "text": [
      "val loss:  312.4434231519699\n",
      "якти cer:  9.25\n",
      "вейвоаненео cer:  3.090909090909091\n",
      "val cer: 0.9738955407990093\n",
      "epoch 50\n"
     ]
    },
    {
     "name": "stderr",
     "output_type": "stream",
     "text": [
      "100%|██████████| 300/300 [00:19<00:00, 15.40it/s]\n"
     ]
    },
    {
     "name": "stdout",
     "output_type": "stream",
     "text": [
      "train loss:  1.7794957529270767\n",
      "руяныйотмороза cer:  0.07142857142857142\n",
      "ебнокигаетмячмапля cer:  0.8888888888888888\n",
      "train cer: 0.8738507317298913\n"
     ]
    },
    {
     "name": "stderr",
     "output_type": "stream",
     "text": [
      "100%|██████████| 95/95 [00:03<00:00, 28.75it/s]\n"
     ]
    },
    {
     "name": "stdout",
     "output_type": "stream",
     "text": [
      "val loss:  318.8768491744995\n",
      "тнот cer:  6.0\n",
      "осюиямийнодвявдвноврпсгныт cer:  0.8846153846153846\n",
      "val cer: 0.9719282081448192\n",
      "epoch 51\n"
     ]
    },
    {
     "name": "stderr",
     "output_type": "stream",
     "text": [
      "100%|██████████| 300/300 [00:17<00:00, 17.36it/s]\n"
     ]
    },
    {
     "name": "stdout",
     "output_type": "stream",
     "text": [
      "train loss:  1.6523339114711926\n",
      "сосновыйбор cer:  0.0\n",
      "семительныйпок cer:  0.7142857142857143\n",
      "train cer: 0.8704027516076862\n"
     ]
    },
    {
     "name": "stderr",
     "output_type": "stream",
     "text": [
      "100%|██████████| 95/95 [00:02<00:00, 32.33it/s]\n"
     ]
    },
    {
     "name": "stdout",
     "output_type": "stream",
     "text": [
      "val loss:  383.32927042245865\n",
      "обретыйом cer:  0.8888888888888888\n",
      "тып cer:  3.0\n",
      "val cer: 0.9706063382027377\n",
      "epoch 52\n"
     ]
    },
    {
     "name": "stderr",
     "output_type": "stream",
     "text": [
      "100%|██████████| 300/300 [00:18<00:00, 16.13it/s]\n"
     ]
    },
    {
     "name": "stdout",
     "output_type": "stream",
     "text": [
      "train loss:  1.5707570619361346\n",
      "солонцеодилсьагорон cer:  0.42105263157894735\n",
      "густойпар cer:  2.2222222222222223\n",
      "train cer: 0.8689691585027494\n"
     ]
    },
    {
     "name": "stderr",
     "output_type": "stream",
     "text": [
      "100%|██████████| 95/95 [00:02<00:00, 35.16it/s]\n"
     ]
    },
    {
     "name": "stdout",
     "output_type": "stream",
     "text": [
      "val loss:  443.27358164389926\n",
      "пвоби cer:  4.0\n",
      "грогдгдегра cer:  1.4545454545454546\n",
      "val cer: 0.9700272406659121\n",
      "epoch 53\n"
     ]
    },
    {
     "name": "stderr",
     "output_type": "stream",
     "text": [
      "100%|██████████| 300/300 [00:18<00:00, 16.27it/s]\n"
     ]
    },
    {
     "name": "stdout",
     "output_type": "stream",
     "text": [
      "train loss:  1.50639618710426\n",
      "круглаяшлянаголове cer:  0.1111111111111111\n",
      "громкийсме cer:  1.8\n",
      "train cer: 0.8656587740432456\n"
     ]
    },
    {
     "name": "stderr",
     "output_type": "stream",
     "text": [
      "100%|██████████| 95/95 [00:02<00:00, 34.69it/s]\n"
     ]
    },
    {
     "name": "stdout",
     "output_type": "stream",
     "text": [
      "val loss:  520.5139126181602\n",
      "ыйоран cer:  1.5\n",
      "ненворнойке cer:  0.9090909090909091\n",
      "val cer: 0.9715816367572939\n",
      "epoch 54\n"
     ]
    },
    {
     "name": "stderr",
     "output_type": "stream",
     "text": [
      "100%|██████████| 300/300 [00:17<00:00, 17.48it/s]\n"
     ]
    },
    {
     "name": "stdout",
     "output_type": "stream",
     "text": [
      "train loss:  1.4451942130972777\n",
      "оернутьсяназад cer:  0.07142857142857142\n",
      "тхийзвукручя cer:  1.25\n",
      "train cer: 0.8646201062109825\n"
     ]
    },
    {
     "name": "stderr",
     "output_type": "stream",
     "text": [
      "100%|██████████| 95/95 [00:02<00:00, 34.30it/s]\n"
     ]
    },
    {
     "name": "stdout",
     "output_type": "stream",
     "text": [
      "val loss:  578.5735919674238\n",
      "пар cer:  3.3333333333333335\n",
      "расивастстксойнамумуоийзацнае cer:  0.9310344827586207\n",
      "val cer: 0.9703196490718742\n",
      "epoch 55\n"
     ]
    },
    {
     "name": "stderr",
     "output_type": "stream",
     "text": [
      "100%|██████████| 300/300 [00:17<00:00, 17.59it/s]\n"
     ]
    },
    {
     "name": "stdout",
     "output_type": "stream",
     "text": [
      "train loss:  1.4346037608048448\n",
      "пособсказать cer:  0.08333333333333333\n",
      "чениеветанеучениет cer:  0.9444444444444444\n",
      "train cer: 0.8630928035735186\n"
     ]
    },
    {
     "name": "stderr",
     "output_type": "stream",
     "text": [
      "100%|██████████| 95/95 [00:02<00:00, 34.75it/s]\n"
     ]
    },
    {
     "name": "stdout",
     "output_type": "stream",
     "text": [
      "val loss:  683.5136830409368\n",
      "кмавистет cer:  1.3333333333333333\n",
      "квобойи cer:  1.5714285714285714\n",
      "val cer: 0.9705938632433803\n",
      "epoch 56\n"
     ]
    },
    {
     "name": "stderr",
     "output_type": "stream",
     "text": [
      "100%|██████████| 300/300 [00:17<00:00, 17.54it/s]\n"
     ]
    },
    {
     "name": "stdout",
     "output_type": "stream",
     "text": [
      "train loss:  1.4037203353108758\n",
      "облилвдойруско cer:  0.2857142857142857\n",
      "садкийшоколад cer:  1.2307692307692308\n",
      "train cer: 0.8624922005648413\n"
     ]
    },
    {
     "name": "stderr",
     "output_type": "stream",
     "text": [
      "100%|██████████| 95/95 [00:02<00:00, 33.98it/s]\n"
     ]
    },
    {
     "name": "stdout",
     "output_type": "stream",
     "text": [
      "val loss:  909.4347035090128\n",
      "навтрвеотенкереяенореяруо cer:  1.52\n",
      "стылясток cer:  4.333333333333333\n",
      "val cer: 0.9724389579295815\n",
      "epoch 57\n"
     ]
    },
    {
     "name": "stderr",
     "output_type": "stream",
     "text": [
      "100%|██████████| 300/300 [00:19<00:00, 15.11it/s]\n"
     ]
    },
    {
     "name": "stdout",
     "output_type": "stream",
     "text": [
      "train loss:  1.3588634432352262\n",
      "вызовитемнетаксипожалус cer:  0.13043478260869565\n",
      "сладкиефрукт cer:  1.8333333333333333\n",
      "train cer: 0.8610138056740264\n"
     ]
    },
    {
     "name": "stderr",
     "output_type": "stream",
     "text": [
      "100%|██████████| 95/95 [00:02<00:00, 34.69it/s]\n"
     ]
    },
    {
     "name": "stdout",
     "output_type": "stream",
     "text": [
      "val loss:  814.5884650945663\n",
      "кияуонойкедибгеьокрникренкестин cer:  1.1612903225806452\n",
      "гуыйорелупоб cer:  3.0833333333333335\n",
      "val cer: 0.9681964385947849\n",
      "epoch 58\n"
     ]
    },
    {
     "name": "stderr",
     "output_type": "stream",
     "text": [
      "100%|██████████| 300/300 [00:19<00:00, 15.52it/s]\n"
     ]
    },
    {
     "name": "stdout",
     "output_type": "stream",
     "text": [
      "train loss:  1.31547931737678\n",
      "хочешьпосмотретьсера cer:  0.15\n",
      "начальствовызывает cer:  1.0\n",
      "train cer: 0.8589989373039014\n"
     ]
    },
    {
     "name": "stderr",
     "output_type": "stream",
     "text": [
      "100%|██████████| 95/95 [00:02<00:00, 32.05it/s]\n"
     ]
    },
    {
     "name": "stdout",
     "output_type": "stream",
     "text": [
      "val loss:  991.2477335532507\n",
      "аикнкалв cer:  1.875\n",
      "ныийороровюарачкорене cer:  0.8095238095238095\n",
      "val cer: 0.9680616898852135\n",
      "epoch 59\n"
     ]
    },
    {
     "name": "stderr",
     "output_type": "stream",
     "text": [
      "100%|██████████| 300/300 [00:18<00:00, 16.41it/s]\n"
     ]
    },
    {
     "name": "stdout",
     "output_type": "stream",
     "text": [
      "train loss:  1.2761238072797705\n",
      "прячусьзастоло cer:  0.07142857142857142\n",
      "мыбыхотелипозавтрать cer:  0.85\n",
      "train cer: 0.8573175558466907\n"
     ]
    },
    {
     "name": "stderr",
     "output_type": "stream",
     "text": [
      "100%|██████████| 95/95 [00:02<00:00, 33.59it/s]\n"
     ]
    },
    {
     "name": "stdout",
     "output_type": "stream",
     "text": [
      "val loss:  1021.8401963909467\n",
      "ост cer:  3.6666666666666665\n",
      "аб cer:  6.0\n",
      "val cer: 0.9717385209927061\n",
      "epoch 60\n"
     ]
    },
    {
     "name": "stderr",
     "output_type": "stream",
     "text": [
      "100%|██████████| 300/300 [00:19<00:00, 15.02it/s]\n"
     ]
    },
    {
     "name": "stdout",
     "output_type": "stream",
     "text": [
      "train loss:  1.248555295095095\n",
      "транспорт cer:  0.0\n",
      "назаднемсидени cer:  0.7857142857142857\n",
      "train cer: 0.8569596355583067\n"
     ]
    },
    {
     "name": "stderr",
     "output_type": "stream",
     "text": [
      "100%|██████████| 95/95 [00:03<00:00, 31.00it/s]\n"
     ]
    },
    {
     "name": "stdout",
     "output_type": "stream",
     "text": [
      "val loss:  1767.2087238033612\n",
      "итныйобви cer:  0.7777777777777778\n",
      "режовсесыйценойвомвомр cer:  0.8181818181818182\n",
      "val cer: 0.9668151559635241\n",
      "epoch 61\n"
     ]
    },
    {
     "name": "stderr",
     "output_type": "stream",
     "text": [
      "100%|██████████| 300/300 [00:20<00:00, 14.63it/s]\n"
     ]
    },
    {
     "name": "stdout",
     "output_type": "stream",
     "text": [
      "train loss:  1.2228437230436509\n",
      "этобаза cer:  0.0\n",
      "послеполуденоесолнце cer:  0.95\n",
      "train cer: 0.8551099237498689\n"
     ]
    },
    {
     "name": "stderr",
     "output_type": "stream",
     "text": [
      "100%|██████████| 95/95 [00:02<00:00, 35.57it/s]\n"
     ]
    },
    {
     "name": "stdout",
     "output_type": "stream",
     "text": [
      "val loss:  1366.7602230707805\n",
      "пвгобйи cer:  2.7142857142857144\n",
      "буситыйор cer:  2.111111111111111\n",
      "val cer: 0.97102207632086\n",
      "epoch 62\n"
     ]
    },
    {
     "name": "stderr",
     "output_type": "stream",
     "text": [
      "100%|██████████| 300/300 [00:18<00:00, 16.02it/s]\n"
     ]
    },
    {
     "name": "stdout",
     "output_type": "stream",
     "text": [
      "train loss:  1.2044627650631623\n",
      "почемувсетаксложно cer:  0.0\n",
      "рабтанадошибкамиключкуспеу cer:  0.9230769230769231\n",
      "train cer: 0.8554981176520958\n"
     ]
    },
    {
     "name": "stderr",
     "output_type": "stream",
     "text": [
      "100%|██████████| 95/95 [00:03<00:00, 29.75it/s]\n"
     ]
    },
    {
     "name": "stdout",
     "output_type": "stream",
     "text": [
      "val loss:  1413.4089060823123\n",
      "среоврсыйсенойомор cer:  0.7222222222222222\n",
      "поб cer:  4.0\n",
      "val cer: 0.9703199261164638\n",
      "epoch 63\n"
     ]
    },
    {
     "name": "stderr",
     "output_type": "stream",
     "text": [
      "100%|██████████| 300/300 [00:19<00:00, 15.31it/s]\n"
     ]
    },
    {
     "name": "stdout",
     "output_type": "stream",
     "text": [
      "train loss:  1.1911197211655271\n",
      "яегораскусил cer:  0.0\n",
      "румяныйотмороза cer:  0.9333333333333333\n",
      "train cer: 0.8550298987970092\n"
     ]
    },
    {
     "name": "stderr",
     "output_type": "stream",
     "text": [
      "100%|██████████| 95/95 [00:02<00:00, 33.54it/s]\n"
     ]
    },
    {
     "name": "stdout",
     "output_type": "stream",
     "text": [
      "val loss:  1724.0359652837117\n",
      "итотрийри cer:  1.5555555555555556\n",
      "ховужрворгроромдугвеноеьнойи cer:  0.7857142857142857\n",
      "val cer: 0.9693692667443393\n",
      "epoch 64\n"
     ]
    },
    {
     "name": "stderr",
     "output_type": "stream",
     "text": [
      "100%|██████████| 300/300 [00:17<00:00, 17.25it/s]\n"
     ]
    },
    {
     "name": "stdout",
     "output_type": "stream",
     "text": [
      "train loss:  1.1839155228034999\n",
      "витаминыдлякожи cer:  0.0\n",
      "нежныйвкусмалы cer:  1.0714285714285714\n",
      "train cer: 0.8542480942904748\n"
     ]
    },
    {
     "name": "stderr",
     "output_type": "stream",
     "text": [
      "100%|██████████| 95/95 [00:02<00:00, 33.18it/s]\n"
     ]
    },
    {
     "name": "stdout",
     "output_type": "stream",
     "text": [
      "val loss:  2659.57279864947\n",
      "ненейжизгонор cer:  1.8461538461538463\n",
      "хныйзогебилцтоыватавтстнткуснвмемкскевадат cer:  0.8333333333333334\n",
      "val cer: 0.9669887504051481\n",
      "epoch 65\n"
     ]
    },
    {
     "name": "stderr",
     "output_type": "stream",
     "text": [
      "100%|██████████| 300/300 [00:15<00:00, 19.86it/s]\n"
     ]
    },
    {
     "name": "stdout",
     "output_type": "stream",
     "text": [
      "train loss:  1.172255923977722\n",
      "холодныйветердуетсгор cer:  0.0\n",
      "тальствовсёвремяменяется cer:  0.8333333333333334\n",
      "train cer: 0.8537873170757987\n"
     ]
    },
    {
     "name": "stderr",
     "output_type": "stream",
     "text": [
      "100%|██████████| 95/95 [00:02<00:00, 35.62it/s]\n"
     ]
    },
    {
     "name": "stdout",
     "output_type": "stream",
     "text": [
      "val loss:  2712.2590338389077\n",
      "тывраз cer:  4.333333333333333\n",
      "соечоера cer:  3.125\n",
      "val cer: 0.9703771043116932\n",
      "epoch 66\n"
     ]
    },
    {
     "name": "stderr",
     "output_type": "stream",
     "text": [
      "100%|██████████| 300/300 [00:16<00:00, 18.62it/s]\n"
     ]
    },
    {
     "name": "stdout",
     "output_type": "stream",
     "text": [
      "train loss:  1.1624462362935772\n",
      "яникогданеувижусолнце cer:  0.0\n",
      "такситакса cer:  1.8\n",
      "train cer: 0.85391790135626\n"
     ]
    },
    {
     "name": "stderr",
     "output_type": "stream",
     "text": [
      "100%|██████████| 95/95 [00:02<00:00, 34.52it/s]\n"
     ]
    },
    {
     "name": "stdout",
     "output_type": "stream",
     "text": [
      "val loss:  2787.1018367211022\n",
      "рвенвоатныйвнове cer:  0.875\n",
      "алсласо cer:  1.8571428571428572\n",
      "val cer: 0.969457646661786\n",
      "epoch 67\n"
     ]
    },
    {
     "name": "stderr",
     "output_type": "stream",
     "text": [
      "100%|██████████| 300/300 [00:19<00:00, 15.62it/s]\n"
     ]
    },
    {
     "name": "stdout",
     "output_type": "stream",
     "text": [
      "train loss:  1.148357129572238\n",
      "морскойзалив cer:  0.0\n",
      "сладкийзапах cer:  0.6666666666666666\n",
      "train cer: 0.8530519091064793\n"
     ]
    },
    {
     "name": "stderr",
     "output_type": "stream",
     "text": [
      "100%|██████████| 95/95 [00:02<00:00, 32.47it/s]\n"
     ]
    },
    {
     "name": "stdout",
     "output_type": "stream",
     "text": [
      "val loss:  2677.492285927137\n",
      "чаонасктвокакяокой cer:  1.6111111111111112\n",
      "хотоивенолнайтйвромнойоко cer:  1.2\n",
      "val cer: 0.9672999273074327\n",
      "epoch 68\n"
     ]
    },
    {
     "name": "stderr",
     "output_type": "stream",
     "text": [
      "100%|██████████| 300/300 [00:20<00:00, 14.72it/s]\n"
     ]
    },
    {
     "name": "stdout",
     "output_type": "stream",
     "text": [
      "train loss:  1.1395439032304326\n",
      "манеж cer:  0.0\n",
      "ребенокиграетсмячомнапляже cer:  0.8846153846153846\n",
      "train cer: 0.8524987861557827\n"
     ]
    },
    {
     "name": "stderr",
     "output_type": "stream",
     "text": [
      "100%|██████████| 95/95 [00:03<00:00, 30.27it/s]\n"
     ]
    },
    {
     "name": "stdout",
     "output_type": "stream",
     "text": [
      "val loss:  2631.917794148127\n",
      "ипниыйовийеапна cer:  2.066666666666667\n",
      "чанатоялюкяконй cer:  2.1333333333333333\n",
      "val cer: 0.9698960365912999\n",
      "epoch 69\n"
     ]
    },
    {
     "name": "stderr",
     "output_type": "stream",
     "text": [
      "100%|██████████| 300/300 [00:21<00:00, 14.13it/s]\n"
     ]
    },
    {
     "name": "stdout",
     "output_type": "stream",
     "text": [
      "train loss:  1.1271411830008624\n",
      "сосновыйбор cer:  0.0\n",
      "разноцветныецветыналугу cer:  0.8260869565217391\n",
      "train cer: 0.8519942099313361\n"
     ]
    },
    {
     "name": "stderr",
     "output_type": "stream",
     "text": [
      "100%|██████████| 95/95 [00:02<00:00, 32.38it/s]\n"
     ]
    },
    {
     "name": "stdout",
     "output_type": "stream",
     "text": [
      "val loss:  3565.432692925135\n",
      "аувейнвоанейнме cer:  1.1333333333333333\n",
      "онмпогогара cer:  1.7272727272727273\n",
      "val cer: 0.9719655458786193\n",
      "epoch 70\n"
     ]
    },
    {
     "name": "stderr",
     "output_type": "stream",
     "text": [
      "100%|██████████| 300/300 [00:17<00:00, 17.30it/s]\n"
     ]
    },
    {
     "name": "stdout",
     "output_type": "stream",
     "text": [
      "train loss:  1.1208598962257867\n",
      "звукморскихволнапобережье cer:  0.04\n",
      "варитькофесоль cer:  1.4285714285714286\n",
      "train cer: 0.8517755364533388\n"
     ]
    },
    {
     "name": "stderr",
     "output_type": "stream",
     "text": [
      "100%|██████████| 95/95 [00:02<00:00, 32.28it/s]\n"
     ]
    },
    {
     "name": "stdout",
     "output_type": "stream",
     "text": [
      "val loss:  3139.7661064863205\n",
      "зеуныситеиосб cer:  1.4615384615384615\n",
      "отмлспор cer:  2.375\n",
      "val cer: 0.9667353829946913\n",
      "epoch 71\n"
     ]
    },
    {
     "name": "stderr",
     "output_type": "stream",
     "text": [
      "100%|██████████| 300/300 [00:18<00:00, 16.46it/s]\n"
     ]
    },
    {
     "name": "stdout",
     "output_type": "stream",
     "text": [
      "train loss:  1.115695224251858\n",
      "щапогоди cer:  0.0\n",
      "теплыйветер cer:  0.9090909090909091\n",
      "train cer: 0.8514481593205587\n"
     ]
    },
    {
     "name": "stderr",
     "output_type": "stream",
     "text": [
      "100%|██████████| 95/95 [00:02<00:00, 36.42it/s]\n"
     ]
    },
    {
     "name": "stdout",
     "output_type": "stream",
     "text": [
      "val loss:  4669.615690251191\n",
      "йаеусдбе cer:  1.5\n",
      "хораодокношншапае cer:  0.8235294117647058\n",
      "val cer: 0.9691027010862726\n",
      "epoch 72\n"
     ]
    },
    {
     "name": "stderr",
     "output_type": "stream",
     "text": [
      "100%|██████████| 300/300 [00:16<00:00, 18.07it/s]\n"
     ]
    },
    {
     "name": "stdout",
     "output_type": "stream",
     "text": [
      "train loss:  1.101667096052455\n",
      "владелец cer:  0.0\n",
      "красивыеромашки cer:  0.8666666666666667\n",
      "train cer: 0.8514155045976807\n"
     ]
    },
    {
     "name": "stderr",
     "output_type": "stream",
     "text": [
      "100%|██████████| 95/95 [00:02<00:00, 33.74it/s]\n"
     ]
    },
    {
     "name": "stdout",
     "output_type": "stream",
     "text": [
      "val loss:  5063.471997698148\n",
      "ононсшеьае cer:  3.1\n",
      "сиотроваучорене cer:  1.9333333333333333\n",
      "val cer: 0.969200382909896\n",
      "epoch 73\n"
     ]
    },
    {
     "name": "stderr",
     "output_type": "stream",
     "text": [
      "100%|██████████| 300/300 [00:18<00:00, 16.50it/s]\n"
     ]
    },
    {
     "name": "stdout",
     "output_type": "stream",
     "text": [
      "train loss:  1.1006487132702951\n",
      "сияющийдрагоценыйкамень cer:  0.043478260869565216\n",
      "адрес cer:  4.2\n",
      "train cer: 0.851388633061721\n"
     ]
    },
    {
     "name": "stderr",
     "output_type": "stream",
     "text": [
      "100%|██████████| 95/95 [00:02<00:00, 35.94it/s]\n"
     ]
    },
    {
     "name": "stdout",
     "output_type": "stream",
     "text": [
      "val loss:  5156.163604656856\n",
      "соыйрелеупобях cer:  1.2857142857142858\n",
      "хоцононаишьае cer:  1.3076923076923077\n",
      "val cer: 0.9685394825239263\n",
      "epoch 74\n"
     ]
    },
    {
     "name": "stderr",
     "output_type": "stream",
     "text": [
      "100%|██████████| 300/300 [00:18<00:00, 16.19it/s]\n"
     ]
    },
    {
     "name": "stdout",
     "output_type": "stream",
     "text": [
      "train loss:  1.1018843472598003\n",
      "гоненокрасныйзакат cer:  0.16666666666666666\n",
      "начальствовызывает cer:  0.8888888888888888\n",
      "train cer: 0.8511137564850231\n"
     ]
    },
    {
     "name": "stderr",
     "output_type": "stream",
     "text": [
      "100%|██████████| 95/95 [00:03<00:00, 31.47it/s]\n"
     ]
    },
    {
     "name": "stdout",
     "output_type": "stream",
     "text": [
      "val loss:  7660.880288441976\n",
      "яоволвкосоеоеоесевосда cer:  1.3181818181818181\n",
      "ойуйтйкдла cer:  3.4\n",
      "val cer: 0.968845285882247\n",
      "epoch 75\n"
     ]
    },
    {
     "name": "stderr",
     "output_type": "stream",
     "text": [
      "100%|██████████| 300/300 [00:14<00:00, 20.14it/s]\n"
     ]
    },
    {
     "name": "stdout",
     "output_type": "stream",
     "text": [
      "train loss:  1.0928645930020913\n",
      "круглаяшляанаголове cer:  0.05263157894736842\n",
      "гласвопиющеговпустыне cer:  0.8571428571428571\n",
      "train cer: 0.8512540130155414\n"
     ]
    },
    {
     "name": "stderr",
     "output_type": "stream",
     "text": [
      "100%|██████████| 95/95 [00:02<00:00, 34.47it/s]\n"
     ]
    },
    {
     "name": "stdout",
     "output_type": "stream",
     "text": [
      "val loss:  4329.82548101743\n",
      "чанатолюкякоеь cer:  2.0\n",
      "мукити cer:  5.333333333333333\n",
      "val cer: 0.9667644561542496\n",
      "epoch 76\n"
     ]
    },
    {
     "name": "stderr",
     "output_type": "stream",
     "text": [
      "100%|██████████| 300/300 [00:18<00:00, 15.88it/s]\n"
     ]
    },
    {
     "name": "stdout",
     "output_type": "stream",
     "text": [
      "train loss:  1.0868135282763611\n",
      "спрейоткомаров cer:  0.0\n",
      "чистосердечный cer:  1.0\n",
      "train cer: 0.8507292075823906\n"
     ]
    },
    {
     "name": "stderr",
     "output_type": "stream",
     "text": [
      "100%|██████████| 95/95 [00:02<00:00, 32.67it/s]\n"
     ]
    },
    {
     "name": "stdout",
     "output_type": "stream",
     "text": [
      "val loss:  4865.91206351916\n",
      "шкокве cer:  4.833333333333333\n",
      "найвтвмотлвтутклняоиогочеуроко cer:  0.9333333333333333\n",
      "val cer: 0.9690183515761954\n",
      "epoch 77\n"
     ]
    },
    {
     "name": "stderr",
     "output_type": "stream",
     "text": [
      "100%|██████████| 300/300 [00:19<00:00, 15.43it/s]\n"
     ]
    },
    {
     "name": "stdout",
     "output_type": "stream",
     "text": [
      "train loss:  1.0842667208161465\n",
      "утебяестьхоби cer:  0.15384615384615385\n",
      "кататьсяналыжах cer:  0.9333333333333333\n",
      "train cer: 0.8506296977164673\n"
     ]
    },
    {
     "name": "stderr",
     "output_type": "stream",
     "text": [
      "100%|██████████| 95/95 [00:02<00:00, 35.72it/s]\n"
     ]
    },
    {
     "name": "stdout",
     "output_type": "stream",
     "text": [
      "val loss:  7738.032482941945\n",
      "горогдгдгреа cer:  0.8333333333333334\n",
      "могазблонекртие cer:  0.8\n",
      "val cer: 0.9698489013522105\n",
      "epoch 78\n"
     ]
    },
    {
     "name": "stderr",
     "output_type": "stream",
     "text": [
      "100%|██████████| 300/300 [00:16<00:00, 18.15it/s]\n"
     ]
    },
    {
     "name": "stdout",
     "output_type": "stream",
     "text": [
      "train loss:  1.0799457013012959\n",
      "мощныйпорыв cer:  0.0\n",
      "танцеватькаквпоследнийраз cer:  0.88\n",
      "train cer: 0.8507534784474801\n"
     ]
    },
    {
     "name": "stderr",
     "output_type": "stream",
     "text": [
      "100%|██████████| 95/95 [00:02<00:00, 36.64it/s]\n"
     ]
    },
    {
     "name": "stdout",
     "output_type": "stream",
     "text": [
      "val loss:  6745.015892585118\n",
      "киоиарои cer:  2.625\n",
      "гралйц cer:  3.5\n",
      "val cer: 0.9682293976047687\n",
      "epoch 79\n"
     ]
    },
    {
     "name": "stderr",
     "output_type": "stream",
     "text": [
      "100%|██████████| 300/300 [00:17<00:00, 17.17it/s]\n"
     ]
    },
    {
     "name": "stdout",
     "output_type": "stream",
     "text": [
      "train loss:  1.0699403087958148\n",
      "красивыйцветокрозы cer:  0.0\n",
      "отличныеновости cer:  1.0\n",
      "train cer: 0.8501496768182891\n"
     ]
    },
    {
     "name": "stderr",
     "output_type": "stream",
     "text": [
      "100%|██████████| 95/95 [00:02<00:00, 35.18it/s]\n"
     ]
    },
    {
     "name": "stdout",
     "output_type": "stream",
     "text": [
      "val loss:  12658.84055018425\n",
      "ресвавстсестсыамтлнорийзатне cer:  0.9285714285714286\n",
      "велусвдновенононвоней cer:  1.1428571428571428\n",
      "val cer: 0.9675228429886613\n",
      "epoch 80\n"
     ]
    },
    {
     "name": "stderr",
     "output_type": "stream",
     "text": [
      "100%|██████████| 300/300 [00:18<00:00, 16.41it/s]\n"
     ]
    },
    {
     "name": "stdout",
     "output_type": "stream",
     "text": [
      "train loss:  1.062555570935094\n",
      "дезодорантбезапа cer:  0.1875\n",
      "румяныйотмороза cer:  1.1333333333333333\n",
      "train cer: 0.850151391745355\n"
     ]
    },
    {
     "name": "stderr",
     "output_type": "stream",
     "text": [
      "100%|██████████| 95/95 [00:02<00:00, 34.68it/s]\n"
     ]
    },
    {
     "name": "stdout",
     "output_type": "stream",
     "text": [
      "val loss:  10658.971192439398\n",
      "нипаогаора cer:  1.2\n",
      "нивеыйаваийеинзна cer:  0.9411764705882353\n",
      "val cer: 0.9693244556077615\n",
      "epoch 81\n"
     ]
    },
    {
     "name": "stderr",
     "output_type": "stream",
     "text": [
      "100%|██████████| 300/300 [00:17<00:00, 17.25it/s]\n"
     ]
    },
    {
     "name": "stdout",
     "output_type": "stream",
     "text": [
      "train loss:  1.0573545365634551\n",
      "ребенокиграетсмячомнапляже cer:  0.0\n",
      "яникогданеувижусолнце cer:  0.9523809523809523\n",
      "train cer: 0.8498236054772473\n"
     ]
    },
    {
     "name": "stderr",
     "output_type": "stream",
     "text": [
      "100%|██████████| 95/95 [00:02<00:00, 34.21it/s]\n"
     ]
    },
    {
     "name": "stdout",
     "output_type": "stream",
     "text": [
      "val loss:  11326.316345850626\n",
      "неитвстисеозетр cer:  1.2666666666666666\n",
      "озт cer:  7.333333333333333\n",
      "val cer: 0.9700244125572549\n",
      "epoch 82\n"
     ]
    },
    {
     "name": "stderr",
     "output_type": "stream",
     "text": [
      "100%|██████████| 300/300 [00:20<00:00, 14.99it/s]\n"
     ]
    },
    {
     "name": "stdout",
     "output_type": "stream",
     "text": [
      "train loss:  1.0535607694391396\n",
      "варитькофесолью cer:  0.06666666666666667\n",
      "побывалвчёрнойдыре cer:  0.9444444444444444\n",
      "train cer: 0.8496247088484724\n"
     ]
    },
    {
     "name": "stderr",
     "output_type": "stream",
     "text": [
      "100%|██████████| 95/95 [00:02<00:00, 33.14it/s]\n"
     ]
    },
    {
     "name": "stdout",
     "output_type": "stream",
     "text": [
      "val loss:  13360.359426697096\n",
      "днайтусыйвзвае cer:  1.2142857142857142\n",
      "яовлвкосодесосда cer:  1.0625\n",
      "val cer: 0.9694555368151363\n",
      "epoch 83\n"
     ]
    },
    {
     "name": "stderr",
     "output_type": "stream",
     "text": [
      "100%|██████████| 300/300 [00:18<00:00, 16.31it/s]\n"
     ]
    },
    {
     "name": "stdout",
     "output_type": "stream",
     "text": [
      "train loss:  1.0516029822073902\n",
      "однокласники cer:  0.08333333333333333\n",
      "кактыменябесишь cer:  0.9333333333333333\n",
      "train cer: 0.8496312894906496\n"
     ]
    },
    {
     "name": "stderr",
     "output_type": "stream",
     "text": [
      "100%|██████████| 95/95 [00:02<00:00, 36.16it/s]\n"
     ]
    },
    {
     "name": "stdout",
     "output_type": "stream",
     "text": [
      "val loss:  17319.874698003132\n",
      "пбнайсвтвемотвоакурняокореуоко cer:  1.3\n",
      "хоаоношншае cer:  3.4545454545454546\n",
      "val cer: 0.9695970169568945\n",
      "epoch 84\n"
     ]
    },
    {
     "name": "stderr",
     "output_type": "stream",
     "text": [
      "100%|██████████| 300/300 [00:18<00:00, 16.41it/s]\n"
     ]
    },
    {
     "name": "stdout",
     "output_type": "stream",
     "text": [
      "train loss:  1.0495629888832372\n",
      "времякарьеры cer:  0.0\n",
      "роскошныйбрилиант cer:  0.9411764705882353\n",
      "train cer: 0.849765442290295\n"
     ]
    },
    {
     "name": "stderr",
     "output_type": "stream",
     "text": [
      "100%|██████████| 95/95 [00:02<00:00, 35.30it/s]\n"
     ]
    },
    {
     "name": "stdout",
     "output_type": "stream",
     "text": [
      "val loss:  22856.249679505825\n",
      "оволвкосоеодереоевосда cer:  1.3181818181818181\n",
      "еийойеи cer:  4.571428571428571\n",
      "val cer: 0.9714184906661435\n",
      "epoch 85\n"
     ]
    },
    {
     "name": "stderr",
     "output_type": "stream",
     "text": [
      "100%|██████████| 300/300 [00:18<00:00, 16.22it/s]\n"
     ]
    },
    {
     "name": "stdout",
     "output_type": "stream",
     "text": [
      "train loss:  1.0465202929569637\n",
      "стеныпокрашены cer:  0.0\n",
      "объезднаядорога cer:  0.9333333333333333\n",
      "train cer: 0.849486660307302\n"
     ]
    },
    {
     "name": "stderr",
     "output_type": "stream",
     "text": [
      "100%|██████████| 95/95 [00:02<00:00, 34.35it/s]\n"
     ]
    },
    {
     "name": "stdout",
     "output_type": "stream",
     "text": [
      "val loss:  22333.18060050408\n",
      "яовлвкосоеодесоевосда cer:  1.380952380952381\n",
      "спаеыеои cer:  3.75\n",
      "val cer: 0.9689369798945993\n",
      "epoch 86\n"
     ]
    },
    {
     "name": "stderr",
     "output_type": "stream",
     "text": [
      "100%|██████████| 300/300 [00:20<00:00, 14.87it/s]\n"
     ]
    },
    {
     "name": "stdout",
     "output_type": "stream",
     "text": [
      "train loss:  1.0453241584308917\n",
      "ябылсчатливздесь cer:  0.0\n",
      "густойпар cer:  1.5555555555555556\n",
      "train cer: 0.8493163372176209\n"
     ]
    },
    {
     "name": "stderr",
     "output_type": "stream",
     "text": [
      "100%|██████████| 95/95 [00:02<00:00, 36.02it/s]\n"
     ]
    },
    {
     "name": "stdout",
     "output_type": "stream",
     "text": [
      "val loss:  22262.181672036648\n",
      "апн cer:  6.333333333333333\n",
      "ленот cer:  3.0\n",
      "val cer: 0.9702627506949305\n",
      "epoch 87\n"
     ]
    },
    {
     "name": "stderr",
     "output_type": "stream",
     "text": [
      "100%|██████████| 300/300 [00:18<00:00, 16.17it/s]\n"
     ]
    },
    {
     "name": "stdout",
     "output_type": "stream",
     "text": [
      "train loss:  1.0429877854660896\n",
      "получилмонетку cer:  0.0\n",
      "каксказатьейобэтом cer:  0.8888888888888888\n",
      "train cer: 0.8492409953546018\n"
     ]
    },
    {
     "name": "stderr",
     "output_type": "stream",
     "text": [
      "100%|██████████| 95/95 [00:03<00:00, 30.00it/s]\n"
     ]
    },
    {
     "name": "stdout",
     "output_type": "stream",
     "text": [
      "val loss:  19250.196800231934\n",
      "пар cer:  3.3333333333333335\n",
      "койкосби cer:  1.25\n",
      "val cer: 0.9691920581986904\n",
      "epoch 88\n"
     ]
    },
    {
     "name": "stderr",
     "output_type": "stream",
     "text": [
      "100%|██████████| 300/300 [00:17<00:00, 17.53it/s]\n"
     ]
    },
    {
     "name": "stdout",
     "output_type": "stream",
     "text": [
      "train loss:  1.0426953789403668\n",
      "бегпопескунаберегуморя cer:  0.0\n",
      "густаякоса cer:  1.8\n",
      "train cer: 0.848934477206035\n"
     ]
    },
    {
     "name": "stderr",
     "output_type": "stream",
     "text": [
      "100%|██████████| 95/95 [00:03<00:00, 27.97it/s]\n"
     ]
    },
    {
     "name": "stdout",
     "output_type": "stream",
     "text": [
      "val loss:  34983.9959149758\n",
      "лб cer:  5.5\n",
      "срежвовсыисенойвморе cer:  0.9\n",
      "val cer: 0.9692437021361286\n",
      "epoch 89\n"
     ]
    },
    {
     "name": "stderr",
     "output_type": "stream",
     "text": [
      "100%|██████████| 300/300 [00:17<00:00, 17.49it/s]\n"
     ]
    },
    {
     "name": "stdout",
     "output_type": "stream",
     "text": [
      "train loss:  1.0439602869293618\n",
      "сломаныйинструмент cer:  0.05555555555555555\n",
      "странагденезаходитсолнце cer:  0.8333333333333334\n",
      "train cer: 0.8491389532802113\n"
     ]
    },
    {
     "name": "stderr",
     "output_type": "stream",
     "text": [
      "100%|██████████| 95/95 [00:03<00:00, 29.28it/s]\n"
     ]
    },
    {
     "name": "stdout",
     "output_type": "stream",
     "text": [
      "val loss:  26319.540034691494\n",
      "жкыйчоволсюоксовоеы cer:  1.631578947368421\n",
      "птайвтрвеотевнвклняекоиореяеуок cer:  1.064516129032258\n",
      "val cer: 0.970542184233286\n",
      "epoch 90\n"
     ]
    },
    {
     "name": "stderr",
     "output_type": "stream",
     "text": [
      "100%|██████████| 300/300 [00:21<00:00, 13.70it/s]\n"
     ]
    },
    {
     "name": "stdout",
     "output_type": "stream",
     "text": [
      "train loss:  1.0431682263497895\n",
      "густойсироп cer:  0.0\n",
      "работать cer:  1.25\n",
      "train cer: 0.8492922827333901\n"
     ]
    },
    {
     "name": "stderr",
     "output_type": "stream",
     "text": [
      " 98%|█████████▊| 93/95 [00:02<00:00, 31.32it/s]\n"
     ]
    },
    {
     "ename": "KeyboardInterrupt",
     "evalue": "",
     "output_type": "error",
     "traceback": [
      "\u001b[0;31m---------------------------------------------------------------------------\u001b[0m",
      "\u001b[0;31mKeyboardInterrupt\u001b[0m                         Traceback (most recent call last)",
      "Cell \u001b[0;32mIn[72], line 17\u001b[0m\n\u001b[1;32m     15\u001b[0m train_cer\u001b[38;5;241m.\u001b[39mappend(tc)\n\u001b[1;32m     16\u001b[0m \u001b[38;5;28mprint\u001b[39m(\u001b[38;5;124m\"\u001b[39m\u001b[38;5;124mtrain cer:\u001b[39m\u001b[38;5;124m\"\u001b[39m, tc)\n\u001b[0;32m---> 17\u001b[0m hist, r, target \u001b[38;5;241m=\u001b[39m \u001b[43mval_step\u001b[49m\u001b[43m(\u001b[49m\u001b[43m)\u001b[49m\n\u001b[1;32m     18\u001b[0m vl \u001b[38;5;241m=\u001b[39m \u001b[38;5;28msum\u001b[39m(hist)\u001b[38;5;241m/\u001b[39m\u001b[38;5;28mlen\u001b[39m(hist)\n\u001b[1;32m     19\u001b[0m \u001b[38;5;28mprint\u001b[39m(\u001b[38;5;124m\"\u001b[39m\u001b[38;5;124mval loss: \u001b[39m\u001b[38;5;124m\"\u001b[39m, vl)\n",
      "Cell \u001b[0;32mIn[66], line 15\u001b[0m, in \u001b[0;36mval_step\u001b[0;34m()\u001b[0m\n\u001b[1;32m     13\u001b[0m output \u001b[38;5;241m=\u001b[39m model(spectrograms)\n\u001b[1;32m     14\u001b[0m lv \u001b[38;5;241m=\u001b[39m loss(output\u001b[38;5;241m.\u001b[39mpermute(\u001b[38;5;241m1\u001b[39m,\u001b[38;5;241m0\u001b[39m,\u001b[38;5;241m2\u001b[39m), target_t, get_y_lengths(output), target_len)\n\u001b[0;32m---> 15\u001b[0m lve\u001b[38;5;241m=\u001b[39m \u001b[43mtorch\u001b[49m\u001b[38;5;241;43m.\u001b[39;49m\u001b[43mexp\u001b[49m\u001b[43m(\u001b[49m\u001b[43mlv\u001b[49m\u001b[43m)\u001b[49m\u001b[38;5;241m.\u001b[39mitem()\n\u001b[1;32m     16\u001b[0m history\u001b[38;5;241m.\u001b[39mappend(lve)\n\u001b[1;32m     17\u001b[0m r\u001b[38;5;241m.\u001b[39mappend(output\u001b[38;5;241m.\u001b[39margmax(\u001b[38;5;241m-\u001b[39m\u001b[38;5;241m1\u001b[39m))\n",
      "\u001b[0;31mKeyboardInterrupt\u001b[0m: "
     ]
    }
   ],
   "source": [
    "train_loss=[]\n",
    "train_cer=[]\n",
    "val_loss=[]\n",
    "val_cer=[]\n",
    "\n",
    "for epoch in range(100):\n",
    "    print(\"epoch\", epoch)\n",
    "    hist, r, target = train_step()\n",
    "    tl = sum(hist)/len(hist)\n",
    "    train_loss.append(tl)\n",
    "    print(\"train loss: \", tl)\n",
    "    show_batch(r[-1], target[-1])\n",
    "    show_batch(r[-2], target[-1])\n",
    "    tc = avg_cer(r, target)\n",
    "    train_cer.append(tc)\n",
    "    print(\"train cer:\", tc)\n",
    "    hist, r, target = val_step()\n",
    "    vl = sum(hist)/len(hist)\n",
    "    print(\"val loss: \", vl)\n",
    "    val_loss.append(vl)\n",
    "    show_batch(r[-1], target[-1])\n",
    "    show_batch(r[-2], target[-1])\n",
    "    vc = avg_cer(r, target)\n",
    "    val_cer.append(avg_cer(r, target))\n",
    "    print(\"val cer:\", vc)"
   ]
  },
  {
   "cell_type": "code",
   "execution_count": 73,
   "metadata": {},
   "outputs": [
    {
     "data": {
      "text/plain": [
       "<matplotlib.legend.Legend at 0x7f29f0689310>"
      ]
     },
     "execution_count": 73,
     "metadata": {},
     "output_type": "execute_result"
    },
    {
     "data": {
      "image/png": "[encoded data removed]",
      "text/plain": [
       "<Figure size 640x480 with 1 Axes>"
      ]
     },
     "metadata": {},
     "output_type": "display_data"
    }
   ],
   "source": [
    "plt.plot(train_cer, label='train cer')\n",
    "plt.plot(val_cer, label='val cer')\n",
    "plt.legend()"
   ]
  },
  {
   "cell_type": "code",
   "execution_count": 74,
   "metadata": {},
   "outputs": [
    {
     "data": {
      "text/plain": [
       "<matplotlib.legend.Legend at 0x7f29f0582a10>"
      ]
     },
     "execution_count": 74,
     "metadata": {},
     "output_type": "execute_result"
    },
    {
     "data": {
      "image/png": "[encoded data removed]",
      "text/plain": [
       "<Figure size 640x480 with 1 Axes>"
      ]
     },
     "metadata": {},
     "output_type": "display_data"
    }
   ],
   "source": [
    "plt.plot([math.log(i) for i in train_loss], label='train loss')\n",
    "plt.plot([math.log(i) for i in val_loss], label='train loss')\n",
    "plt.legend()"
   ]
  },
  {
   "cell_type": "code",
   "execution_count": 75,
   "metadata": {},
   "outputs": [],
   "source": [
    "torch.save(model, 'arina1903.torch')"
   ]
  },
  {
   "cell_type": "code",
   "execution_count": null,
   "metadata": {},
   "outputs": [],
   "source": []
  }
 ],
 "metadata": {
  "colab": {
   "provenance": []
  },
  "kernelspec": {
   "display_name": "Python 3 (ipykernel)",
   "language": "python",
   "name": "python3"
  },
  "language_info": {
   "codemirror_mode": {
    "name": "ipython",
    "version": 3
   },
   "file_extension": ".py",
   "mimetype": "text/x-python",
   "name": "python",
   "nbconvert_exporter": "python",
   "pygments_lexer": "ipython3",
   "version": "3.11.6"
  }
 },
 "nbformat": 4,
 "nbformat_minor": 4
}
